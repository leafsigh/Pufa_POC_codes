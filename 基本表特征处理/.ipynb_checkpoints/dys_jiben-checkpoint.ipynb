{
 "cells": [
  {
   "cell_type": "code",
   "execution_count": 66,
   "metadata": {},
   "outputs": [],
   "source": [
    "import pandas as pd\n",
    "import numpy as np\n",
    "import Memory as mm\n",
    "import matplotlib.pyplot as plt\n",
    "import seaborn as sns"
   ]
  },
  {
   "cell_type": "code",
   "execution_count": 67,
   "metadata": {},
   "outputs": [
    {
     "name": "stdout",
     "output_type": "stream",
     "text": [
      "Reduce Memory Usage Function Reports:\n",
      "Memory usage of dataframe is 1259.57 MB\n",
      "Memory usage after optimization is: 869.85 MB\n",
      "Decreased by 30.9%\n",
      " \n"
     ]
    }
   ],
   "source": [
    "jiben = pd.read_csv('refer/jiben_vars_new_20200424.csv',skiprows=list(range(779441,779509)),\n",
    "                    encoding=\"ISO-8859-1\",error_bad_lines=False,low_memory=False)\n",
    "jiben = mm.reduce_mem_usage(jiben)\n",
    "strange_bad = jiben['bad'].value_counts().index[-1]\n",
    "jiben['bad'].replace({strange_bad:'N'},inplace=True)\n",
    "jiben['bad'].fillna('N',inplace=True)"
   ]
  },
  {
   "cell_type": "code",
   "execution_count": 68,
   "metadata": {},
   "outputs": [],
   "source": [
    "jiben_GB = jiben.loc[(jiben['bad']=='G')|(jiben['bad']=='B')]"
   ]
  },
  {
   "cell_type": "markdown",
   "metadata": {},
   "source": [
    "<font color='green'>**年龄**</font>"
   ]
  },
  {
   "cell_type": "code",
   "execution_count": 26,
   "metadata": {},
   "outputs": [],
   "source": [
    "# sns.kdeplot(jiben_GB['var_jb_1'],jiben_GB['bad'].replace({'G':1,'B':0}),shade=True)"
   ]
  },
  {
   "cell_type": "code",
   "execution_count": 69,
   "metadata": {},
   "outputs": [],
   "source": [
    "strange = jiben['var_jb_1'].value_counts().index[-1]\n",
    "jiben['var_jb_1'].replace({strange:100},inplace=True)"
   ]
  },
  {
   "cell_type": "code",
   "execution_count": 70,
   "metadata": {},
   "outputs": [],
   "source": [
    "jiben['var_jb_1'] = jiben['var_jb_1'].astype(float)\n",
    "cond1 = (jiben['var_jb_1']>=18)&(jiben['var_jb_1']<21)\n",
    "cond2 = (jiben['var_jb_1']>=21)&(jiben['var_jb_1']<24)\n",
    "cond3 = (jiben['var_jb_1']>=24)&(jiben['var_jb_1']<28)\n",
    "cond4 = (jiben['var_jb_1']>=28)&(jiben['var_jb_1']<49)\n",
    "cond5 = jiben['var_jb_1']>=49\n",
    "cond6 = jiben['var_jb_1'].isnull()==True\n",
    "\n",
    "ol_thres = jiben['var_jb_1'].quantile(0.99)\n",
    "cond7 = jiben['var_jb_1']>=ol_thres"
   ]
  },
  {
   "cell_type": "code",
   "execution_count": 75,
   "metadata": {},
   "outputs": [],
   "source": [
    "jiben['var_jb_1_18~21'] = cond1*1\n",
    "jiben['var_jb_1_21~24'] = cond2*1\n",
    "jiben['var_jb_1_24~28'] = cond3*1\n",
    "jiben['var_jb_1_28~49'] = cond4*1\n",
    "jiben['var_jb_1_50'] = cond5*1\n",
    "jiben['var_jb_1_na'] = cond6*1\n",
    "jiben['var_jb_1_outlier'] = cond7*1"
   ]
  },
  {
   "cell_type": "code",
   "execution_count": 72,
   "metadata": {},
   "outputs": [
    {
     "data": {
      "text/plain": [
       "<matplotlib.axes._subplots.AxesSubplot at 0x7fa2ea206110>"
      ]
     },
     "execution_count": 72,
     "metadata": {},
     "output_type": "execute_result"
    },
    {
     "data": {
      "image/png": "[encoded data removed]",
      "text/plain": [
       "<Figure size 432x288 with 1 Axes>"
      ]
     },
     "metadata": {
      "needs_background": "light"
     },
     "output_type": "display_data"
    }
   ],
   "source": [
    "sns.kdeplot(jiben_GB['var_jb_1'])"
   ]
  },
  {
   "cell_type": "code",
   "execution_count": 73,
   "metadata": {},
   "outputs": [],
   "source": [
    "age_sum = jiben.loc[(jiben['bad']=='G')|(jiben['bad']=='B')].loc[:,'age18~21':'age_ol'].sum()"
   ]
  },
  {
   "cell_type": "code",
   "execution_count": 74,
   "metadata": {},
   "outputs": [],
   "source": [
    "age18_21_vc = pd.DataFrame(jiben_GB.loc[cond1]['bad'].value_counts())\n",
    "age21_24_vc = pd.DataFrame(jiben_GB.loc[cond2]['bad'].value_counts())\n",
    "age24_28_vc = pd.DataFrame(jiben_GB.loc[cond3]['bad'].value_counts())\n",
    "age28_49_vc = pd.DataFrame(jiben_GB.loc[cond4]['bad'].value_counts())\n",
    "age50_vc = pd.DataFrame(jiben_GB.loc[cond5]['bad'].value_counts())\n",
    "age_na_vc = pd.DataFrame(jiben_GB.loc[cond6]['bad'].value_counts())\n",
    "age_ol_vc = pd.DataFrame(jiben_GB.loc[cond7]['bad'].value_counts())"
   ]
  },
  {
   "cell_type": "code",
   "execution_count": 47,
   "metadata": {},
   "outputs": [],
   "source": [
    "age_GB_concats = pd.concat([age18_21_vc,age21_24_vc,\n",
    "           age24_28_vc,age28_49_vc,\n",
    "           age50_vc,age_na_vc,age_ol_vc],axis=1).T"
   ]
  },
  {
   "cell_type": "code",
   "execution_count": 48,
   "metadata": {},
   "outputs": [
    {
     "data": {
      "text/html": [
       "<div>\n",
       "<style scoped>\n",
       "    .dataframe tbody tr th:only-of-type {\n",
       "        vertical-align: middle;\n",
       "    }\n",
       "\n",
       "    .dataframe tbody tr th {\n",
       "        vertical-align: top;\n",
       "    }\n",
       "\n",
       "    .dataframe thead th {\n",
       "        text-align: right;\n",
       "    }\n",
       "</style>\n",
       "<table border=\"1\" class=\"dataframe\">\n",
       "  <thead>\n",
       "    <tr style=\"text-align: right;\">\n",
       "      <th></th>\n",
       "      <th>G</th>\n",
       "      <th>B</th>\n",
       "    </tr>\n",
       "  </thead>\n",
       "  <tbody>\n",
       "    <tr>\n",
       "      <th>bad</th>\n",
       "      <td>21085</td>\n",
       "      <td>6105</td>\n",
       "    </tr>\n",
       "    <tr>\n",
       "      <th>bad</th>\n",
       "      <td>83128</td>\n",
       "      <td>13713</td>\n",
       "    </tr>\n",
       "    <tr>\n",
       "      <th>bad</th>\n",
       "      <td>164333</td>\n",
       "      <td>20140</td>\n",
       "    </tr>\n",
       "    <tr>\n",
       "      <th>bad</th>\n",
       "      <td>579202</td>\n",
       "      <td>52618</td>\n",
       "    </tr>\n",
       "    <tr>\n",
       "      <th>bad</th>\n",
       "      <td>40439</td>\n",
       "      <td>4374</td>\n",
       "    </tr>\n",
       "    <tr>\n",
       "      <th>bad</th>\n",
       "      <td>58</td>\n",
       "      <td>6</td>\n",
       "    </tr>\n",
       "    <tr>\n",
       "      <th>bad</th>\n",
       "      <td>9808</td>\n",
       "      <td>1037</td>\n",
       "    </tr>\n",
       "  </tbody>\n",
       "</table>\n",
       "</div>"
      ],
      "text/plain": [
       "          G      B\n",
       "bad   21085   6105\n",
       "bad   83128  13713\n",
       "bad  164333  20140\n",
       "bad  579202  52618\n",
       "bad   40439   4374\n",
       "bad      58      6\n",
       "bad    9808   1037"
      ]
     },
     "execution_count": 48,
     "metadata": {},
     "output_type": "execute_result"
    }
   ],
   "source": [
    "age_GB_concats"
   ]
  },
  {
   "cell_type": "code",
   "execution_count": 50,
   "metadata": {},
   "outputs": [],
   "source": [
    "age_vc_df = pd.DataFrame(age_sum)"
   ]
  },
  {
   "cell_type": "code",
   "execution_count": 55,
   "metadata": {},
   "outputs": [],
   "source": [
    "age_vc_df.to_csv('age_num_sample.csv',index=True)\n",
    "age_GB_concats.to_csv('age_GB.csv',index=False)"
   ]
  },
  {
   "cell_type": "markdown",
   "metadata": {},
   "source": [
    "<font color='green'>**渠道**</font>"
   ]
  },
  {
   "cell_type": "code",
   "execution_count": 77,
   "metadata": {},
   "outputs": [],
   "source": [
    "qudao_cond1 = [\"JS88\",\"CS88\",\"HD01\",\"OT99\",\"WDYF\",\"JYHD\",\"WDQC\",\"DXDF\",\"SK99\",\"XSXY\"]\n",
    "qudao_cond2 = [\"ATM9\",\"DS99\",\"WZSQ\",\"BSFQ\",\"WA99\"]\n",
    "qudao_cond3 = [\"GA99\",\"ZX99\",\"WDFQ\",\"DFJ2\",\"WAGY\"]\n",
    "qudao_cond4 = [\"BS99\",\"JS89\",\"JS86\",\"WLWH\",\"TMDF\",\"ZXFQ\",\"DSXS\",\"YX99\"]\n",
    "qudao_cond5 = [\"PDSS\",\"ZHDF\",\"QF88\",\"KZDF\",\"YMW9\",\"JHJH\",\"DST2\",\"ST99\",\"DSZD\",\"KZYH\",\n",
    "               \"YS99\",\"BSTB\",\"DSL3\",\"XS99\",\"DSL2\",\"WDGJ\",\"GZDX\",\"GADM\",\"WADZ\"]\n",
    "qudao_cond7 = \"\""
   ]
  },
  {
   "cell_type": "code",
   "execution_count": 78,
   "metadata": {},
   "outputs": [],
   "source": [
    "cond1 = jiben['var_jb_2'].isin(qudao_cond1)\n",
    "cond2 = jiben['var_jb_2'].isin(qudao_cond2)\n",
    "cond3 = jiben['var_jb_2'].isin(qudao_cond3)\n",
    "cond4 = jiben['var_jb_2'].isin(qudao_cond4)\n",
    "cond5 = jiben['var_jb_2'].isin(qudao_cond5)\n",
    "cond6 = jiben['var_jb_2'].isnull()==True"
   ]
  },
  {
   "cell_type": "code",
   "execution_count": 79,
   "metadata": {},
   "outputs": [],
   "source": [
    "jiben['var_jb_2_1'] = cond1*1\n",
    "jiben['var_jb_2_2'] = cond2*1\n",
    "jiben['var_jb_2_3'] = cond3*1\n",
    "jiben['var_jb_2_4'] = cond4*1\n",
    "jiben['var_jb_2_5'] = cond5*1\n",
    "jiben['var_jb_2_6'] = cond6*1"
   ]
  },
  {
   "cell_type": "code",
   "execution_count": 81,
   "metadata": {},
   "outputs": [],
   "source": [
    "cond7 = jiben.loc[:,'var_jb_2_1':'var_jb_2_6'].sum(axis=1)==0\n",
    "jiben['var_jb_2_7'] = cond7*1"
   ]
  },
  {
   "cell_type": "code",
   "execution_count": 90,
   "metadata": {},
   "outputs": [
    {
     "data": {
      "text/html": [
       "<div>\n",
       "<style scoped>\n",
       "    .dataframe tbody tr th:only-of-type {\n",
       "        vertical-align: middle;\n",
       "    }\n",
       "\n",
       "    .dataframe tbody tr th {\n",
       "        vertical-align: top;\n",
       "    }\n",
       "\n",
       "    .dataframe thead th {\n",
       "        text-align: right;\n",
       "    }\n",
       "</style>\n",
       "<table border=\"1\" class=\"dataframe\">\n",
       "  <thead>\n",
       "    <tr style=\"text-align: right;\">\n",
       "      <th></th>\n",
       "      <th>0</th>\n",
       "    </tr>\n",
       "  </thead>\n",
       "  <tbody>\n",
       "    <tr>\n",
       "      <th>var_jb_2_2</th>\n",
       "      <td>748909</td>\n",
       "    </tr>\n",
       "    <tr>\n",
       "      <th>var_jb_2_3</th>\n",
       "      <td>44223</td>\n",
       "    </tr>\n",
       "    <tr>\n",
       "      <th>var_jb_2_4</th>\n",
       "      <td>178238</td>\n",
       "    </tr>\n",
       "    <tr>\n",
       "      <th>var_jb_2_5</th>\n",
       "      <td>9181</td>\n",
       "    </tr>\n",
       "    <tr>\n",
       "      <th>var_jb_2_6</th>\n",
       "      <td>0</td>\n",
       "    </tr>\n",
       "    <tr>\n",
       "      <th>var_jb_2_7</th>\n",
       "      <td>1861</td>\n",
       "    </tr>\n",
       "  </tbody>\n",
       "</table>\n",
       "</div>"
      ],
      "text/plain": [
       "                 0\n",
       "var_jb_2_2  748909\n",
       "var_jb_2_3   44223\n",
       "var_jb_2_4  178238\n",
       "var_jb_2_5    9181\n",
       "var_jb_2_6       0\n",
       "var_jb_2_7    1861"
      ]
     },
     "execution_count": 90,
     "metadata": {},
     "output_type": "execute_result"
    }
   ],
   "source": [
    "var_jb_2_vc = pd.DataFrame(jiben.loc[(jiben['bad']=='G')|(jiben['bad']=='B')].loc[:,'var_jb_2_2':'var_jb_2_7'].sum())\n",
    "var_jb_2_vc.to_csv('var_jb_2_numsamples.csv',index=True)"
   ]
  },
  {
   "cell_type": "code",
   "execution_count": 92,
   "metadata": {},
   "outputs": [],
   "source": [
    "index = list(var_jb_2_vc.index)\n",
    "for i in range(len(index)):\n",
    "    if i==0:\n",
    "        temp_df1 = pd.DataFrame(jiben_GB.loc[jiben[index[i]]==1]['bad'].value_counts())\n",
    "    else:\n",
    "        temp_df2 = pd.DataFrame(jiben_GB.loc[jiben[index[i]]==1]['bad'].value_counts())\n",
    "        temp_df1 = pd.concat([temp_df1,temp_df2],axis=1)"
   ]
  },
  {
   "cell_type": "code",
   "execution_count": 102,
   "metadata": {},
   "outputs": [],
   "source": [
    "temp_df = temp_df1.T\n",
    "temp_df.index= var_jb_2_vc.index"
   ]
  },
  {
   "cell_type": "code",
   "execution_count": 103,
   "metadata": {},
   "outputs": [
    {
     "data": {
      "text/html": [
       "<div>\n",
       "<style scoped>\n",
       "    .dataframe tbody tr th:only-of-type {\n",
       "        vertical-align: middle;\n",
       "    }\n",
       "\n",
       "    .dataframe tbody tr th {\n",
       "        vertical-align: top;\n",
       "    }\n",
       "\n",
       "    .dataframe thead th {\n",
       "        text-align: right;\n",
       "    }\n",
       "</style>\n",
       "<table border=\"1\" class=\"dataframe\">\n",
       "  <thead>\n",
       "    <tr style=\"text-align: right;\">\n",
       "      <th></th>\n",
       "      <th>0</th>\n",
       "      <th>G</th>\n",
       "      <th>B</th>\n",
       "    </tr>\n",
       "  </thead>\n",
       "  <tbody>\n",
       "    <tr>\n",
       "      <th>var_jb_2_2</th>\n",
       "      <td>748909</td>\n",
       "      <td>663745.0</td>\n",
       "      <td>85164.0</td>\n",
       "    </tr>\n",
       "    <tr>\n",
       "      <th>var_jb_2_3</th>\n",
       "      <td>44223</td>\n",
       "      <td>40555.0</td>\n",
       "      <td>3668.0</td>\n",
       "    </tr>\n",
       "    <tr>\n",
       "      <th>var_jb_2_4</th>\n",
       "      <td>178238</td>\n",
       "      <td>170873.0</td>\n",
       "      <td>7365.0</td>\n",
       "    </tr>\n",
       "    <tr>\n",
       "      <th>var_jb_2_5</th>\n",
       "      <td>9181</td>\n",
       "      <td>8893.0</td>\n",
       "      <td>288.0</td>\n",
       "    </tr>\n",
       "    <tr>\n",
       "      <th>var_jb_2_6</th>\n",
       "      <td>0</td>\n",
       "      <td>NaN</td>\n",
       "      <td>NaN</td>\n",
       "    </tr>\n",
       "    <tr>\n",
       "      <th>var_jb_2_7</th>\n",
       "      <td>1861</td>\n",
       "      <td>1822.0</td>\n",
       "      <td>39.0</td>\n",
       "    </tr>\n",
       "  </tbody>\n",
       "</table>\n",
       "</div>"
      ],
      "text/plain": [
       "                 0         G        B\n",
       "var_jb_2_2  748909  663745.0  85164.0\n",
       "var_jb_2_3   44223   40555.0   3668.0\n",
       "var_jb_2_4  178238  170873.0   7365.0\n",
       "var_jb_2_5    9181    8893.0    288.0\n",
       "var_jb_2_6       0       NaN      NaN\n",
       "var_jb_2_7    1861    1822.0     39.0"
      ]
     },
     "execution_count": 103,
     "metadata": {},
     "output_type": "execute_result"
    }
   ],
   "source": []
  },
  {
   "cell_type": "code",
   "execution_count": 354,
   "metadata": {},
   "outputs": [],
   "source": [
    "def VC_df(var_name,start_name,end_name):\n",
    "    vc = pd.DataFrame(jiben.loc[(jiben['bad']=='G')|(jiben['bad']=='B')].loc[:,start_name:end_name].sum())\n",
    "    index = list(vc.index)\n",
    "    for i in range(len(index)):\n",
    "        if i==0:\n",
    "            temp_df1 = pd.DataFrame(jiben_GB.loc[jiben[index[i]]>0]['bad'].value_counts())\n",
    "        else:\n",
    "            temp_df2 = pd.DataFrame(jiben_GB.loc[jiben[index[i]]>0]['bad'].value_counts())\n",
    "            temp_df1 = pd.concat([temp_df1,temp_df2],axis=1)\n",
    "    temp_df = temp_df1.T\n",
    "    temp_df.index= vc.index\n",
    "    \n",
    "    concat_df = pd.concat([vc,temp_df],axis=1)\n",
    "    concat_df.to_csv(var_name+'_stats.csv',index=True)\n",
    "    \n",
    "    return concat_df"
   ]
  },
  {
   "cell_type": "code",
   "execution_count": 109,
   "metadata": {},
   "outputs": [
    {
     "data": {
      "text/html": [
       "<div>\n",
       "<style scoped>\n",
       "    .dataframe tbody tr th:only-of-type {\n",
       "        vertical-align: middle;\n",
       "    }\n",
       "\n",
       "    .dataframe tbody tr th {\n",
       "        vertical-align: top;\n",
       "    }\n",
       "\n",
       "    .dataframe thead th {\n",
       "        text-align: right;\n",
       "    }\n",
       "</style>\n",
       "<table border=\"1\" class=\"dataframe\">\n",
       "  <thead>\n",
       "    <tr style=\"text-align: right;\">\n",
       "      <th></th>\n",
       "      <th>0</th>\n",
       "      <th>G</th>\n",
       "      <th>B</th>\n",
       "    </tr>\n",
       "  </thead>\n",
       "  <tbody>\n",
       "    <tr>\n",
       "      <th>var_jb_2_1</th>\n",
       "      <td>2789</td>\n",
       "      <td>2357.0</td>\n",
       "      <td>432.0</td>\n",
       "    </tr>\n",
       "    <tr>\n",
       "      <th>var_jb_2_2</th>\n",
       "      <td>748909</td>\n",
       "      <td>663745.0</td>\n",
       "      <td>85164.0</td>\n",
       "    </tr>\n",
       "    <tr>\n",
       "      <th>var_jb_2_3</th>\n",
       "      <td>44223</td>\n",
       "      <td>40555.0</td>\n",
       "      <td>3668.0</td>\n",
       "    </tr>\n",
       "    <tr>\n",
       "      <th>var_jb_2_4</th>\n",
       "      <td>178238</td>\n",
       "      <td>170873.0</td>\n",
       "      <td>7365.0</td>\n",
       "    </tr>\n",
       "    <tr>\n",
       "      <th>var_jb_2_5</th>\n",
       "      <td>9181</td>\n",
       "      <td>8893.0</td>\n",
       "      <td>288.0</td>\n",
       "    </tr>\n",
       "    <tr>\n",
       "      <th>var_jb_2_6</th>\n",
       "      <td>0</td>\n",
       "      <td>NaN</td>\n",
       "      <td>NaN</td>\n",
       "    </tr>\n",
       "  </tbody>\n",
       "</table>\n",
       "</div>"
      ],
      "text/plain": [
       "                 0         G        B\n",
       "var_jb_2_1    2789    2357.0    432.0\n",
       "var_jb_2_2  748909  663745.0  85164.0\n",
       "var_jb_2_3   44223   40555.0   3668.0\n",
       "var_jb_2_4  178238  170873.0   7365.0\n",
       "var_jb_2_5    9181    8893.0    288.0\n",
       "var_jb_2_6       0       NaN      NaN"
      ]
     },
     "execution_count": 109,
     "metadata": {},
     "output_type": "execute_result"
    }
   ],
   "source": [
    "VC_df('var_jb_2','var_jb_2_1','var_jb_2_6')"
   ]
  },
  {
   "cell_type": "markdown",
   "metadata": {},
   "source": [
    "<font color='green'>**城市**</font>"
   ]
  },
  {
   "cell_type": "code",
   "execution_count": 116,
   "metadata": {},
   "outputs": [],
   "source": [
    "city_cond1 = [\"ZZ\",\"SH\",\"BJ\",\"HB\"]\n",
    "cond1 = jiben['var_jb_3'].isin(city_cond1)\n",
    "cond2 = jiben['var_jb_3'].isin(city_cond1)==False\n",
    "jiben['var_jb_3_1'] = cond1*1\n",
    "jiben['var_jb_3_2'] = cond2*1"
   ]
  },
  {
   "cell_type": "code",
   "execution_count": 117,
   "metadata": {},
   "outputs": [
    {
     "data": {
      "text/html": [
       "<div>\n",
       "<style scoped>\n",
       "    .dataframe tbody tr th:only-of-type {\n",
       "        vertical-align: middle;\n",
       "    }\n",
       "\n",
       "    .dataframe tbody tr th {\n",
       "        vertical-align: top;\n",
       "    }\n",
       "\n",
       "    .dataframe thead th {\n",
       "        text-align: right;\n",
       "    }\n",
       "</style>\n",
       "<table border=\"1\" class=\"dataframe\">\n",
       "  <thead>\n",
       "    <tr style=\"text-align: right;\">\n",
       "      <th></th>\n",
       "      <th>bad</th>\n",
       "      <th>nasrdw_recd_date</th>\n",
       "      <th>id</th>\n",
       "      <th>var_jb_1</th>\n",
       "      <th>var_jb_2</th>\n",
       "      <th>var_jb_3</th>\n",
       "      <th>var_jb_4</th>\n",
       "      <th>var_jb_5</th>\n",
       "      <th>var_jb_6</th>\n",
       "      <th>var_jb_7</th>\n",
       "      <th>...</th>\n",
       "      <th>var_jb_1_outlier</th>\n",
       "      <th>var_jb_2_1</th>\n",
       "      <th>var_jb_2_2</th>\n",
       "      <th>var_jb_2_3</th>\n",
       "      <th>var_jb_2_4</th>\n",
       "      <th>var_jb_2_5</th>\n",
       "      <th>var_jb_2_6</th>\n",
       "      <th>var_jb_2_7</th>\n",
       "      <th>var_jb_3_1</th>\n",
       "      <th>var_jb_3_2</th>\n",
       "    </tr>\n",
       "  </thead>\n",
       "  <tbody>\n",
       "    <tr>\n",
       "      <th>0</th>\n",
       "      <td>G</td>\n",
       "      <td>20171220</td>\n",
       "      <td>56a13c06ee2f2a0db827d0d9450213d3</td>\n",
       "      <td>54.0</td>\n",
       "      <td>DSXS</td>\n",
       "      <td>NT</td>\n",
       "      <td>U</td>\n",
       "      <td>M</td>\n",
       "      <td>S</td>\n",
       "      <td>10.0</td>\n",
       "      <td>...</td>\n",
       "      <td>0</td>\n",
       "      <td>0</td>\n",
       "      <td>0</td>\n",
       "      <td>0</td>\n",
       "      <td>1</td>\n",
       "      <td>0</td>\n",
       "      <td>0</td>\n",
       "      <td>0</td>\n",
       "      <td>0</td>\n",
       "      <td>1</td>\n",
       "    </tr>\n",
       "    <tr>\n",
       "      <th>1</th>\n",
       "      <td>G</td>\n",
       "      <td>20171229</td>\n",
       "      <td>c6342448d324d0e99e0d89175a2da335</td>\n",
       "      <td>31.0</td>\n",
       "      <td>BS99</td>\n",
       "      <td>SH</td>\n",
       "      <td>U</td>\n",
       "      <td>M</td>\n",
       "      <td>M</td>\n",
       "      <td>10.0</td>\n",
       "      <td>...</td>\n",
       "      <td>0</td>\n",
       "      <td>0</td>\n",
       "      <td>0</td>\n",
       "      <td>0</td>\n",
       "      <td>1</td>\n",
       "      <td>0</td>\n",
       "      <td>0</td>\n",
       "      <td>0</td>\n",
       "      <td>1</td>\n",
       "      <td>0</td>\n",
       "    </tr>\n",
       "    <tr>\n",
       "      <th>2</th>\n",
       "      <td>G</td>\n",
       "      <td>20180208</td>\n",
       "      <td>82e5383d3b794f2555dadb7e37e9108e</td>\n",
       "      <td>36.0</td>\n",
       "      <td>TBYG</td>\n",
       "      <td>ZZ</td>\n",
       "      <td>U</td>\n",
       "      <td>F</td>\n",
       "      <td>M</td>\n",
       "      <td>2.0</td>\n",
       "      <td>...</td>\n",
       "      <td>0</td>\n",
       "      <td>0</td>\n",
       "      <td>0</td>\n",
       "      <td>0</td>\n",
       "      <td>0</td>\n",
       "      <td>0</td>\n",
       "      <td>0</td>\n",
       "      <td>1</td>\n",
       "      <td>1</td>\n",
       "      <td>0</td>\n",
       "    </tr>\n",
       "    <tr>\n",
       "      <th>3</th>\n",
       "      <td>G</td>\n",
       "      <td>20180306</td>\n",
       "      <td>a5e91382fc770d3bf1c3845d113d85a5</td>\n",
       "      <td>48.0</td>\n",
       "      <td>MY55</td>\n",
       "      <td>SU</td>\n",
       "      <td>P</td>\n",
       "      <td>F</td>\n",
       "      <td>S</td>\n",
       "      <td>2.0</td>\n",
       "      <td>...</td>\n",
       "      <td>0</td>\n",
       "      <td>0</td>\n",
       "      <td>0</td>\n",
       "      <td>0</td>\n",
       "      <td>0</td>\n",
       "      <td>0</td>\n",
       "      <td>0</td>\n",
       "      <td>1</td>\n",
       "      <td>0</td>\n",
       "      <td>1</td>\n",
       "    </tr>\n",
       "    <tr>\n",
       "      <th>4</th>\n",
       "      <td>G</td>\n",
       "      <td>20180314</td>\n",
       "      <td>57e97bcbc4090d25d1c783fcb071b6df</td>\n",
       "      <td>31.0</td>\n",
       "      <td>BS99</td>\n",
       "      <td>SH</td>\n",
       "      <td>M</td>\n",
       "      <td>M</td>\n",
       "      <td>M</td>\n",
       "      <td>2.0</td>\n",
       "      <td>...</td>\n",
       "      <td>0</td>\n",
       "      <td>0</td>\n",
       "      <td>0</td>\n",
       "      <td>0</td>\n",
       "      <td>1</td>\n",
       "      <td>0</td>\n",
       "      <td>0</td>\n",
       "      <td>0</td>\n",
       "      <td>1</td>\n",
       "      <td>0</td>\n",
       "    </tr>\n",
       "  </tbody>\n",
       "</table>\n",
       "<p>5 rows × 124 columns</p>\n",
       "</div>"
      ],
      "text/plain": [
       "  bad nasrdw_recd_date                                id  var_jb_1 var_jb_2  \\\n",
       "0   G         20171220  56a13c06ee2f2a0db827d0d9450213d3      54.0     DSXS   \n",
       "1   G         20171229  c6342448d324d0e99e0d89175a2da335      31.0     BS99   \n",
       "2   G         20180208  82e5383d3b794f2555dadb7e37e9108e      36.0     TBYG   \n",
       "3   G         20180306  a5e91382fc770d3bf1c3845d113d85a5      48.0     MY55   \n",
       "4   G         20180314  57e97bcbc4090d25d1c783fcb071b6df      31.0     BS99   \n",
       "\n",
       "  var_jb_3 var_jb_4 var_jb_5 var_jb_6  var_jb_7  ... var_jb_1_outlier  \\\n",
       "0       NT        U        M        S      10.0  ...                0   \n",
       "1       SH        U        M        M      10.0  ...                0   \n",
       "2       ZZ        U        F        M       2.0  ...                0   \n",
       "3       SU        P        F        S       2.0  ...                0   \n",
       "4       SH        M        M        M       2.0  ...                0   \n",
       "\n",
       "   var_jb_2_1 var_jb_2_2 var_jb_2_3  var_jb_2_4 var_jb_2_5  var_jb_2_6  \\\n",
       "0           0          0          0           1          0           0   \n",
       "1           0          0          0           1          0           0   \n",
       "2           0          0          0           0          0           0   \n",
       "3           0          0          0           0          0           0   \n",
       "4           0          0          0           1          0           0   \n",
       "\n",
       "  var_jb_2_7 var_jb_3_1 var_jb_3_2  \n",
       "0          0          0          1  \n",
       "1          0          1          0  \n",
       "2          1          1          0  \n",
       "3          1          0          1  \n",
       "4          0          1          0  \n",
       "\n",
       "[5 rows x 124 columns]"
      ]
     },
     "execution_count": 117,
     "metadata": {},
     "output_type": "execute_result"
    }
   ],
   "source": [
    "jiben.head()"
   ]
  },
  {
   "cell_type": "code",
   "execution_count": 118,
   "metadata": {},
   "outputs": [
    {
     "data": {
      "text/html": [
       "<div>\n",
       "<style scoped>\n",
       "    .dataframe tbody tr th:only-of-type {\n",
       "        vertical-align: middle;\n",
       "    }\n",
       "\n",
       "    .dataframe tbody tr th {\n",
       "        vertical-align: top;\n",
       "    }\n",
       "\n",
       "    .dataframe thead th {\n",
       "        text-align: right;\n",
       "    }\n",
       "</style>\n",
       "<table border=\"1\" class=\"dataframe\">\n",
       "  <thead>\n",
       "    <tr style=\"text-align: right;\">\n",
       "      <th></th>\n",
       "      <th>0</th>\n",
       "      <th>G</th>\n",
       "      <th>B</th>\n",
       "    </tr>\n",
       "  </thead>\n",
       "  <tbody>\n",
       "    <tr>\n",
       "      <th>var_jb_3_1</th>\n",
       "      <td>111012</td>\n",
       "      <td>103243</td>\n",
       "      <td>7769</td>\n",
       "    </tr>\n",
       "    <tr>\n",
       "      <th>var_jb_3_2</th>\n",
       "      <td>874189</td>\n",
       "      <td>785002</td>\n",
       "      <td>89187</td>\n",
       "    </tr>\n",
       "  </tbody>\n",
       "</table>\n",
       "</div>"
      ],
      "text/plain": [
       "                 0       G      B\n",
       "var_jb_3_1  111012  103243   7769\n",
       "var_jb_3_2  874189  785002  89187"
      ]
     },
     "execution_count": 118,
     "metadata": {},
     "output_type": "execute_result"
    }
   ],
   "source": [
    "VC_df('var_jb_3','var_jb_3_1','var_jb_3_2')"
   ]
  },
  {
   "cell_type": "markdown",
   "metadata": {},
   "source": [
    "<font color='green'>**学历**</font>"
   ]
  },
  {
   "cell_type": "code",
   "execution_count": 122,
   "metadata": {},
   "outputs": [
    {
     "name": "stdout",
     "output_type": "stream",
     "text": [
      "P\n",
      "H\n",
      "U\n",
      "S\n",
      "M\n",
      "O\n",
      "1\n",
      "2.S\n"
     ]
    }
   ],
   "source": [
    "values = list(jiben['var_jb_4'].value_counts().index.values)\n",
    "cond1 = (jiben['bad']=='G')|(jiben['bad']=='B')\n",
    "jiben_GB = jiben.loc[cond1]\n",
    "xueli_bad_per = {}\n",
    "xueli_gb_cnt = {}\n",
    "for i in values:\n",
    "    print(i)\n",
    "    GB_v_cnt = jiben_GB.loc[jiben_GB['var_jb_4']==i]['bad'].value_counts()\n",
    "    if 'B' in GB_v_cnt.index.values:\n",
    "        xueli_bad_per[i] = GB_v_cnt['B']/(GB_v_cnt['G']+GB_v_cnt['B'])\n",
    "    else:\n",
    "        xueli_bad_per[i] = 0\n",
    "    xueli_gb_cnt[i] = {}\n",
    "    \n",
    "    if 'G' in GB_v_cnt.index.values:\n",
    "        xueli_gb_cnt[i]['Good'] = GB_v_cnt['G']\n",
    "    else:\n",
    "        xueli_gb_cnt[i]['Good'] = 0\n",
    "        \n",
    "    if 'B' in GB_v_cnt.index.values:\n",
    "        xueli_gb_cnt[i]['Bad'] = GB_v_cnt['B']\n",
    "    else:\n",
    "        xueli_gb_cnt[i]['Bad'] = 0\n",
    "\n",
    "GB_v_cnt = jiben_GB.loc[jiben_GB['var_jb_4'].isnull()==True]['bad'].value_counts()\n",
    "xueli_bad_per['nan'] = GB_v_cnt['B']/(GB_v_cnt['G']+GB_v_cnt['B'])\n",
    "xueli_gb_cnt['nan'] = {}\n",
    "xueli_gb_cnt['nan']['Good'] = GB_v_cnt['G']\n",
    "xueli_gb_cnt['nan']['Bad'] = GB_v_cnt['B']"
   ]
  },
  {
   "cell_type": "code",
   "execution_count": 123,
   "metadata": {},
   "outputs": [
    {
     "data": {
      "text/html": [
       "<div>\n",
       "<style scoped>\n",
       "    .dataframe tbody tr th:only-of-type {\n",
       "        vertical-align: middle;\n",
       "    }\n",
       "\n",
       "    .dataframe tbody tr th {\n",
       "        vertical-align: top;\n",
       "    }\n",
       "\n",
       "    .dataframe thead th {\n",
       "        text-align: right;\n",
       "    }\n",
       "</style>\n",
       "<table border=\"1\" class=\"dataframe\">\n",
       "  <thead>\n",
       "    <tr style=\"text-align: right;\">\n",
       "      <th></th>\n",
       "      <th>0</th>\n",
       "    </tr>\n",
       "  </thead>\n",
       "  <tbody>\n",
       "    <tr>\n",
       "      <th>P</th>\n",
       "      <td>0.084854</td>\n",
       "    </tr>\n",
       "    <tr>\n",
       "      <th>H</th>\n",
       "      <td>0.126740</td>\n",
       "    </tr>\n",
       "    <tr>\n",
       "      <th>U</th>\n",
       "      <td>0.056746</td>\n",
       "    </tr>\n",
       "    <tr>\n",
       "      <th>S</th>\n",
       "      <td>0.167671</td>\n",
       "    </tr>\n",
       "    <tr>\n",
       "      <th>M</th>\n",
       "      <td>0.045727</td>\n",
       "    </tr>\n",
       "    <tr>\n",
       "      <th>O</th>\n",
       "      <td>0.111842</td>\n",
       "    </tr>\n",
       "    <tr>\n",
       "      <th>1</th>\n",
       "      <td>0.000000</td>\n",
       "    </tr>\n",
       "    <tr>\n",
       "      <th>2.S</th>\n",
       "      <td>0.000000</td>\n",
       "    </tr>\n",
       "    <tr>\n",
       "      <th>nan</th>\n",
       "      <td>0.098361</td>\n",
       "    </tr>\n",
       "  </tbody>\n",
       "</table>\n",
       "</div>"
      ],
      "text/plain": [
       "            0\n",
       "P    0.084854\n",
       "H    0.126740\n",
       "U    0.056746\n",
       "S    0.167671\n",
       "M    0.045727\n",
       "O    0.111842\n",
       "1    0.000000\n",
       "2.S  0.000000\n",
       "nan  0.098361"
      ]
     },
     "execution_count": 123,
     "metadata": {},
     "output_type": "execute_result"
    }
   ],
   "source": [
    "pd.DataFrame([xueli_bad_per]).T"
   ]
  },
  {
   "cell_type": "code",
   "execution_count": 124,
   "metadata": {},
   "outputs": [],
   "source": [
    "cond1 = jiben['var_jb_4'] == 'P'\n",
    "cond2 = jiben['var_jb_4'] == 'H'\n",
    "cond3 = jiben['var_jb_4'] == 'U'\n",
    "cond4 = jiben['var_jb_4'] == 'S'\n",
    "cond5 = jiben['var_jb_4'] == 'M'\n",
    "cond6 = jiben['var_jb_4'] == 'O'\n",
    "cond7 = jiben['var_jb_4'].isnull() == True\n",
    "cond8 = (jiben['var_jb_4']==1)|(jiben['var_jb_4']=='1')|(jiben['var_jb_4']=='2.S')\n",
    "\n",
    "jiben['var_jb_4_P'] = cond1*1\n",
    "jiben['var_jb_4_H'] = cond2*1\n",
    "jiben['var_jb_4_U'] = cond3*1\n",
    "jiben['var_jb_4_S'] = cond4*1\n",
    "jiben['var_jb_4_M'] = cond5*1\n",
    "jiben['var_jb_4_O'] = cond6*1\n",
    "jiben['var_jb_4_na'] = cond7*1\n",
    "jiben['var_jb_4_1_2.S'] = cond8*1"
   ]
  },
  {
   "cell_type": "code",
   "execution_count": 125,
   "metadata": {},
   "outputs": [
    {
     "data": {
      "text/html": [
       "<div>\n",
       "<style scoped>\n",
       "    .dataframe tbody tr th:only-of-type {\n",
       "        vertical-align: middle;\n",
       "    }\n",
       "\n",
       "    .dataframe tbody tr th {\n",
       "        vertical-align: top;\n",
       "    }\n",
       "\n",
       "    .dataframe thead th {\n",
       "        text-align: right;\n",
       "    }\n",
       "</style>\n",
       "<table border=\"1\" class=\"dataframe\">\n",
       "  <thead>\n",
       "    <tr style=\"text-align: right;\">\n",
       "      <th></th>\n",
       "      <th>0</th>\n",
       "      <th>G</th>\n",
       "      <th>B</th>\n",
       "    </tr>\n",
       "  </thead>\n",
       "  <tbody>\n",
       "    <tr>\n",
       "      <th>var_jb_4_P</th>\n",
       "      <td>375408</td>\n",
       "      <td>343553.0</td>\n",
       "      <td>31855.0</td>\n",
       "    </tr>\n",
       "    <tr>\n",
       "      <th>var_jb_4_H</th>\n",
       "      <td>331025</td>\n",
       "      <td>289071.0</td>\n",
       "      <td>41954.0</td>\n",
       "    </tr>\n",
       "    <tr>\n",
       "      <th>var_jb_4_U</th>\n",
       "      <td>187679</td>\n",
       "      <td>177029.0</td>\n",
       "      <td>10650.0</td>\n",
       "    </tr>\n",
       "    <tr>\n",
       "      <th>var_jb_4_S</th>\n",
       "      <td>68217</td>\n",
       "      <td>56779.0</td>\n",
       "      <td>11438.0</td>\n",
       "    </tr>\n",
       "    <tr>\n",
       "      <th>var_jb_4_M</th>\n",
       "      <td>22656</td>\n",
       "      <td>21620.0</td>\n",
       "      <td>1036.0</td>\n",
       "    </tr>\n",
       "    <tr>\n",
       "      <th>var_jb_4_O</th>\n",
       "      <td>152</td>\n",
       "      <td>135.0</td>\n",
       "      <td>17.0</td>\n",
       "    </tr>\n",
       "    <tr>\n",
       "      <th>var_jb_4_na</th>\n",
       "      <td>61</td>\n",
       "      <td>55.0</td>\n",
       "      <td>6.0</td>\n",
       "    </tr>\n",
       "    <tr>\n",
       "      <th>var_jb_4_1_2.S</th>\n",
       "      <td>3</td>\n",
       "      <td>3.0</td>\n",
       "      <td>NaN</td>\n",
       "    </tr>\n",
       "  </tbody>\n",
       "</table>\n",
       "</div>"
      ],
      "text/plain": [
       "                     0         G        B\n",
       "var_jb_4_P      375408  343553.0  31855.0\n",
       "var_jb_4_H      331025  289071.0  41954.0\n",
       "var_jb_4_U      187679  177029.0  10650.0\n",
       "var_jb_4_S       68217   56779.0  11438.0\n",
       "var_jb_4_M       22656   21620.0   1036.0\n",
       "var_jb_4_O         152     135.0     17.0\n",
       "var_jb_4_na         61      55.0      6.0\n",
       "var_jb_4_1_2.S       3       3.0      NaN"
      ]
     },
     "execution_count": 125,
     "metadata": {},
     "output_type": "execute_result"
    }
   ],
   "source": [
    "VC_df('var_jb_4','var_jb_4_P','var_jb_4_1_2.S')"
   ]
  },
  {
   "cell_type": "markdown",
   "metadata": {},
   "source": [
    "<font color='green'>**性别**</font>"
   ]
  },
  {
   "cell_type": "code",
   "execution_count": 130,
   "metadata": {},
   "outputs": [
    {
     "name": "stdout",
     "output_type": "stream",
     "text": [
      "M\n",
      "F\n",
      "1\n",
      "58\n"
     ]
    }
   ],
   "source": [
    "values = list(jiben['var_jb_5'].value_counts().index.values)\n",
    "cond1 = (jiben['bad']=='G')|(jiben['bad']=='B')\n",
    "jiben_GB = jiben.loc[cond1]\n",
    "xueli_bad_per = {}\n",
    "xueli_gb_cnt = {}\n",
    "for i in values:\n",
    "    print(i)\n",
    "    GB_v_cnt = jiben_GB.loc[jiben_GB['var_jb_5']==i]['bad'].value_counts()\n",
    "    if 'B' in GB_v_cnt.index.values:\n",
    "        xueli_bad_per[i] = GB_v_cnt['B']/(GB_v_cnt['G']+GB_v_cnt['B'])\n",
    "    else:\n",
    "        xueli_bad_per[i] = 0\n",
    "        \n",
    "    xueli_gb_cnt[i] = {}\n",
    "    \n",
    "    if 'G' in GB_v_cnt.index.values:\n",
    "        xueli_gb_cnt[i]['Good'] = GB_v_cnt['G']\n",
    "    else:\n",
    "        xueli_gb_cnt[i]['Good'] = 0\n",
    "        \n",
    "    if 'B' in GB_v_cnt.index.values:\n",
    "        xueli_gb_cnt[i]['Bad'] = GB_v_cnt['B']\n",
    "    else:\n",
    "        xueli_gb_cnt[i]['Bad'] = 0\n",
    "\n",
    "GB_v_cnt = jiben_GB.loc[jiben_GB['var_jb_5'].isnull()==True]['bad'].value_counts()\n",
    "\n",
    "if 'B' in GB_v_cnt.index.values:\n",
    "    xueli_bad_per['nan'] = GB_v_cnt['B']/(GB_v_cnt['G']+GB_v_cnt['B'])\n",
    "else:\n",
    "    xueli_bad_per['nan']=0\n",
    "xueli_gb_cnt['nan'] = {}\n",
    "\n",
    "if 'G' in GB_v_cnt.index.values:\n",
    "    xueli_gb_cnt['nan']['Good'] = GB_v_cnt['G']\n",
    "else:\n",
    "    xueli_gb_cnt['nan']['Good']=0\n",
    "    \n",
    "if 'B' in GB_v_cnt.index.values:\n",
    "    xueli_gb_cnt['nan']['Bad'] = GB_v_cnt['B']\n",
    "else:\n",
    "    xueli_gb_cnt['nan']['Bad']=0"
   ]
  },
  {
   "cell_type": "code",
   "execution_count": 133,
   "metadata": {},
   "outputs": [],
   "source": [
    "cond1 = jiben['var_jb_5']=='M'\n",
    "cond2 = jiben['var_jb_5']=='F'\n",
    "cond3 = (jiben['var_jb_5']!='M')|(jiben['var_jb_5']!='F')\n",
    "jiben['var_jb_5_M'] = cond1*1\n",
    "jiben['var_jb_5_F'] = cond2*1\n",
    "jiben['var_jb_5_other'] = cond3*1"
   ]
  },
  {
   "cell_type": "code",
   "execution_count": 135,
   "metadata": {},
   "outputs": [
    {
     "data": {
      "text/html": [
       "<div>\n",
       "<style scoped>\n",
       "    .dataframe tbody tr th:only-of-type {\n",
       "        vertical-align: middle;\n",
       "    }\n",
       "\n",
       "    .dataframe tbody tr th {\n",
       "        vertical-align: top;\n",
       "    }\n",
       "\n",
       "    .dataframe thead th {\n",
       "        text-align: right;\n",
       "    }\n",
       "</style>\n",
       "<table border=\"1\" class=\"dataframe\">\n",
       "  <thead>\n",
       "    <tr style=\"text-align: right;\">\n",
       "      <th></th>\n",
       "      <th>0</th>\n",
       "      <th>G</th>\n",
       "      <th>B</th>\n",
       "    </tr>\n",
       "  </thead>\n",
       "  <tbody>\n",
       "    <tr>\n",
       "      <th>var_jb_5_M</th>\n",
       "      <td>570110</td>\n",
       "      <td>502095</td>\n",
       "      <td>68015</td>\n",
       "    </tr>\n",
       "    <tr>\n",
       "      <th>var_jb_5_F</th>\n",
       "      <td>415027</td>\n",
       "      <td>386092</td>\n",
       "      <td>28935</td>\n",
       "    </tr>\n",
       "    <tr>\n",
       "      <th>var_jb_5_other</th>\n",
       "      <td>985201</td>\n",
       "      <td>888245</td>\n",
       "      <td>96956</td>\n",
       "    </tr>\n",
       "  </tbody>\n",
       "</table>\n",
       "</div>"
      ],
      "text/plain": [
       "                     0       G      B\n",
       "var_jb_5_M      570110  502095  68015\n",
       "var_jb_5_F      415027  386092  28935\n",
       "var_jb_5_other  985201  888245  96956"
      ]
     },
     "execution_count": 135,
     "metadata": {},
     "output_type": "execute_result"
    }
   ],
   "source": [
    "VC_df('var_jb_5','var_jb_5_M','var_jb_5_other')"
   ]
  },
  {
   "cell_type": "markdown",
   "metadata": {},
   "source": [
    "<font color='green'>**房屋类型**</font>"
   ]
  },
  {
   "cell_type": "code",
   "execution_count": 140,
   "metadata": {},
   "outputs": [],
   "source": [
    "values = list(jiben['var_jb_6'].value_counts().index.values)\n",
    "# values.remove('A')\n",
    "cond1 = (jiben['bad']=='G')|(jiben['bad']=='B')\n",
    "jiben_GB = jiben.loc[cond1]\n",
    "housetype_bad_per = {}\n",
    "housetype_gb_cnt = {}\n",
    "for i in values:\n",
    "    GB_v_cnt = jiben_GB.loc[jiben_GB['var_jb_6']==i]['bad'].value_counts()\n",
    "    \n",
    "    if 'B' in GB_v_cnt.index.values:\n",
    "        housetype_bad_per[i] = GB_v_cnt['B']/(GB_v_cnt['G']+GB_v_cnt['B'])\n",
    "    else:\n",
    "        housetype_bad_per[i]=0\n",
    "        \n",
    "    housetype_gb_cnt[i] = {}\n",
    "    if 'G' in GB_v_cnt.index.values:\n",
    "        housetype_gb_cnt[i]['Good'] = GB_v_cnt['G']\n",
    "    else:\n",
    "        housetype_gb_cnt[i]['Good']=0\n",
    "    \n",
    "    if 'B' in GB_v_cnt.index.values:\n",
    "        housetype_gb_cnt[i]['Bad'] = GB_v_cnt['B']\n",
    "    else:\n",
    "        housetype_gb_cnt[i]['Bad']=0\n",
    "        \n",
    "GB_v_cnt = jiben_GB.loc[jiben_GB['var_jb_6'].isnull()==True]['bad'].value_counts()\n",
    "housetype_bad_per['nan'] = GB_v_cnt['B']/(GB_v_cnt['G']+GB_v_cnt['B'])\n",
    "housetype_gb_cnt['nan'] = {}\n",
    "housetype_gb_cnt['nan']['Good'] = GB_v_cnt['G']\n",
    "housetype_gb_cnt['nan']['Bad'] = GB_v_cnt['B']\n",
    "\n",
    "housetype_bad_per['A'] = 0\n",
    "housetype_gb_cnt['A'] = {}\n",
    "housetype_gb_cnt['A']['Good'] = 0\n",
    "housetype_gb_cnt['A']['Bad'] = 0"
   ]
  },
  {
   "cell_type": "code",
   "execution_count": 141,
   "metadata": {},
   "outputs": [
    {
     "data": {
      "text/html": [
       "<div>\n",
       "<style scoped>\n",
       "    .dataframe tbody tr th:only-of-type {\n",
       "        vertical-align: middle;\n",
       "    }\n",
       "\n",
       "    .dataframe tbody tr th {\n",
       "        vertical-align: top;\n",
       "    }\n",
       "\n",
       "    .dataframe thead th {\n",
       "        text-align: right;\n",
       "    }\n",
       "</style>\n",
       "<table border=\"1\" class=\"dataframe\">\n",
       "  <thead>\n",
       "    <tr style=\"text-align: right;\">\n",
       "      <th></th>\n",
       "      <th>0</th>\n",
       "    </tr>\n",
       "  </thead>\n",
       "  <tbody>\n",
       "    <tr>\n",
       "      <th>B</th>\n",
       "      <td>0.000000</td>\n",
       "    </tr>\n",
       "    <tr>\n",
       "      <th>A</th>\n",
       "      <td>0.000000</td>\n",
       "    </tr>\n",
       "    <tr>\n",
       "      <th>nan</th>\n",
       "      <td>0.045294</td>\n",
       "    </tr>\n",
       "    <tr>\n",
       "      <th>M</th>\n",
       "      <td>0.067783</td>\n",
       "    </tr>\n",
       "    <tr>\n",
       "      <th>0</th>\n",
       "      <td>0.076923</td>\n",
       "    </tr>\n",
       "    <tr>\n",
       "      <th>S</th>\n",
       "      <td>0.095669</td>\n",
       "    </tr>\n",
       "    <tr>\n",
       "      <th>O</th>\n",
       "      <td>0.118194</td>\n",
       "    </tr>\n",
       "    <tr>\n",
       "      <th>R</th>\n",
       "      <td>0.148949</td>\n",
       "    </tr>\n",
       "    <tr>\n",
       "      <th>L</th>\n",
       "      <td>0.154328</td>\n",
       "    </tr>\n",
       "    <tr>\n",
       "      <th>Q</th>\n",
       "      <td>0.156156</td>\n",
       "    </tr>\n",
       "  </tbody>\n",
       "</table>\n",
       "</div>"
      ],
      "text/plain": [
       "            0\n",
       "B    0.000000\n",
       "A    0.000000\n",
       "nan  0.045294\n",
       "M    0.067783\n",
       "0    0.076923\n",
       "S    0.095669\n",
       "O    0.118194\n",
       "R    0.148949\n",
       "L    0.154328\n",
       "Q    0.156156"
      ]
     },
     "execution_count": 141,
     "metadata": {},
     "output_type": "execute_result"
    }
   ],
   "source": [
    "pd.DataFrame([housetype_bad_per]).T.sort_values(by=0)"
   ]
  },
  {
   "cell_type": "code",
   "execution_count": 142,
   "metadata": {},
   "outputs": [],
   "source": [
    "cond1 = (jiben['var_jb_6']=='A')|(jiben['var_jb_6']=='B')\n",
    "cond2 = jiben['var_jb_6'].isin(['M',0,'0'])\n",
    "cond3 = jiben['var_jb_6'].isnull()==True\n",
    "cond4 = jiben['var_jb_6']=='S'\n",
    "cond5 = jiben['var_jb_6']=='O'\n",
    "cond6 = (jiben['var_jb_6']=='R')|(jiben['var_jb_6']=='L')|(jiben['var_jb_6']=='Q')\n",
    "\n",
    "jiben['var_jb_6_AB'] = cond1*1\n",
    "jiben['var_jb_6_M_0'] = cond2*1\n",
    "jiben['var_jb_6_nan'] = cond3*1\n",
    "jiben['var_jb_6_S'] = cond4*1\n",
    "jiben['var_jb_6_O'] = cond5*1\n",
    "jiben['var_jb_6_R_L_Q'] = cond6*1\n"
   ]
  },
  {
   "cell_type": "code",
   "execution_count": 143,
   "metadata": {},
   "outputs": [
    {
     "data": {
      "text/html": [
       "<div>\n",
       "<style scoped>\n",
       "    .dataframe tbody tr th:only-of-type {\n",
       "        vertical-align: middle;\n",
       "    }\n",
       "\n",
       "    .dataframe tbody tr th {\n",
       "        vertical-align: top;\n",
       "    }\n",
       "\n",
       "    .dataframe thead th {\n",
       "        text-align: right;\n",
       "    }\n",
       "</style>\n",
       "<table border=\"1\" class=\"dataframe\">\n",
       "  <thead>\n",
       "    <tr style=\"text-align: right;\">\n",
       "      <th></th>\n",
       "      <th>0</th>\n",
       "      <th>G</th>\n",
       "      <th>B</th>\n",
       "    </tr>\n",
       "  </thead>\n",
       "  <tbody>\n",
       "    <tr>\n",
       "      <th>var_jb_6_AB</th>\n",
       "      <td>0</td>\n",
       "      <td>NaN</td>\n",
       "      <td>NaN</td>\n",
       "    </tr>\n",
       "    <tr>\n",
       "      <th>var_jb_6_M_0</th>\n",
       "      <td>140301</td>\n",
       "      <td>130790.0</td>\n",
       "      <td>9511.0</td>\n",
       "    </tr>\n",
       "    <tr>\n",
       "      <th>var_jb_6_nan</th>\n",
       "      <td>256150</td>\n",
       "      <td>244548.0</td>\n",
       "      <td>11602.0</td>\n",
       "    </tr>\n",
       "    <tr>\n",
       "      <th>var_jb_6_S</th>\n",
       "      <td>206055</td>\n",
       "      <td>186342.0</td>\n",
       "      <td>19713.0</td>\n",
       "    </tr>\n",
       "    <tr>\n",
       "      <th>var_jb_6_O</th>\n",
       "      <td>66594</td>\n",
       "      <td>58723.0</td>\n",
       "      <td>7871.0</td>\n",
       "    </tr>\n",
       "    <tr>\n",
       "      <th>var_jb_6_R_L_Q</th>\n",
       "      <td>316101</td>\n",
       "      <td>267842.0</td>\n",
       "      <td>48259.0</td>\n",
       "    </tr>\n",
       "  </tbody>\n",
       "</table>\n",
       "</div>"
      ],
      "text/plain": [
       "                     0         G        B\n",
       "var_jb_6_AB          0       NaN      NaN\n",
       "var_jb_6_M_0    140301  130790.0   9511.0\n",
       "var_jb_6_nan    256150  244548.0  11602.0\n",
       "var_jb_6_S      206055  186342.0  19713.0\n",
       "var_jb_6_O       66594   58723.0   7871.0\n",
       "var_jb_6_R_L_Q  316101  267842.0  48259.0"
      ]
     },
     "execution_count": 143,
     "metadata": {},
     "output_type": "execute_result"
    }
   ],
   "source": [
    "VC_df('jiben_var_6','var_jb_6_AB','var_jb_6_R_L_Q')"
   ]
  },
  {
   "cell_type": "markdown",
   "metadata": {},
   "source": [
    "<font color='green'>**客户标识**</font>"
   ]
  },
  {
   "cell_type": "code",
   "execution_count": 144,
   "metadata": {},
   "outputs": [],
   "source": [
    "values = list(jiben['var_jb_7'].value_counts().index.values)\n",
    "# values.remove('A')\n",
    "cond1 = (jiben['bad']=='G')|(jiben['bad']=='B')\n",
    "jiben_GB = jiben.loc[cond1]\n",
    "cust_label_bad_per = {}\n",
    "cust_label_gb_cnt = {}\n",
    "for i in values:\n",
    "    GB_v_cnt = jiben_GB.loc[jiben_GB['var_jb_7']==i]['bad'].value_counts()\n",
    "    \n",
    "    if 'B' in GB_v_cnt.index.values:\n",
    "        cust_label_bad_per[i] = GB_v_cnt['B']/(GB_v_cnt['G']+GB_v_cnt['B'])\n",
    "    else:\n",
    "        cust_label_bad_per[i]=0\n",
    "        \n",
    "    cust_label_gb_cnt[i] = {}\n",
    "    if 'G' in GB_v_cnt.index.values:\n",
    "        cust_label_gb_cnt[i]['Good'] = GB_v_cnt['G']\n",
    "    else:\n",
    "        cust_label_gb_cnt[i]['Good']=0\n",
    "    \n",
    "    if 'B' in GB_v_cnt.index.values:\n",
    "        cust_label_gb_cnt[i]['Bad'] = GB_v_cnt['B']\n",
    "    else:\n",
    "        cust_label_gb_cnt[i]['Bad']=0\n",
    "        \n",
    "GB_v_cnt = jiben_GB.loc[jiben_GB['var_jb_7'].isnull()==True]['bad'].value_counts()\n",
    "cust_label_bad_per['nan'] = GB_v_cnt['B']/(GB_v_cnt['G']+GB_v_cnt['B'])\n",
    "cust_label_bad_per['nan'] = {}\n",
    "cust_label_bad_per['nan']['Good'] = GB_v_cnt['G']\n",
    "cust_label_bad_per['nan']['Bad'] = GB_v_cnt['B']\n",
    "\n",
    "housetype_bad_per['A'] = 0\n",
    "cust_label_gb_cnt['A'] = {}\n",
    "cust_label_gb_cnt['A']['Good'] = 0\n",
    "cust_label_gb_cnt['A']['Bad'] = 0"
   ]
  },
  {
   "cell_type": "code",
   "execution_count": 146,
   "metadata": {},
   "outputs": [
    {
     "data": {
      "text/plain": [
       "{2.0: 0.09796817052445242,\n",
       " 10.0: 0.10139159104748044,\n",
       " 1.0: 0.0973274165026192,\n",
       " 20.0: 0,\n",
       " 27.0: 0,\n",
       " 'nan': {'Good': 259, 'Bad': 27}}"
      ]
     },
     "execution_count": 146,
     "metadata": {},
     "output_type": "execute_result"
    }
   ],
   "source": [
    "cust_label_bad_per"
   ]
  },
  {
   "cell_type": "code",
   "execution_count": 156,
   "metadata": {},
   "outputs": [],
   "source": [
    "cond1 = jiben['var_jb_7']==2.0\n",
    "cond2 = (jiben['var_jb_7']==1.0)|(jiben['var_jb_7']==10.0)\n",
    "cond3 = jiben['var_jb_7'].isnull()==True\n",
    "\n",
    "jiben['var_jb_7_1'] = cond1*1\n",
    "jiben['var_jb_7_2'] = cond2*1\n",
    "jiben['var_jb_7_3'] = cond3*1"
   ]
  },
  {
   "cell_type": "code",
   "execution_count": 157,
   "metadata": {},
   "outputs": [],
   "source": [
    "cond4 = jiben.loc[:,'var_jb_7_1':'var_jb_7_3'].sum(axis=1)==0\n",
    "jiben['var_jb_7_4'] = cond4*1"
   ]
  },
  {
   "cell_type": "code",
   "execution_count": 158,
   "metadata": {},
   "outputs": [
    {
     "data": {
      "text/html": [
       "<div>\n",
       "<style scoped>\n",
       "    .dataframe tbody tr th:only-of-type {\n",
       "        vertical-align: middle;\n",
       "    }\n",
       "\n",
       "    .dataframe tbody tr th {\n",
       "        vertical-align: top;\n",
       "    }\n",
       "\n",
       "    .dataframe thead th {\n",
       "        text-align: right;\n",
       "    }\n",
       "</style>\n",
       "<table border=\"1\" class=\"dataframe\">\n",
       "  <thead>\n",
       "    <tr style=\"text-align: right;\">\n",
       "      <th></th>\n",
       "      <th>0</th>\n",
       "      <th>G</th>\n",
       "      <th>B</th>\n",
       "    </tr>\n",
       "  </thead>\n",
       "  <tbody>\n",
       "    <tr>\n",
       "      <th>var_jb_7_1</th>\n",
       "      <td>820246</td>\n",
       "      <td>739888.0</td>\n",
       "      <td>80358.0</td>\n",
       "    </tr>\n",
       "    <tr>\n",
       "      <th>var_jb_7_2</th>\n",
       "      <td>164637</td>\n",
       "      <td>148066.0</td>\n",
       "      <td>16571.0</td>\n",
       "    </tr>\n",
       "    <tr>\n",
       "      <th>var_jb_7_3</th>\n",
       "      <td>286</td>\n",
       "      <td>259.0</td>\n",
       "      <td>27.0</td>\n",
       "    </tr>\n",
       "    <tr>\n",
       "      <th>var_jb_7_4</th>\n",
       "      <td>32</td>\n",
       "      <td>32.0</td>\n",
       "      <td>NaN</td>\n",
       "    </tr>\n",
       "  </tbody>\n",
       "</table>\n",
       "</div>"
      ],
      "text/plain": [
       "                 0         G        B\n",
       "var_jb_7_1  820246  739888.0  80358.0\n",
       "var_jb_7_2  164637  148066.0  16571.0\n",
       "var_jb_7_3     286     259.0     27.0\n",
       "var_jb_7_4      32      32.0      NaN"
      ]
     },
     "execution_count": 158,
     "metadata": {},
     "output_type": "execute_result"
    }
   ],
   "source": [
    "VC_df('var_jb_7','var_jb_7_1','var_jb_7_4')"
   ]
  },
  {
   "cell_type": "markdown",
   "metadata": {},
   "source": [
    "<font color='green'>**婚姻**</font>"
   ]
  },
  {
   "cell_type": "code",
   "execution_count": 185,
   "metadata": {},
   "outputs": [],
   "source": [
    "def Fucking_VCNT(var_name):\n",
    "    values = list(jiben[var_name].value_counts().index.values)\n",
    "    cond1 = (jiben['bad']=='G')|(jiben['bad']=='B')\n",
    "    jiben_GB = jiben.loc[cond1]\n",
    "    bad_per = {}\n",
    "    gb_cnt = {}\n",
    "    for i in values:\n",
    "        GB_v_cnt = jiben_GB.loc[jiben_GB[var_name]==i]['bad'].value_counts()\n",
    "\n",
    "        if 'B' in GB_v_cnt.index.values and 'G' in GB_v_cnt.index.values:\n",
    "            bad_per[i] = GB_v_cnt['B']/(GB_v_cnt['G']+GB_v_cnt['B'])            \n",
    "        else:\n",
    "            bad_per[i]=0\n",
    "\n",
    "        gb_cnt[i] = {}\n",
    "        \n",
    "        if 'G' in GB_v_cnt.index.values:\n",
    "            gb_cnt[i]['Good'] = GB_v_cnt['G']\n",
    "        else:\n",
    "            gb_cnt[i]['Good'] = 0\n",
    "\n",
    "        if 'B' in GB_v_cnt.index.values:\n",
    "            gb_cnt[i]['Bad'] = GB_v_cnt['B']\n",
    "        else:\n",
    "            gb_cnt[i]['Bad'] = 0\n",
    "\n",
    "    GB_v_cnt = jiben_GB.loc[jiben_GB['var_jb_8'].isnull()==True]['bad'].value_counts()\n",
    "\n",
    "    if 'B' in GB_v_cnt.index.values:\n",
    "        bad_per['nan'] = GB_v_cnt['B']/(GB_v_cnt['G']+GB_v_cnt['B'])\n",
    "    else:\n",
    "        bad_per['nan'] = 0\n",
    "        \n",
    "    gb_cnt['nan'] = {}\n",
    "    \n",
    "    if 'G' in GB_v_cnt.index.values:\n",
    "        gb_cnt['nan']['Good'] = GB_v_cnt['G']\n",
    "    else:\n",
    "        gb_cnt['nan']['Good'] = 0\n",
    "        \n",
    "    if 'B' in GB_v_cnt.index.values:\n",
    "        gb_cnt['nan']['Bad'] = GB_v_cnt['B']\n",
    "    else:\n",
    "        gb_cnt['nan']['Bad'] = 0\n",
    "    \n",
    "    return pd.DataFrame([bad_per]).T,gb_cnt"
   ]
  },
  {
   "cell_type": "code",
   "execution_count": 178,
   "metadata": {},
   "outputs": [
    {
     "name": "stdout",
     "output_type": "stream",
     "text": [
      "M\n",
      "S\n",
      "O\n",
      "H\n",
      "P\n",
      "U\n",
      "1-0832\n"
     ]
    }
   ],
   "source": [
    "df1,df2 = Fucking_VCNT('var_jb_8')"
   ]
  },
  {
   "cell_type": "code",
   "execution_count": 179,
   "metadata": {},
   "outputs": [
    {
     "data": {
      "text/html": [
       "<div>\n",
       "<style scoped>\n",
       "    .dataframe tbody tr th:only-of-type {\n",
       "        vertical-align: middle;\n",
       "    }\n",
       "\n",
       "    .dataframe tbody tr th {\n",
       "        vertical-align: top;\n",
       "    }\n",
       "\n",
       "    .dataframe thead th {\n",
       "        text-align: right;\n",
       "    }\n",
       "</style>\n",
       "<table border=\"1\" class=\"dataframe\">\n",
       "  <thead>\n",
       "    <tr style=\"text-align: right;\">\n",
       "      <th></th>\n",
       "      <th>0</th>\n",
       "    </tr>\n",
       "  </thead>\n",
       "  <tbody>\n",
       "    <tr>\n",
       "      <th>M</th>\n",
       "      <td>0.077686</td>\n",
       "    </tr>\n",
       "    <tr>\n",
       "      <th>S</th>\n",
       "      <td>0.140176</td>\n",
       "    </tr>\n",
       "    <tr>\n",
       "      <th>O</th>\n",
       "      <td>0.158650</td>\n",
       "    </tr>\n",
       "    <tr>\n",
       "      <th>H</th>\n",
       "      <td>0.120000</td>\n",
       "    </tr>\n",
       "    <tr>\n",
       "      <th>P</th>\n",
       "      <td>0.125000</td>\n",
       "    </tr>\n",
       "    <tr>\n",
       "      <th>U</th>\n",
       "      <td>0.000000</td>\n",
       "    </tr>\n",
       "    <tr>\n",
       "      <th>1-0832</th>\n",
       "      <td>0.000000</td>\n",
       "    </tr>\n",
       "    <tr>\n",
       "      <th>nan</th>\n",
       "      <td>0.000000</td>\n",
       "    </tr>\n",
       "  </tbody>\n",
       "</table>\n",
       "</div>"
      ],
      "text/plain": [
       "               0\n",
       "M       0.077686\n",
       "S       0.140176\n",
       "O       0.158650\n",
       "H       0.120000\n",
       "P       0.125000\n",
       "U       0.000000\n",
       "1-0832  0.000000\n",
       "nan     0.000000"
      ]
     },
     "execution_count": 179,
     "metadata": {},
     "output_type": "execute_result"
    }
   ],
   "source": [
    "df1"
   ]
  },
  {
   "cell_type": "code",
   "execution_count": 61,
   "metadata": {},
   "outputs": [
    {
     "data": {
      "text/html": [
       "<div>\n",
       "<style scoped>\n",
       "    .dataframe tbody tr th:only-of-type {\n",
       "        vertical-align: middle;\n",
       "    }\n",
       "\n",
       "    .dataframe tbody tr th {\n",
       "        vertical-align: top;\n",
       "    }\n",
       "\n",
       "    .dataframe thead th {\n",
       "        text-align: right;\n",
       "    }\n",
       "</style>\n",
       "<table border=\"1\" class=\"dataframe\">\n",
       "  <thead>\n",
       "    <tr style=\"text-align: right;\">\n",
       "      <th></th>\n",
       "      <th>0</th>\n",
       "    </tr>\n",
       "  </thead>\n",
       "  <tbody>\n",
       "    <tr>\n",
       "      <th>M</th>\n",
       "      <td>0.104792</td>\n",
       "    </tr>\n",
       "    <tr>\n",
       "      <th>nan</th>\n",
       "      <td>0.150470</td>\n",
       "    </tr>\n",
       "    <tr>\n",
       "      <th>S</th>\n",
       "      <td>0.164891</td>\n",
       "    </tr>\n",
       "    <tr>\n",
       "      <th>O</th>\n",
       "      <td>0.179933</td>\n",
       "    </tr>\n",
       "  </tbody>\n",
       "</table>\n",
       "</div>"
      ],
      "text/plain": [
       "            0\n",
       "M    0.104792\n",
       "nan  0.150470\n",
       "S    0.164891\n",
       "O    0.179933"
      ]
     },
     "execution_count": 61,
     "metadata": {},
     "output_type": "execute_result"
    }
   ],
   "source": [
    "pd.DataFrame([marriage_bad_per]).T.sort_values(by=0)"
   ]
  },
  {
   "cell_type": "code",
   "execution_count": 180,
   "metadata": {},
   "outputs": [],
   "source": [
    "cond1 = jiben['var_jb_8']=='M'\n",
    "cond2 = (jiben['var_jb_8'].isnull()==True)\n",
    "cond3 = (jiben['var_jb_8']=='S')|(jiben['var_jb_8']=='O')\n",
    "\n",
    "jiben['var_jb_8_M'] = cond1*1\n",
    "jiben['var_jb_8_nan'] = cond2*1\n",
    "jiben['var_jb_8_S_O'] = cond3*1"
   ]
  },
  {
   "cell_type": "code",
   "execution_count": 181,
   "metadata": {},
   "outputs": [
    {
     "data": {
      "text/html": [
       "<div>\n",
       "<style scoped>\n",
       "    .dataframe tbody tr th:only-of-type {\n",
       "        vertical-align: middle;\n",
       "    }\n",
       "\n",
       "    .dataframe tbody tr th {\n",
       "        vertical-align: top;\n",
       "    }\n",
       "\n",
       "    .dataframe thead th {\n",
       "        text-align: right;\n",
       "    }\n",
       "</style>\n",
       "<table border=\"1\" class=\"dataframe\">\n",
       "  <thead>\n",
       "    <tr style=\"text-align: right;\">\n",
       "      <th></th>\n",
       "      <th>0</th>\n",
       "      <th>G</th>\n",
       "      <th>B</th>\n",
       "    </tr>\n",
       "  </thead>\n",
       "  <tbody>\n",
       "    <tr>\n",
       "      <th>var_jb_8_M</th>\n",
       "      <td>668374</td>\n",
       "      <td>616451.0</td>\n",
       "      <td>51923.0</td>\n",
       "    </tr>\n",
       "    <tr>\n",
       "      <th>var_jb_8_nan</th>\n",
       "      <td>1</td>\n",
       "      <td>1.0</td>\n",
       "      <td>NaN</td>\n",
       "    </tr>\n",
       "    <tr>\n",
       "      <th>var_jb_8_S_O</th>\n",
       "      <td>316770</td>\n",
       "      <td>271742.0</td>\n",
       "      <td>45028.0</td>\n",
       "    </tr>\n",
       "  </tbody>\n",
       "</table>\n",
       "</div>"
      ],
      "text/plain": [
       "                   0         G        B\n",
       "var_jb_8_M    668374  616451.0  51923.0\n",
       "var_jb_8_nan       1       1.0      NaN\n",
       "var_jb_8_S_O  316770  271742.0  45028.0"
      ]
     },
     "execution_count": 181,
     "metadata": {},
     "output_type": "execute_result"
    }
   ],
   "source": [
    "VC_df('var_jb_8','var_jb_8_M','var_jb_8_S_O')"
   ]
  },
  {
   "cell_type": "markdown",
   "metadata": {},
   "source": [
    "<font color='green'>**客户填写的收入**</font>"
   ]
  },
  {
   "cell_type": "code",
   "execution_count": 186,
   "metadata": {
    "scrolled": true
   },
   "outputs": [],
   "source": [
    "df1,df2 = Fucking_VCNT('var_jb_9')"
   ]
  },
  {
   "cell_type": "code",
   "execution_count": 187,
   "metadata": {},
   "outputs": [
    {
     "data": {
      "text/html": [
       "<div>\n",
       "<style scoped>\n",
       "    .dataframe tbody tr th:only-of-type {\n",
       "        vertical-align: middle;\n",
       "    }\n",
       "\n",
       "    .dataframe tbody tr th {\n",
       "        vertical-align: top;\n",
       "    }\n",
       "\n",
       "    .dataframe thead th {\n",
       "        text-align: right;\n",
       "    }\n",
       "</style>\n",
       "<table border=\"1\" class=\"dataframe\">\n",
       "  <thead>\n",
       "    <tr style=\"text-align: right;\">\n",
       "      <th></th>\n",
       "      <th>0</th>\n",
       "    </tr>\n",
       "  </thead>\n",
       "  <tbody>\n",
       "    <tr>\n",
       "      <th>100.0</th>\n",
       "      <td>0.086882</td>\n",
       "    </tr>\n",
       "    <tr>\n",
       "      <th>80.0</th>\n",
       "      <td>0.109577</td>\n",
       "    </tr>\n",
       "    <tr>\n",
       "      <th>150.0</th>\n",
       "      <td>0.080355</td>\n",
       "    </tr>\n",
       "    <tr>\n",
       "      <th>200.0</th>\n",
       "      <td>0.071525</td>\n",
       "    </tr>\n",
       "    <tr>\n",
       "      <th>120.0</th>\n",
       "      <td>0.082535</td>\n",
       "    </tr>\n",
       "    <tr>\n",
       "      <th>...</th>\n",
       "      <td>...</td>\n",
       "    </tr>\n",
       "    <tr>\n",
       "      <th>245.0</th>\n",
       "      <td>0.000000</td>\n",
       "    </tr>\n",
       "    <tr>\n",
       "      <th>21500.0</th>\n",
       "      <td>0.000000</td>\n",
       "    </tr>\n",
       "    <tr>\n",
       "      <th>2760.0</th>\n",
       "      <td>0.000000</td>\n",
       "    </tr>\n",
       "    <tr>\n",
       "      <th>511.0</th>\n",
       "      <td>0.000000</td>\n",
       "    </tr>\n",
       "    <tr>\n",
       "      <th>nan</th>\n",
       "      <td>0.000000</td>\n",
       "    </tr>\n",
       "  </tbody>\n",
       "</table>\n",
       "<p>570 rows × 1 columns</p>\n",
       "</div>"
      ],
      "text/plain": [
       "                0\n",
       "100.0    0.086882\n",
       "80.0     0.109577\n",
       "150.0    0.080355\n",
       "200.0    0.071525\n",
       "120.0    0.082535\n",
       "...           ...\n",
       "245.0    0.000000\n",
       "21500.0  0.000000\n",
       "2760.0   0.000000\n",
       "511.0    0.000000\n",
       "nan      0.000000\n",
       "\n",
       "[570 rows x 1 columns]"
      ]
     },
     "execution_count": 187,
     "metadata": {},
     "output_type": "execute_result"
    }
   ],
   "source": [
    "df1"
   ]
  },
  {
   "cell_type": "code",
   "execution_count": 200,
   "metadata": {},
   "outputs": [],
   "source": [
    "jiben['var_jb_9_log'] = np.log(jiben['var_jb_9']+1)\n",
    "ol_thres = jiben['var_jb_9'].quantile(0.99)\n",
    "cond1 = jiben['var_jb_9']>=ol_thres\n",
    "jiben['var_jb_9_outlier'] = cond1*1"
   ]
  },
  {
   "cell_type": "code",
   "execution_count": 201,
   "metadata": {},
   "outputs": [
    {
     "data": {
      "text/plain": [
       "0          6.908755\n",
       "1          5.993961\n",
       "2          4.394449\n",
       "3          6.216606\n",
       "4          6.216606\n",
       "             ...   \n",
       "1634595    5.707110\n",
       "1634596    4.615120\n",
       "1634597    5.525453\n",
       "1634598    4.615120\n",
       "1634599    4.948760\n",
       "Name: var_jb_9_log, Length: 1634600, dtype: float32"
      ]
     },
     "execution_count": 201,
     "metadata": {},
     "output_type": "execute_result"
    }
   ],
   "source": [
    "jiben['var_jb_9_log']"
   ]
  },
  {
   "cell_type": "code",
   "execution_count": 203,
   "metadata": {},
   "outputs": [
    {
     "data": {
      "text/plain": [
       "<matplotlib.axes._subplots.AxesSubplot at 0x7fa288e53b10>"
      ]
     },
     "execution_count": 203,
     "metadata": {},
     "output_type": "execute_result"
    },
    {
     "data": {
      "image/png": "[encoded data removed]",
      "text/plain": [
       "<Figure size 432x288 with 1 Axes>"
      ]
     },
     "metadata": {
      "needs_background": "light"
     },
     "output_type": "display_data"
    }
   ],
   "source": [
    "sns.kdeplot(jiben['var_jb_9_log'])"
   ]
  },
  {
   "cell_type": "markdown",
   "metadata": {},
   "source": [
    "<font color='green'>**卡片寄往地址标示**</font>"
   ]
  },
  {
   "cell_type": "code",
   "execution_count": 208,
   "metadata": {},
   "outputs": [],
   "source": [
    "df1,df2 = Fucking_VCNT('var_jb_10')"
   ]
  },
  {
   "cell_type": "code",
   "execution_count": 209,
   "metadata": {},
   "outputs": [
    {
     "data": {
      "text/html": [
       "<div>\n",
       "<style scoped>\n",
       "    .dataframe tbody tr th:only-of-type {\n",
       "        vertical-align: middle;\n",
       "    }\n",
       "\n",
       "    .dataframe tbody tr th {\n",
       "        vertical-align: top;\n",
       "    }\n",
       "\n",
       "    .dataframe thead th {\n",
       "        text-align: right;\n",
       "    }\n",
       "</style>\n",
       "<table border=\"1\" class=\"dataframe\">\n",
       "  <thead>\n",
       "    <tr style=\"text-align: right;\">\n",
       "      <th></th>\n",
       "      <th>0</th>\n",
       "    </tr>\n",
       "  </thead>\n",
       "  <tbody>\n",
       "    <tr>\n",
       "      <th>B</th>\n",
       "      <td>0.093515</td>\n",
       "    </tr>\n",
       "    <tr>\n",
       "      <th>H</th>\n",
       "      <td>0.109789</td>\n",
       "    </tr>\n",
       "    <tr>\n",
       "      <th>1</th>\n",
       "      <td>0.122222</td>\n",
       "    </tr>\n",
       "    <tr>\n",
       "      <th>0</th>\n",
       "      <td>0.066667</td>\n",
       "    </tr>\n",
       "    <tr>\n",
       "      <th>3001</th>\n",
       "      <td>0.000000</td>\n",
       "    </tr>\n",
       "    <tr>\n",
       "      <th>nan</th>\n",
       "      <td>0.000000</td>\n",
       "    </tr>\n",
       "  </tbody>\n",
       "</table>\n",
       "</div>"
      ],
      "text/plain": [
       "             0\n",
       "B     0.093515\n",
       "H     0.109789\n",
       "1     0.122222\n",
       "0     0.066667\n",
       "3001  0.000000\n",
       "nan   0.000000"
      ]
     },
     "execution_count": 209,
     "metadata": {},
     "output_type": "execute_result"
    }
   ],
   "source": [
    "df1"
   ]
  },
  {
   "cell_type": "code",
   "execution_count": 210,
   "metadata": {},
   "outputs": [],
   "source": [
    "cond1 = (jiben['var_jb_10'].isnull()==True)|(jiben['var_jb_10'].isin([3001,'3001']))\n",
    "cond2 = jiben['var_jb_10'].isin(['B','H'])\n",
    "cond3 = jiben['var_jb_10'].isin(['1',1])\n",
    "cond4 = jiben['var_jb_10'].isin(['0',0])\n",
    "\n",
    "jiben['var_jb_10_na'] = cond1*1\n",
    "jiben['var_jb_10_BH'] = cond2*1\n",
    "jiben['var_jb_10_1'] = cond3*1\n",
    "jiben['var_jb_10_0'] = cond4*1"
   ]
  },
  {
   "cell_type": "code",
   "execution_count": 211,
   "metadata": {},
   "outputs": [
    {
     "data": {
      "text/html": [
       "<div>\n",
       "<style scoped>\n",
       "    .dataframe tbody tr th:only-of-type {\n",
       "        vertical-align: middle;\n",
       "    }\n",
       "\n",
       "    .dataframe tbody tr th {\n",
       "        vertical-align: top;\n",
       "    }\n",
       "\n",
       "    .dataframe thead th {\n",
       "        text-align: right;\n",
       "    }\n",
       "</style>\n",
       "<table border=\"1\" class=\"dataframe\">\n",
       "  <thead>\n",
       "    <tr style=\"text-align: right;\">\n",
       "      <th></th>\n",
       "      <th>0</th>\n",
       "      <th>G</th>\n",
       "      <th>B</th>\n",
       "    </tr>\n",
       "  </thead>\n",
       "  <tbody>\n",
       "    <tr>\n",
       "      <th>var_jb_10_na</th>\n",
       "      <td>4</td>\n",
       "      <td>4.0</td>\n",
       "      <td>NaN</td>\n",
       "    </tr>\n",
       "    <tr>\n",
       "      <th>var_jb_10_BH</th>\n",
       "      <td>985047</td>\n",
       "      <td>888106.0</td>\n",
       "      <td>96941.0</td>\n",
       "    </tr>\n",
       "    <tr>\n",
       "      <th>var_jb_10_1</th>\n",
       "      <td>90</td>\n",
       "      <td>79.0</td>\n",
       "      <td>11.0</td>\n",
       "    </tr>\n",
       "    <tr>\n",
       "      <th>var_jb_10_0</th>\n",
       "      <td>60</td>\n",
       "      <td>56.0</td>\n",
       "      <td>4.0</td>\n",
       "    </tr>\n",
       "  </tbody>\n",
       "</table>\n",
       "</div>"
      ],
      "text/plain": [
       "                   0         G        B\n",
       "var_jb_10_na       4       4.0      NaN\n",
       "var_jb_10_BH  985047  888106.0  96941.0\n",
       "var_jb_10_1       90      79.0     11.0\n",
       "var_jb_10_0       60      56.0      4.0"
      ]
     },
     "execution_count": 211,
     "metadata": {},
     "output_type": "execute_result"
    }
   ],
   "source": [
    "VC_df('var_jb_10','var_jb_10_na','var_jb_10_0')"
   ]
  },
  {
   "cell_type": "markdown",
   "metadata": {},
   "source": [
    "<font color='green'>**国籍**</font>"
   ]
  },
  {
   "cell_type": "code",
   "execution_count": 214,
   "metadata": {},
   "outputs": [],
   "source": [
    "df1,df2 = Fucking_VCNT('var_jb_11')"
   ]
  },
  {
   "cell_type": "code",
   "execution_count": 215,
   "metadata": {},
   "outputs": [
    {
     "data": {
      "text/html": [
       "<div>\n",
       "<style scoped>\n",
       "    .dataframe tbody tr th:only-of-type {\n",
       "        vertical-align: middle;\n",
       "    }\n",
       "\n",
       "    .dataframe tbody tr th {\n",
       "        vertical-align: top;\n",
       "    }\n",
       "\n",
       "    .dataframe thead th {\n",
       "        text-align: right;\n",
       "    }\n",
       "</style>\n",
       "<table border=\"1\" class=\"dataframe\">\n",
       "  <thead>\n",
       "    <tr style=\"text-align: right;\">\n",
       "      <th></th>\n",
       "      <th>0</th>\n",
       "    </tr>\n",
       "  </thead>\n",
       "  <tbody>\n",
       "    <tr>\n",
       "      <th>027</th>\n",
       "      <td>0.098414</td>\n",
       "    </tr>\n",
       "    <tr>\n",
       "      <th>M</th>\n",
       "      <td>0.042553</td>\n",
       "    </tr>\n",
       "    <tr>\n",
       "      <th>S</th>\n",
       "      <td>0.266667</td>\n",
       "    </tr>\n",
       "    <tr>\n",
       "      <th>074</th>\n",
       "      <td>0.000000</td>\n",
       "    </tr>\n",
       "    <tr>\n",
       "      <th>028</th>\n",
       "      <td>0.142857</td>\n",
       "    </tr>\n",
       "    <tr>\n",
       "      <th>130</th>\n",
       "      <td>0.200000</td>\n",
       "    </tr>\n",
       "    <tr>\n",
       "      <th>148</th>\n",
       "      <td>0.000000</td>\n",
       "    </tr>\n",
       "    <tr>\n",
       "      <th>063</th>\n",
       "      <td>0.000000</td>\n",
       "    </tr>\n",
       "    <tr>\n",
       "      <th>008</th>\n",
       "      <td>0.000000</td>\n",
       "    </tr>\n",
       "    <tr>\n",
       "      <th>O</th>\n",
       "      <td>0.000000</td>\n",
       "    </tr>\n",
       "    <tr>\n",
       "      <th>159</th>\n",
       "      <td>0.000000</td>\n",
       "    </tr>\n",
       "    <tr>\n",
       "      <th>052</th>\n",
       "      <td>0.000000</td>\n",
       "    </tr>\n",
       "    <tr>\n",
       "      <th>LZX9</th>\n",
       "      <td>0.000000</td>\n",
       "    </tr>\n",
       "    <tr>\n",
       "      <th>nan</th>\n",
       "      <td>0.000000</td>\n",
       "    </tr>\n",
       "  </tbody>\n",
       "</table>\n",
       "</div>"
      ],
      "text/plain": [
       "             0\n",
       "027   0.098414\n",
       "M     0.042553\n",
       "S     0.266667\n",
       "074   0.000000\n",
       "028   0.142857\n",
       "130   0.200000\n",
       "148   0.000000\n",
       "063   0.000000\n",
       "008   0.000000\n",
       "O     0.000000\n",
       "159   0.000000\n",
       "052   0.000000\n",
       "LZX9  0.000000\n",
       "nan   0.000000"
      ]
     },
     "execution_count": 215,
     "metadata": {},
     "output_type": "execute_result"
    }
   ],
   "source": [
    "df1"
   ]
  },
  {
   "cell_type": "code",
   "execution_count": 216,
   "metadata": {},
   "outputs": [],
   "source": [
    "cond1 = (jiben['var_jb_11'].isnull()==True)|(jiben['var_jb_11'].isin(['074','148',\n",
    "                                                                      '063','008',\n",
    "                                                                      'O','159',\n",
    "                                                                      '052','LZX9']))\n",
    "cond2 = jiben['var_jb_11']=='027'\n",
    "cond3 = jiben['var_jb_11']=='M'\n",
    "cond4 = jiben['var_jb_11']=='S'\n",
    "cond5 = jiben['var_jb_11']=='028'\n",
    "\n",
    "\n",
    "jiben['var_jb_11_others'] = cond1*1\n",
    "jiben['var_jb_11_027'] = cond2*1\n",
    "jiben['var_jb_11_M'] = cond3*1\n",
    "jiben['var_jb_11_S'] = cond4*1\n",
    "jiben['var_jb_11_028'] = cond5*1"
   ]
  },
  {
   "cell_type": "code",
   "execution_count": 217,
   "metadata": {},
   "outputs": [
    {
     "data": {
      "text/html": [
       "<div>\n",
       "<style scoped>\n",
       "    .dataframe tbody tr th:only-of-type {\n",
       "        vertical-align: middle;\n",
       "    }\n",
       "\n",
       "    .dataframe tbody tr th {\n",
       "        vertical-align: top;\n",
       "    }\n",
       "\n",
       "    .dataframe thead th {\n",
       "        text-align: right;\n",
       "    }\n",
       "</style>\n",
       "<table border=\"1\" class=\"dataframe\">\n",
       "  <thead>\n",
       "    <tr style=\"text-align: right;\">\n",
       "      <th></th>\n",
       "      <th>0</th>\n",
       "      <th>G</th>\n",
       "      <th>B</th>\n",
       "    </tr>\n",
       "  </thead>\n",
       "  <tbody>\n",
       "    <tr>\n",
       "      <th>var_jb_11_others</th>\n",
       "      <td>23</td>\n",
       "      <td>23.0</td>\n",
       "      <td>NaN</td>\n",
       "    </tr>\n",
       "    <tr>\n",
       "      <th>var_jb_11_027</th>\n",
       "      <td>985104</td>\n",
       "      <td>888156.0</td>\n",
       "      <td>96948.0</td>\n",
       "    </tr>\n",
       "    <tr>\n",
       "      <th>var_jb_11_M</th>\n",
       "      <td>47</td>\n",
       "      <td>45.0</td>\n",
       "      <td>2.0</td>\n",
       "    </tr>\n",
       "    <tr>\n",
       "      <th>var_jb_11_S</th>\n",
       "      <td>15</td>\n",
       "      <td>11.0</td>\n",
       "      <td>4.0</td>\n",
       "    </tr>\n",
       "    <tr>\n",
       "      <th>var_jb_11_028</th>\n",
       "      <td>7</td>\n",
       "      <td>6.0</td>\n",
       "      <td>1.0</td>\n",
       "    </tr>\n",
       "  </tbody>\n",
       "</table>\n",
       "</div>"
      ],
      "text/plain": [
       "                       0         G        B\n",
       "var_jb_11_others      23      23.0      NaN\n",
       "var_jb_11_027     985104  888156.0  96948.0\n",
       "var_jb_11_M           47      45.0      2.0\n",
       "var_jb_11_S           15      11.0      4.0\n",
       "var_jb_11_028          7       6.0      1.0"
      ]
     },
     "execution_count": 217,
     "metadata": {},
     "output_type": "execute_result"
    }
   ],
   "source": [
    "VC_df('var_jb_11','var_jb_11_others','var_jb_11_028')"
   ]
  },
  {
   "cell_type": "code",
   "execution_count": 218,
   "metadata": {},
   "outputs": [],
   "source": [
    "jiben.drop(['var_jb_11_others','var_jb_11_027','var_jb_11_M','var_jb_11_S','var_jb_11_028'],axis=1,inplace=True)"
   ]
  },
  {
   "cell_type": "markdown",
   "metadata": {},
   "source": [
    "<font color='green'>**行业类型**</font>"
   ]
  },
  {
   "cell_type": "code",
   "execution_count": 219,
   "metadata": {},
   "outputs": [],
   "source": [
    "df1,df2 = Fucking_VCNT('var_jb_12')"
   ]
  },
  {
   "cell_type": "code",
   "execution_count": 220,
   "metadata": {},
   "outputs": [
    {
     "data": {
      "text/html": [
       "<div>\n",
       "<style scoped>\n",
       "    .dataframe tbody tr th:only-of-type {\n",
       "        vertical-align: middle;\n",
       "    }\n",
       "\n",
       "    .dataframe tbody tr th {\n",
       "        vertical-align: top;\n",
       "    }\n",
       "\n",
       "    .dataframe thead th {\n",
       "        text-align: right;\n",
       "    }\n",
       "</style>\n",
       "<table border=\"1\" class=\"dataframe\">\n",
       "  <thead>\n",
       "    <tr style=\"text-align: right;\">\n",
       "      <th></th>\n",
       "      <th>0</th>\n",
       "    </tr>\n",
       "  </thead>\n",
       "  <tbody>\n",
       "    <tr>\n",
       "      <th>6.0</th>\n",
       "      <td>0.115466</td>\n",
       "    </tr>\n",
       "    <tr>\n",
       "      <th>5.0</th>\n",
       "      <td>0.079449</td>\n",
       "    </tr>\n",
       "    <tr>\n",
       "      <th>2.0</th>\n",
       "      <td>0.087127</td>\n",
       "    </tr>\n",
       "    <tr>\n",
       "      <th>1.0</th>\n",
       "      <td>0.061197</td>\n",
       "    </tr>\n",
       "    <tr>\n",
       "      <th>4.0</th>\n",
       "      <td>0.107010</td>\n",
       "    </tr>\n",
       "    <tr>\n",
       "      <th>3.0</th>\n",
       "      <td>0.088668</td>\n",
       "    </tr>\n",
       "    <tr>\n",
       "      <th>7.0</th>\n",
       "      <td>0.045931</td>\n",
       "    </tr>\n",
       "    <tr>\n",
       "      <th>0.0</th>\n",
       "      <td>0.000000</td>\n",
       "    </tr>\n",
       "    <tr>\n",
       "      <th>8.0</th>\n",
       "      <td>0.285714</td>\n",
       "    </tr>\n",
       "    <tr>\n",
       "      <th>9.0</th>\n",
       "      <td>0.000000</td>\n",
       "    </tr>\n",
       "    <tr>\n",
       "      <th>88.0</th>\n",
       "      <td>0.333333</td>\n",
       "    </tr>\n",
       "    <tr>\n",
       "      <th>85.0</th>\n",
       "      <td>0.000000</td>\n",
       "    </tr>\n",
       "    <tr>\n",
       "      <th>62.0</th>\n",
       "      <td>0.000000</td>\n",
       "    </tr>\n",
       "    <tr>\n",
       "      <th>28.0</th>\n",
       "      <td>0.000000</td>\n",
       "    </tr>\n",
       "    <tr>\n",
       "      <th>83.0</th>\n",
       "      <td>0.000000</td>\n",
       "    </tr>\n",
       "    <tr>\n",
       "      <th>55.0</th>\n",
       "      <td>0.000000</td>\n",
       "    </tr>\n",
       "    <tr>\n",
       "      <th>99.0</th>\n",
       "      <td>0.000000</td>\n",
       "    </tr>\n",
       "    <tr>\n",
       "      <th>33.0</th>\n",
       "      <td>0.000000</td>\n",
       "    </tr>\n",
       "    <tr>\n",
       "      <th>39.0</th>\n",
       "      <td>0.000000</td>\n",
       "    </tr>\n",
       "    <tr>\n",
       "      <th>41.0</th>\n",
       "      <td>0.000000</td>\n",
       "    </tr>\n",
       "    <tr>\n",
       "      <th>44.0</th>\n",
       "      <td>0.000000</td>\n",
       "    </tr>\n",
       "    <tr>\n",
       "      <th>45.0</th>\n",
       "      <td>0.000000</td>\n",
       "    </tr>\n",
       "    <tr>\n",
       "      <th>17.0</th>\n",
       "      <td>0.000000</td>\n",
       "    </tr>\n",
       "    <tr>\n",
       "      <th>60.0</th>\n",
       "      <td>0.000000</td>\n",
       "    </tr>\n",
       "    <tr>\n",
       "      <th>81.0</th>\n",
       "      <td>0.000000</td>\n",
       "    </tr>\n",
       "    <tr>\n",
       "      <th>89.0</th>\n",
       "      <td>0.000000</td>\n",
       "    </tr>\n",
       "    <tr>\n",
       "      <th>63.0</th>\n",
       "      <td>0.000000</td>\n",
       "    </tr>\n",
       "    <tr>\n",
       "      <th>87.0</th>\n",
       "      <td>0.000000</td>\n",
       "    </tr>\n",
       "    <tr>\n",
       "      <th>67.0</th>\n",
       "      <td>0.000000</td>\n",
       "    </tr>\n",
       "    <tr>\n",
       "      <th>86.0</th>\n",
       "      <td>0.000000</td>\n",
       "    </tr>\n",
       "    <tr>\n",
       "      <th>73.0</th>\n",
       "      <td>0.000000</td>\n",
       "    </tr>\n",
       "    <tr>\n",
       "      <th>24.0</th>\n",
       "      <td>0.000000</td>\n",
       "    </tr>\n",
       "    <tr>\n",
       "      <th>68.0</th>\n",
       "      <td>0.000000</td>\n",
       "    </tr>\n",
       "    <tr>\n",
       "      <th>nan</th>\n",
       "      <td>0.000000</td>\n",
       "    </tr>\n",
       "  </tbody>\n",
       "</table>\n",
       "</div>"
      ],
      "text/plain": [
       "             0\n",
       "6.0   0.115466\n",
       "5.0   0.079449\n",
       "2.0   0.087127\n",
       "1.0   0.061197\n",
       "4.0   0.107010\n",
       "3.0   0.088668\n",
       "7.0   0.045931\n",
       "0.0   0.000000\n",
       "8.0   0.285714\n",
       "9.0   0.000000\n",
       "88.0  0.333333\n",
       "85.0  0.000000\n",
       "62.0  0.000000\n",
       "28.0  0.000000\n",
       "83.0  0.000000\n",
       "55.0  0.000000\n",
       "99.0  0.000000\n",
       "33.0  0.000000\n",
       "39.0  0.000000\n",
       "41.0  0.000000\n",
       "44.0  0.000000\n",
       "45.0  0.000000\n",
       "17.0  0.000000\n",
       "60.0  0.000000\n",
       "81.0  0.000000\n",
       "89.0  0.000000\n",
       "63.0  0.000000\n",
       "87.0  0.000000\n",
       "67.0  0.000000\n",
       "86.0  0.000000\n",
       "73.0  0.000000\n",
       "24.0  0.000000\n",
       "68.0  0.000000\n",
       "nan   0.000000"
      ]
     },
     "execution_count": 220,
     "metadata": {},
     "output_type": "execute_result"
    }
   ],
   "source": [
    "df1"
   ]
  },
  {
   "cell_type": "code",
   "execution_count": 243,
   "metadata": {},
   "outputs": [],
   "source": [
    "cond1 = jiben['var_jb_12']==5.0\n",
    "cond2 = (jiben['var_jb_12']==2.0)|(jiben['var_jb_12']==3.0)|(jiben['var_jb_12']==7.0)|(jiben['var_jb_12']==6.0)\n",
    "cond3 = jiben['var_jb_12']==1.0\n",
    "cond4 = jiben['var_jb_12'].isin(list(df1.loc[df1.iloc[:,0]>=0.2].index.values))\n",
    "cond5 = jiben['var_jb_12'].isin(list(df1.loc[df1.iloc[:,0]==0].index.values))\n",
    "cond6 = jiben['var_jb_12']==4.0\n",
    "cond7 = cond4|cond5|cond6"
   ]
  },
  {
   "cell_type": "code",
   "execution_count": 246,
   "metadata": {},
   "outputs": [],
   "source": [
    "jiben['var_jb_12_1'] = cond1*1\n",
    "jiben['var_jb_12_2'] = cond2*1\n",
    "jiben['var_jb_12_3'] = cond3*1\n",
    "jiben['var_jb_12_4'] = cond7*1"
   ]
  },
  {
   "cell_type": "code",
   "execution_count": 249,
   "metadata": {},
   "outputs": [
    {
     "data": {
      "text/html": [
       "<div>\n",
       "<style scoped>\n",
       "    .dataframe tbody tr th:only-of-type {\n",
       "        vertical-align: middle;\n",
       "    }\n",
       "\n",
       "    .dataframe tbody tr th {\n",
       "        vertical-align: top;\n",
       "    }\n",
       "\n",
       "    .dataframe thead th {\n",
       "        text-align: right;\n",
       "    }\n",
       "</style>\n",
       "<table border=\"1\" class=\"dataframe\">\n",
       "  <thead>\n",
       "    <tr style=\"text-align: right;\">\n",
       "      <th></th>\n",
       "      <th>0</th>\n",
       "      <th>G</th>\n",
       "      <th>B</th>\n",
       "    </tr>\n",
       "  </thead>\n",
       "  <tbody>\n",
       "    <tr>\n",
       "      <th>var_jb_12_1</th>\n",
       "      <td>190146</td>\n",
       "      <td>175039</td>\n",
       "      <td>15107</td>\n",
       "    </tr>\n",
       "    <tr>\n",
       "      <th>var_jb_12_2</th>\n",
       "      <td>635673</td>\n",
       "      <td>567028</td>\n",
       "      <td>68645</td>\n",
       "    </tr>\n",
       "    <tr>\n",
       "      <th>var_jb_12_3</th>\n",
       "      <td>84138</td>\n",
       "      <td>78989</td>\n",
       "      <td>5149</td>\n",
       "    </tr>\n",
       "    <tr>\n",
       "      <th>var_jb_12_4</th>\n",
       "      <td>75202</td>\n",
       "      <td>67155</td>\n",
       "      <td>8047</td>\n",
       "    </tr>\n",
       "  </tbody>\n",
       "</table>\n",
       "</div>"
      ],
      "text/plain": [
       "                  0       G      B\n",
       "var_jb_12_1  190146  175039  15107\n",
       "var_jb_12_2  635673  567028  68645\n",
       "var_jb_12_3   84138   78989   5149\n",
       "var_jb_12_4   75202   67155   8047"
      ]
     },
     "execution_count": 249,
     "metadata": {},
     "output_type": "execute_result"
    }
   ],
   "source": [
    "VC_df('var_jb_12','var_jb_12_1','var_jb_12_4')"
   ]
  },
  {
   "cell_type": "markdown",
   "metadata": {},
   "source": [
    "<font color='green'>**行业**</font>"
   ]
  },
  {
   "cell_type": "code",
   "execution_count": 250,
   "metadata": {},
   "outputs": [],
   "source": [
    "values = list(jiben['var_jb_13'].value_counts().index.values)\n",
    "cond1 = (jiben['bad']=='G')|(jiben['bad']=='B')\n",
    "jiben_GB = jiben.loc[cond1]\n",
    "industry2_bad_per = {}\n",
    "industry2_gb_cnt = {}\n",
    "for i in values:\n",
    "    GB_v_cnt = jiben_GB.loc[jiben_GB['var_jb_13']==i]['bad'].value_counts()\n",
    "    if GB_v_cnt.shape[0]==1:\n",
    "        if GB_v_cnt.index.values=='G':\n",
    "            industry2_bad_per[i]=0\n",
    "            industry2_gb_cnt[i] = {}\n",
    "            industry2_gb_cnt[i]['Good'] = GB_v_cnt['G']\n",
    "            industry2_gb_cnt[i]['Bad'] = 0\n",
    "        else:\n",
    "            industry2_bad_per[i]=1\n",
    "            industry2_gb_cnt[i] = {}\n",
    "            industry2_gb_cnt[i]['Good'] = 0\n",
    "            industry2_gb_cnt[i]['Bad'] = GB_v_cnt['B']\n",
    "        continue\n",
    "    if GB_v_cnt.shape[0]==0:\n",
    "        industry2_bad_per[i]=0\n",
    "        industry2_gb_cnt[i] = {}\n",
    "        industry2_gb_cnt[i]['Good'] = 0\n",
    "        industry2_gb_cnt[i]['Bad'] = 0   \n",
    "        continue\n",
    "    industry2_bad_per[i] = GB_v_cnt['B']/(GB_v_cnt['G']+GB_v_cnt['B'])\n",
    "    industry2_gb_cnt[i] = {}\n",
    "    industry2_gb_cnt[i]['Good'] = GB_v_cnt['G']\n",
    "    industry2_gb_cnt[i]['Bad'] = GB_v_cnt['B']\n",
    "    \n",
    "GB_v_cnt = jiben_GB.loc[jiben_GB['var_jb_13'].isnull()==True]['bad'].value_counts()\n",
    "industry2_bad_per['nan'] = GB_v_cnt['B']/(GB_v_cnt['G']+GB_v_cnt['B'])\n",
    "industry2_gb_cnt['nan'] = {}\n",
    "industry2_gb_cnt['nan']['Good'] = GB_v_cnt['G']\n",
    "industry2_gb_cnt['nan']['Bad'] = GB_v_cnt['B']\n",
    "industry2_bad_per_df = pd.DataFrame([industry2_bad_per]).T.sort_values(by=0)"
   ]
  },
  {
   "cell_type": "code",
   "execution_count": 251,
   "metadata": {},
   "outputs": [],
   "source": [
    "industry2_cond1 = list(industry2_bad_per_df.loc[industry2_bad_per_df[0]>0.2].index.values)\n",
    "industry2_cond2 = list(industry2_bad_per_df.loc[(industry2_bad_per_df[0]<=0.2)&(industry2_bad_per_df[0]>0.15)].index.values)\n",
    "industry2_cond3 = list(industry2_bad_per_df.loc[(industry2_bad_per_df[0]<=0.15)&(industry2_bad_per_df[0]>=0.1)].index.values)\n",
    "industry2_cond4 = list(industry2_bad_per_df.loc[(industry2_bad_per_df[0]<0.1)&(industry2_bad_per_df[0]>=0.05)].index.values)\n",
    "industry2_cond5 = list(industry2_bad_per_df.loc[(industry2_bad_per_df[0]<0.05)&(industry2_bad_per_df[0]>0)].index.values)\n",
    "industry2_cond6 = list(industry2_bad_per_df.loc[industry2_bad_per_df[0]==0].index.values)"
   ]
  },
  {
   "cell_type": "code",
   "execution_count": 256,
   "metadata": {},
   "outputs": [],
   "source": [
    "cond1 = jiben['var_jb_13'].isin(industry2_cond1)\n",
    "cond2 = jiben['var_jb_13'].isin(industry2_cond2)\n",
    "cond3 = jiben['var_jb_13'].isin(industry2_cond3)\n",
    "cond4 = jiben['var_jb_13'].isin(industry2_cond4)\n",
    "cond5 = jiben['var_jb_13'].isin(industry2_cond5)\n",
    "cond6 = jiben['var_jb_13'].isin(industry2_cond6)\n",
    "cond7 = cond5|cond6"
   ]
  },
  {
   "cell_type": "code",
   "execution_count": 257,
   "metadata": {},
   "outputs": [],
   "source": [
    "jiben['var_jb_13_1'] = cond1*1\n",
    "jiben['var_jb_13_2']=cond2*1\n",
    "jiben['var_jb_13_3']=cond3*1\n",
    "jiben['var_jb_13_4']=cond4*1\n",
    "jiben['var_jb_13_5']=cond7*1"
   ]
  },
  {
   "cell_type": "code",
   "execution_count": 258,
   "metadata": {},
   "outputs": [
    {
     "data": {
      "text/html": [
       "<div>\n",
       "<style scoped>\n",
       "    .dataframe tbody tr th:only-of-type {\n",
       "        vertical-align: middle;\n",
       "    }\n",
       "\n",
       "    .dataframe tbody tr th {\n",
       "        vertical-align: top;\n",
       "    }\n",
       "\n",
       "    .dataframe thead th {\n",
       "        text-align: right;\n",
       "    }\n",
       "</style>\n",
       "<table border=\"1\" class=\"dataframe\">\n",
       "  <thead>\n",
       "    <tr style=\"text-align: right;\">\n",
       "      <th></th>\n",
       "      <th>0</th>\n",
       "      <th>G</th>\n",
       "      <th>B</th>\n",
       "    </tr>\n",
       "  </thead>\n",
       "  <tbody>\n",
       "    <tr>\n",
       "      <th>var_jb_13_1</th>\n",
       "      <td>405</td>\n",
       "      <td>316</td>\n",
       "      <td>89</td>\n",
       "    </tr>\n",
       "    <tr>\n",
       "      <th>var_jb_13_2</th>\n",
       "      <td>24289</td>\n",
       "      <td>20122</td>\n",
       "      <td>4167</td>\n",
       "    </tr>\n",
       "    <tr>\n",
       "      <th>var_jb_13_3</th>\n",
       "      <td>415498</td>\n",
       "      <td>365431</td>\n",
       "      <td>50067</td>\n",
       "    </tr>\n",
       "    <tr>\n",
       "      <th>var_jb_13_4</th>\n",
       "      <td>480198</td>\n",
       "      <td>440590</td>\n",
       "      <td>39608</td>\n",
       "    </tr>\n",
       "    <tr>\n",
       "      <th>var_jb_13_5</th>\n",
       "      <td>64743</td>\n",
       "      <td>61730</td>\n",
       "      <td>3013</td>\n",
       "    </tr>\n",
       "  </tbody>\n",
       "</table>\n",
       "</div>"
      ],
      "text/plain": [
       "                  0       G      B\n",
       "var_jb_13_1     405     316     89\n",
       "var_jb_13_2   24289   20122   4167\n",
       "var_jb_13_3  415498  365431  50067\n",
       "var_jb_13_4  480198  440590  39608\n",
       "var_jb_13_5   64743   61730   3013"
      ]
     },
     "execution_count": 258,
     "metadata": {},
     "output_type": "execute_result"
    }
   ],
   "source": [
    "VC_df('var_jb_13','var_jb_13_1','var_jb_13_5')"
   ]
  },
  {
   "cell_type": "markdown",
   "metadata": {},
   "source": [
    "<font color='green'>**职称**</font>"
   ]
  },
  {
   "cell_type": "code",
   "execution_count": 269,
   "metadata": {},
   "outputs": [],
   "source": [
    "df1,df2 = Fucking_VCNT('var_jb_14')"
   ]
  },
  {
   "cell_type": "code",
   "execution_count": 270,
   "metadata": {},
   "outputs": [
    {
     "data": {
      "text/html": [
       "<div>\n",
       "<style scoped>\n",
       "    .dataframe tbody tr th:only-of-type {\n",
       "        vertical-align: middle;\n",
       "    }\n",
       "\n",
       "    .dataframe tbody tr th {\n",
       "        vertical-align: top;\n",
       "    }\n",
       "\n",
       "    .dataframe thead th {\n",
       "        text-align: right;\n",
       "    }\n",
       "</style>\n",
       "<table border=\"1\" class=\"dataframe\">\n",
       "  <thead>\n",
       "    <tr style=\"text-align: right;\">\n",
       "      <th></th>\n",
       "      <th>0</th>\n",
       "    </tr>\n",
       "  </thead>\n",
       "  <tbody>\n",
       "    <tr>\n",
       "      <th>205.0</th>\n",
       "      <td>0.106619</td>\n",
       "    </tr>\n",
       "    <tr>\n",
       "      <th>212.0</th>\n",
       "      <td>0.104075</td>\n",
       "    </tr>\n",
       "    <tr>\n",
       "      <th>804.0</th>\n",
       "      <td>0.091801</td>\n",
       "    </tr>\n",
       "    <tr>\n",
       "      <th>206.0</th>\n",
       "      <td>0.107650</td>\n",
       "    </tr>\n",
       "    <tr>\n",
       "      <th>211.0</th>\n",
       "      <td>0.126014</td>\n",
       "    </tr>\n",
       "    <tr>\n",
       "      <th>207.0</th>\n",
       "      <td>0.098352</td>\n",
       "    </tr>\n",
       "    <tr>\n",
       "      <th>109.0</th>\n",
       "      <td>0.076764</td>\n",
       "    </tr>\n",
       "    <tr>\n",
       "      <th>301.0</th>\n",
       "      <td>0.072428</td>\n",
       "    </tr>\n",
       "    <tr>\n",
       "      <th>309.0</th>\n",
       "      <td>0.055869</td>\n",
       "    </tr>\n",
       "    <tr>\n",
       "      <th>208.0</th>\n",
       "      <td>0.080358</td>\n",
       "    </tr>\n",
       "    <tr>\n",
       "      <th>210.0</th>\n",
       "      <td>0.074215</td>\n",
       "    </tr>\n",
       "    <tr>\n",
       "      <th>108.0</th>\n",
       "      <td>0.053832</td>\n",
       "    </tr>\n",
       "    <tr>\n",
       "      <th>701.0</th>\n",
       "      <td>0.033554</td>\n",
       "    </tr>\n",
       "    <tr>\n",
       "      <th>506.0</th>\n",
       "      <td>0.044795</td>\n",
       "    </tr>\n",
       "    <tr>\n",
       "      <th>551.0</th>\n",
       "      <td>0.057412</td>\n",
       "    </tr>\n",
       "    <tr>\n",
       "      <th>302.0</th>\n",
       "      <td>0.079468</td>\n",
       "    </tr>\n",
       "    <tr>\n",
       "      <th>403.0</th>\n",
       "      <td>0.057078</td>\n",
       "    </tr>\n",
       "    <tr>\n",
       "      <th>310.0</th>\n",
       "      <td>0.058309</td>\n",
       "    </tr>\n",
       "    <tr>\n",
       "      <th>404.0</th>\n",
       "      <td>0.183885</td>\n",
       "    </tr>\n",
       "    <tr>\n",
       "      <th>667.0</th>\n",
       "      <td>0.023060</td>\n",
       "    </tr>\n",
       "    <tr>\n",
       "      <th>12.0</th>\n",
       "      <td>0.034830</td>\n",
       "    </tr>\n",
       "    <tr>\n",
       "      <th>653.0</th>\n",
       "      <td>0.119409</td>\n",
       "    </tr>\n",
       "    <tr>\n",
       "      <th>105.0</th>\n",
       "      <td>0.073366</td>\n",
       "    </tr>\n",
       "    <tr>\n",
       "      <th>718.0</th>\n",
       "      <td>0.033049</td>\n",
       "    </tr>\n",
       "    <tr>\n",
       "      <th>507.0</th>\n",
       "      <td>0.033931</td>\n",
       "    </tr>\n",
       "    <tr>\n",
       "      <th>552.0</th>\n",
       "      <td>0.057024</td>\n",
       "    </tr>\n",
       "    <tr>\n",
       "      <th>553.0</th>\n",
       "      <td>0.055241</td>\n",
       "    </tr>\n",
       "    <tr>\n",
       "      <th>306.0</th>\n",
       "      <td>0.067108</td>\n",
       "    </tr>\n",
       "    <tr>\n",
       "      <th>14.0</th>\n",
       "      <td>0.033041</td>\n",
       "    </tr>\n",
       "    <tr>\n",
       "      <th>959.0</th>\n",
       "      <td>0.104839</td>\n",
       "    </tr>\n",
       "    <tr>\n",
       "      <th>656.0</th>\n",
       "      <td>0.096716</td>\n",
       "    </tr>\n",
       "    <tr>\n",
       "      <th>650.0</th>\n",
       "      <td>0.116054</td>\n",
       "    </tr>\n",
       "    <tr>\n",
       "      <th>213.0</th>\n",
       "      <td>0.063810</td>\n",
       "    </tr>\n",
       "    <tr>\n",
       "      <th>751.0</th>\n",
       "      <td>0.015928</td>\n",
       "    </tr>\n",
       "    <tr>\n",
       "      <th>311.0</th>\n",
       "      <td>0.051329</td>\n",
       "    </tr>\n",
       "    <tr>\n",
       "      <th>719.0</th>\n",
       "      <td>0.042760</td>\n",
       "    </tr>\n",
       "    <tr>\n",
       "      <th>901.0</th>\n",
       "      <td>0.033259</td>\n",
       "    </tr>\n",
       "    <tr>\n",
       "      <th>13.0</th>\n",
       "      <td>0.017717</td>\n",
       "    </tr>\n",
       "    <tr>\n",
       "      <th>508.0</th>\n",
       "      <td>0.028232</td>\n",
       "    </tr>\n",
       "    <tr>\n",
       "      <th>15.0</th>\n",
       "      <td>0.032258</td>\n",
       "    </tr>\n",
       "    <tr>\n",
       "      <th>720.0</th>\n",
       "      <td>0.030534</td>\n",
       "    </tr>\n",
       "    <tr>\n",
       "      <th>554.0</th>\n",
       "      <td>0.044077</td>\n",
       "    </tr>\n",
       "    <tr>\n",
       "      <th>209.0</th>\n",
       "      <td>0.035599</td>\n",
       "    </tr>\n",
       "    <tr>\n",
       "      <th>657.0</th>\n",
       "      <td>0.060086</td>\n",
       "    </tr>\n",
       "    <tr>\n",
       "      <th>2.0</th>\n",
       "      <td>0.045113</td>\n",
       "    </tr>\n",
       "    <tr>\n",
       "      <th>670.0</th>\n",
       "      <td>0.052941</td>\n",
       "    </tr>\n",
       "    <tr>\n",
       "      <th>16.0</th>\n",
       "      <td>0.025641</td>\n",
       "    </tr>\n",
       "    <tr>\n",
       "      <th>305.0</th>\n",
       "      <td>0.102941</td>\n",
       "    </tr>\n",
       "    <tr>\n",
       "      <th>7.0</th>\n",
       "      <td>0.015504</td>\n",
       "    </tr>\n",
       "    <tr>\n",
       "      <th>555.0</th>\n",
       "      <td>0.107143</td>\n",
       "    </tr>\n",
       "    <tr>\n",
       "      <th>801.0</th>\n",
       "      <td>0.175000</td>\n",
       "    </tr>\n",
       "    <tr>\n",
       "      <th>903.0</th>\n",
       "      <td>0.064516</td>\n",
       "    </tr>\n",
       "    <tr>\n",
       "      <th>3.0</th>\n",
       "      <td>0.045455</td>\n",
       "    </tr>\n",
       "    <tr>\n",
       "      <th>999.0</th>\n",
       "      <td>0.000000</td>\n",
       "    </tr>\n",
       "    <tr>\n",
       "      <th>46.0</th>\n",
       "      <td>0.000000</td>\n",
       "    </tr>\n",
       "    <tr>\n",
       "      <th>73.0</th>\n",
       "      <td>0.000000</td>\n",
       "    </tr>\n",
       "    <tr>\n",
       "      <th>26.0</th>\n",
       "      <td>0.000000</td>\n",
       "    </tr>\n",
       "    <tr>\n",
       "      <th>0.0</th>\n",
       "      <td>0.000000</td>\n",
       "    </tr>\n",
       "    <tr>\n",
       "      <th>nan</th>\n",
       "      <td>0.000000</td>\n",
       "    </tr>\n",
       "  </tbody>\n",
       "</table>\n",
       "</div>"
      ],
      "text/plain": [
       "              0\n",
       "205.0  0.106619\n",
       "212.0  0.104075\n",
       "804.0  0.091801\n",
       "206.0  0.107650\n",
       "211.0  0.126014\n",
       "207.0  0.098352\n",
       "109.0  0.076764\n",
       "301.0  0.072428\n",
       "309.0  0.055869\n",
       "208.0  0.080358\n",
       "210.0  0.074215\n",
       "108.0  0.053832\n",
       "701.0  0.033554\n",
       "506.0  0.044795\n",
       "551.0  0.057412\n",
       "302.0  0.079468\n",
       "403.0  0.057078\n",
       "310.0  0.058309\n",
       "404.0  0.183885\n",
       "667.0  0.023060\n",
       "12.0   0.034830\n",
       "653.0  0.119409\n",
       "105.0  0.073366\n",
       "718.0  0.033049\n",
       "507.0  0.033931\n",
       "552.0  0.057024\n",
       "553.0  0.055241\n",
       "306.0  0.067108\n",
       "14.0   0.033041\n",
       "959.0  0.104839\n",
       "656.0  0.096716\n",
       "650.0  0.116054\n",
       "213.0  0.063810\n",
       "751.0  0.015928\n",
       "311.0  0.051329\n",
       "719.0  0.042760\n",
       "901.0  0.033259\n",
       "13.0   0.017717\n",
       "508.0  0.028232\n",
       "15.0   0.032258\n",
       "720.0  0.030534\n",
       "554.0  0.044077\n",
       "209.0  0.035599\n",
       "657.0  0.060086\n",
       "2.0    0.045113\n",
       "670.0  0.052941\n",
       "16.0   0.025641\n",
       "305.0  0.102941\n",
       "7.0    0.015504\n",
       "555.0  0.107143\n",
       "801.0  0.175000\n",
       "903.0  0.064516\n",
       "3.0    0.045455\n",
       "999.0  0.000000\n",
       "46.0   0.000000\n",
       "73.0   0.000000\n",
       "26.0   0.000000\n",
       "0.0    0.000000\n",
       "nan    0.000000"
      ]
     },
     "execution_count": 270,
     "metadata": {},
     "output_type": "execute_result"
    }
   ],
   "source": [
    "df1"
   ]
  },
  {
   "cell_type": "code",
   "execution_count": 262,
   "metadata": {},
   "outputs": [],
   "source": [
    "cond1 = jiben['var_jb_14'].isnull()==True\n",
    "jiben['var_jb_14_na'] = cond1*1"
   ]
  },
  {
   "cell_type": "markdown",
   "metadata": {},
   "source": [
    "<font color='green'>**产品代码**</font>"
   ]
  },
  {
   "cell_type": "code",
   "execution_count": 271,
   "metadata": {},
   "outputs": [],
   "source": [
    "procode_bad_per_df,df2 =Fucking_VCNT('var_jb_15')"
   ]
  },
  {
   "cell_type": "code",
   "execution_count": 272,
   "metadata": {},
   "outputs": [
    {
     "data": {
      "text/html": [
       "<div>\n",
       "<style scoped>\n",
       "    .dataframe tbody tr th:only-of-type {\n",
       "        vertical-align: middle;\n",
       "    }\n",
       "\n",
       "    .dataframe tbody tr th {\n",
       "        vertical-align: top;\n",
       "    }\n",
       "\n",
       "    .dataframe thead th {\n",
       "        text-align: right;\n",
       "    }\n",
       "</style>\n",
       "<table border=\"1\" class=\"dataframe\">\n",
       "  <thead>\n",
       "    <tr style=\"text-align: right;\">\n",
       "      <th></th>\n",
       "      <th>0</th>\n",
       "    </tr>\n",
       "  </thead>\n",
       "  <tbody>\n",
       "    <tr>\n",
       "      <th>0152</th>\n",
       "      <td>0.110762</td>\n",
       "    </tr>\n",
       "    <tr>\n",
       "      <th>1027</th>\n",
       "      <td>0.109480</td>\n",
       "    </tr>\n",
       "    <tr>\n",
       "      <th>1044</th>\n",
       "      <td>0.072420</td>\n",
       "    </tr>\n",
       "    <tr>\n",
       "      <th>1029</th>\n",
       "      <td>0.085147</td>\n",
       "    </tr>\n",
       "    <tr>\n",
       "      <th>0052</th>\n",
       "      <td>0.116023</td>\n",
       "    </tr>\n",
       "    <tr>\n",
       "      <th>...</th>\n",
       "      <td>...</td>\n",
       "    </tr>\n",
       "    <tr>\n",
       "      <th>0093</th>\n",
       "      <td>0.000000</td>\n",
       "    </tr>\n",
       "    <tr>\n",
       "      <th>0098</th>\n",
       "      <td>0.000000</td>\n",
       "    </tr>\n",
       "    <tr>\n",
       "      <th>0119</th>\n",
       "      <td>0.000000</td>\n",
       "    </tr>\n",
       "    <tr>\n",
       "      <th>0.0­\u0013</th>\n",
       "      <td>0.000000</td>\n",
       "    </tr>\n",
       "    <tr>\n",
       "      <th>nan</th>\n",
       "      <td>0.000000</td>\n",
       "    </tr>\n",
       "  </tbody>\n",
       "</table>\n",
       "<p>74 rows × 1 columns</p>\n",
       "</div>"
      ],
      "text/plain": [
       "              0\n",
       "0152   0.110762\n",
       "1027   0.109480\n",
       "1044   0.072420\n",
       "1029   0.085147\n",
       "0052   0.116023\n",
       "...         ...\n",
       "0093   0.000000\n",
       "0098   0.000000\n",
       "0119   0.000000\n",
       "0.0­\u0013  0.000000\n",
       "nan    0.000000\n",
       "\n",
       "[74 rows x 1 columns]"
      ]
     },
     "execution_count": 272,
     "metadata": {},
     "output_type": "execute_result"
    }
   ],
   "source": [
    "procode_bad_per_df"
   ]
  },
  {
   "cell_type": "code",
   "execution_count": 273,
   "metadata": {},
   "outputs": [],
   "source": [
    "procode_cond1 = list(procode_bad_per_df.loc[procode_bad_per_df[0]<0.01].index.values)\n",
    "procode_cond2 = list(procode_bad_per_df.loc[(procode_bad_per_df[0]>=0.01)&(procode_bad_per_df[0]<0.1)].index.values)\n",
    "procode_cond3 = list(procode_bad_per_df.loc[(procode_bad_per_df[0]>=0.1)&(procode_bad_per_df[0]<0.2)].index.values)\n",
    "procode_cond4 = list(procode_bad_per_df.loc[(procode_bad_per_df[0]>=0.2)&(procode_bad_per_df[0]<0.3)].index.values)\n",
    "procode_cond5 = list(procode_bad_per_df.loc[(procode_bad_per_df[0]>=0.3)&(procode_bad_per_df[0]<=0.5)].index.values)\n",
    "procode_cond6 = list(procode_bad_per_df.loc[procode_bad_per_df[0]>0.5].index.values)"
   ]
  },
  {
   "cell_type": "code",
   "execution_count": 281,
   "metadata": {},
   "outputs": [],
   "source": [
    "cond1 = jiben['var_jb_15'].isin(procode_cond1)\n",
    "cond2 = jiben['var_jb_15'].isin(procode_cond2)\n",
    "cond3 = jiben['var_jb_15'].isin(procode_cond3)\n",
    "cond4 = jiben['var_jb_15'].isin(procode_cond4)\n",
    "cond5 = jiben['var_jb_15'].isin(procode_cond5)\n",
    "cond6 = jiben['var_jb_15'].isin(procode_cond6)\n",
    "cond7 = cond1|cond4|cond5|cond6"
   ]
  },
  {
   "cell_type": "code",
   "execution_count": 284,
   "metadata": {},
   "outputs": [],
   "source": [
    "jiben['var_jb_15_1']= cond7*1\n",
    "jiben['var_jb_15_2']= cond2*1\n",
    "jiben['var_jb_15_3']= cond3*1"
   ]
  },
  {
   "cell_type": "code",
   "execution_count": 285,
   "metadata": {},
   "outputs": [
    {
     "data": {
      "text/html": [
       "<div>\n",
       "<style scoped>\n",
       "    .dataframe tbody tr th:only-of-type {\n",
       "        vertical-align: middle;\n",
       "    }\n",
       "\n",
       "    .dataframe tbody tr th {\n",
       "        vertical-align: top;\n",
       "    }\n",
       "\n",
       "    .dataframe thead th {\n",
       "        text-align: right;\n",
       "    }\n",
       "</style>\n",
       "<table border=\"1\" class=\"dataframe\">\n",
       "  <thead>\n",
       "    <tr style=\"text-align: right;\">\n",
       "      <th></th>\n",
       "      <th>0</th>\n",
       "      <th>G</th>\n",
       "      <th>B</th>\n",
       "    </tr>\n",
       "  </thead>\n",
       "  <tbody>\n",
       "    <tr>\n",
       "      <th>var_jb_15_1</th>\n",
       "      <td>6750</td>\n",
       "      <td>6729</td>\n",
       "      <td>21</td>\n",
       "    </tr>\n",
       "    <tr>\n",
       "      <th>var_jb_15_2</th>\n",
       "      <td>319543</td>\n",
       "      <td>295911</td>\n",
       "      <td>23632</td>\n",
       "    </tr>\n",
       "    <tr>\n",
       "      <th>var_jb_15_3</th>\n",
       "      <td>658908</td>\n",
       "      <td>585605</td>\n",
       "      <td>73303</td>\n",
       "    </tr>\n",
       "  </tbody>\n",
       "</table>\n",
       "</div>"
      ],
      "text/plain": [
       "                  0       G      B\n",
       "var_jb_15_1    6750    6729     21\n",
       "var_jb_15_2  319543  295911  23632\n",
       "var_jb_15_3  658908  585605  73303"
      ]
     },
     "execution_count": 285,
     "metadata": {},
     "output_type": "execute_result"
    }
   ],
   "source": [
    "VC_df('var_jb_15','var_jb_15_1','var_jb_15_3')"
   ]
  },
  {
   "cell_type": "markdown",
   "metadata": {},
   "source": [
    "**进件方式**"
   ]
  },
  {
   "cell_type": "code",
   "execution_count": 287,
   "metadata": {},
   "outputs": [],
   "source": [
    "jinjianway_bad_per_df,df2=Fucking_VCNT('var_jb_16')"
   ]
  },
  {
   "cell_type": "code",
   "execution_count": 288,
   "metadata": {},
   "outputs": [],
   "source": [
    "jinjianway_cond1 = list(jinjianway_bad_per_df.loc[jinjianway_bad_per_df[0]==0].index.values)\n",
    "jinjianway_cond1 = list(jinjianway_bad_per_df.loc[(jinjianway_bad_per_df[0]>0)&(jinjianway_bad_per_df[0]<0.05)].index.values)\n",
    "jinjianway_cond2 = list(jinjianway_bad_per_df.loc[(jinjianway_bad_per_df[0]>=0.05)&(jinjianway_bad_per_df[0]<0.1)].index.values)\n",
    "jinjianway_cond3 = list(jinjianway_bad_per_df.loc[(jinjianway_bad_per_df[0]>=0.1)&(jinjianway_bad_per_df[0]<0.2)].index.values)\n",
    "jinjianway_cond4 = list(jinjianway_bad_per_df.loc[(jinjianway_bad_per_df[0]>=0.2)&(jinjianway_bad_per_df[0]<0.3)].index.values)\n",
    "jinjianway_cond5 = list(jinjianway_bad_per_df.loc[(jinjianway_bad_per_df[0]>=0.3)&(jinjianway_bad_per_df[0]<0.5)].index.values)\n",
    "jinjianway_cond6 = list(jinjianway_bad_per_df.loc[(jinjianway_bad_per_df[0]>=0.5)].index.values)"
   ]
  },
  {
   "cell_type": "code",
   "execution_count": 294,
   "metadata": {},
   "outputs": [],
   "source": [
    "cond1 = jiben['var_jb_16'].isin(jinjianway_cond1)\n",
    "cond2 = jiben['var_jb_16'].isin(jinjianway_cond2)\n",
    "cond3 = jiben['var_jb_16'].isin(jinjianway_cond3)\n",
    "cond4 = jiben['var_jb_16'].isin(jinjianway_cond4)\n",
    "cond5 = jiben['var_jb_16'].isin(jinjianway_cond5)\n",
    "cond6 = jiben['var_jb_16'].isin(jinjianway_cond6)\n",
    "cond7 = cond3|cond4|cond5|cond6"
   ]
  },
  {
   "cell_type": "code",
   "execution_count": 295,
   "metadata": {},
   "outputs": [],
   "source": [
    "jiben['var_jb_16_1']= cond1*1\n",
    "jiben['var_jb_16_2']= cond2*1\n",
    "jiben['var_jb_16_3']= cond3*1\n",
    "jiben['var_jb_16_4']= cond7*1"
   ]
  },
  {
   "cell_type": "code",
   "execution_count": 297,
   "metadata": {},
   "outputs": [
    {
     "data": {
      "text/html": [
       "<div>\n",
       "<style scoped>\n",
       "    .dataframe tbody tr th:only-of-type {\n",
       "        vertical-align: middle;\n",
       "    }\n",
       "\n",
       "    .dataframe tbody tr th {\n",
       "        vertical-align: top;\n",
       "    }\n",
       "\n",
       "    .dataframe thead th {\n",
       "        text-align: right;\n",
       "    }\n",
       "</style>\n",
       "<table border=\"1\" class=\"dataframe\">\n",
       "  <thead>\n",
       "    <tr style=\"text-align: right;\">\n",
       "      <th></th>\n",
       "      <th>0</th>\n",
       "      <th>G</th>\n",
       "      <th>B</th>\n",
       "    </tr>\n",
       "  </thead>\n",
       "  <tbody>\n",
       "    <tr>\n",
       "      <th>var_jb_16_1</th>\n",
       "      <td>157863</td>\n",
       "      <td>152856</td>\n",
       "      <td>5007</td>\n",
       "    </tr>\n",
       "    <tr>\n",
       "      <th>var_jb_16_2</th>\n",
       "      <td>188298</td>\n",
       "      <td>173309</td>\n",
       "      <td>14989</td>\n",
       "    </tr>\n",
       "    <tr>\n",
       "      <th>var_jb_16_3</th>\n",
       "      <td>638384</td>\n",
       "      <td>561495</td>\n",
       "      <td>76889</td>\n",
       "    </tr>\n",
       "    <tr>\n",
       "      <th>var_jb_16_4</th>\n",
       "      <td>638555</td>\n",
       "      <td>561596</td>\n",
       "      <td>76959</td>\n",
       "    </tr>\n",
       "  </tbody>\n",
       "</table>\n",
       "</div>"
      ],
      "text/plain": [
       "                  0       G      B\n",
       "var_jb_16_1  157863  152856   5007\n",
       "var_jb_16_2  188298  173309  14989\n",
       "var_jb_16_3  638384  561495  76889\n",
       "var_jb_16_4  638555  561596  76959"
      ]
     },
     "execution_count": 297,
     "metadata": {},
     "output_type": "execute_result"
    }
   ],
   "source": [
    "VC_df('var_jb_16','var_jb_16_1','var_jb_16_4')"
   ]
  },
  {
   "cell_type": "markdown",
   "metadata": {},
   "source": [
    "**区域**"
   ]
  },
  {
   "cell_type": "code",
   "execution_count": 298,
   "metadata": {},
   "outputs": [],
   "source": [
    "area_bad_per_df,df2 = Fucking_VCNT('var_jb_17')"
   ]
  },
  {
   "cell_type": "code",
   "execution_count": 299,
   "metadata": {},
   "outputs": [],
   "source": [
    "area_cond1 = list(area_bad_per_df.loc[area_bad_per_df[0]==0].index.values)\n",
    "area_cond2 = list(area_bad_per_df.loc[(area_bad_per_df[0]>0)&(jinjianway_bad_per_df[0]<0.05)].index.values)\n",
    "area_cond3 = list(area_bad_per_df.loc[(area_bad_per_df[0]>=0.05)&(area_bad_per_df[0]<0.15)].index.values)\n",
    "area_cond4 = list(area_bad_per_df.loc[(area_bad_per_df[0]>=0.15)&(area_bad_per_df[0]<0.2)].index.values)\n",
    "area_cond5 = list(area_bad_per_df.loc[(area_bad_per_df[0]>=0.2)&(area_bad_per_df[0]<0.3)].index.values)\n",
    "area_cond6 = list(area_bad_per_df.loc[(area_bad_per_df[0]>=0.3)].index.values)"
   ]
  },
  {
   "cell_type": "code",
   "execution_count": 300,
   "metadata": {},
   "outputs": [],
   "source": [
    "cond1 = jiben['var_jb_17'].isin(area_cond1)\n",
    "cond2 = jiben['var_jb_17'].isin(area_cond2)\n",
    "cond3 = jiben['var_jb_17'].isin(area_cond3)\n",
    "cond4 = jiben['var_jb_17'].isin(area_cond4)\n",
    "cond5 = jiben['var_jb_17'].isin(area_cond5)\n",
    "cond6 = jiben['var_jb_17'].isin(area_cond6)"
   ]
  },
  {
   "cell_type": "code",
   "execution_count": 301,
   "metadata": {},
   "outputs": [],
   "source": [
    "jiben['var_jb_17_1']= cond1*1\n",
    "jiben['var_jb_17_2']= cond2*1\n",
    "jiben['var_jb_17_3']= cond3*1\n",
    "jiben['var_jb_17_4']= cond4*1\n",
    "jiben['var_jb_17_5']= cond5*1\n",
    "jiben['var_jb_17_6']= cond6*1"
   ]
  },
  {
   "cell_type": "code",
   "execution_count": 304,
   "metadata": {},
   "outputs": [],
   "source": [
    "jiben.drop(['var_jb_17_1','var_jb_17_2','var_jb_17_3','var_jb_17_4','var_jb_17_5','var_jb_17_6'],axis=1,inplace=True)"
   ]
  },
  {
   "cell_type": "markdown",
   "metadata": {},
   "source": [
    "**职业分类**"
   ]
  },
  {
   "cell_type": "code",
   "execution_count": 305,
   "metadata": {},
   "outputs": [],
   "source": [
    "df1,df2 = Fucking_VCNT('var_jb_18')"
   ]
  },
  {
   "cell_type": "code",
   "execution_count": 306,
   "metadata": {},
   "outputs": [
    {
     "data": {
      "text/html": [
       "<div>\n",
       "<style scoped>\n",
       "    .dataframe tbody tr th:only-of-type {\n",
       "        vertical-align: middle;\n",
       "    }\n",
       "\n",
       "    .dataframe tbody tr th {\n",
       "        vertical-align: top;\n",
       "    }\n",
       "\n",
       "    .dataframe thead th {\n",
       "        text-align: right;\n",
       "    }\n",
       "</style>\n",
       "<table border=\"1\" class=\"dataframe\">\n",
       "  <thead>\n",
       "    <tr style=\"text-align: right;\">\n",
       "      <th></th>\n",
       "      <th>0</th>\n",
       "    </tr>\n",
       "  </thead>\n",
       "  <tbody>\n",
       "    <tr>\n",
       "      <th>B</th>\n",
       "      <td>0.105798</td>\n",
       "    </tr>\n",
       "    <tr>\n",
       "      <th>E</th>\n",
       "      <td>0.101292</td>\n",
       "    </tr>\n",
       "    <tr>\n",
       "      <th>O</th>\n",
       "      <td>0.091700</td>\n",
       "    </tr>\n",
       "    <tr>\n",
       "      <th>F</th>\n",
       "      <td>0.072456</td>\n",
       "    </tr>\n",
       "    <tr>\n",
       "      <th>D</th>\n",
       "      <td>0.061956</td>\n",
       "    </tr>\n",
       "    <tr>\n",
       "      <th>G</th>\n",
       "      <td>0.035475</td>\n",
       "    </tr>\n",
       "    <tr>\n",
       "      <th>A</th>\n",
       "      <td>0.096950</td>\n",
       "    </tr>\n",
       "    <tr>\n",
       "      <th>C</th>\n",
       "      <td>0.113260</td>\n",
       "    </tr>\n",
       "    <tr>\n",
       "      <th>1.0</th>\n",
       "      <td>0.000000</td>\n",
       "    </tr>\n",
       "    <tr>\n",
       "      <th>nan</th>\n",
       "      <td>0.000000</td>\n",
       "    </tr>\n",
       "  </tbody>\n",
       "</table>\n",
       "</div>"
      ],
      "text/plain": [
       "            0\n",
       "B    0.105798\n",
       "E    0.101292\n",
       "O    0.091700\n",
       "F    0.072456\n",
       "D    0.061956\n",
       "G    0.035475\n",
       "A    0.096950\n",
       "C    0.113260\n",
       "1.0  0.000000\n",
       "nan  0.000000"
      ]
     },
     "execution_count": 306,
     "metadata": {},
     "output_type": "execute_result"
    }
   ],
   "source": [
    "df1"
   ]
  },
  {
   "cell_type": "code",
   "execution_count": 308,
   "metadata": {},
   "outputs": [],
   "source": [
    "cond1 = (jiben['var_jb_18']=='B')|(jiben['var_jb_18']=='E')\n",
    "cond2 = (jiben['var_jb_18']=='O')|(jiben['var_jb_18']=='A')\n",
    "cond3 = (jiben['var_jb_18']=='F')|(jiben['var_jb_18']=='D')\n",
    "cond4 = (jiben['var_jb_18']=='C')\n",
    "cond5 = (jiben['var_jb_18'].isnull()==True)|(jiben['var_jb_18']=='G')|(jiben['var_jb_18']=='1.0')|(jiben['var_jb_18']==1.0)"
   ]
  },
  {
   "cell_type": "code",
   "execution_count": 309,
   "metadata": {},
   "outputs": [],
   "source": [
    "jiben['var_jb_18_1'] = cond1*1\n",
    "jiben['var_jb_18_2'] = cond2*1\n",
    "jiben['var_jb_18_3'] = cond3*1\n",
    "jiben['var_jb_18_4'] = cond4*1\n",
    "jiben['var_jb_18_5'] = cond5*1"
   ]
  },
  {
   "cell_type": "code",
   "execution_count": 310,
   "metadata": {},
   "outputs": [
    {
     "data": {
      "text/html": [
       "<div>\n",
       "<style scoped>\n",
       "    .dataframe tbody tr th:only-of-type {\n",
       "        vertical-align: middle;\n",
       "    }\n",
       "\n",
       "    .dataframe tbody tr th {\n",
       "        vertical-align: top;\n",
       "    }\n",
       "\n",
       "    .dataframe thead th {\n",
       "        text-align: right;\n",
       "    }\n",
       "</style>\n",
       "<table border=\"1\" class=\"dataframe\">\n",
       "  <thead>\n",
       "    <tr style=\"text-align: right;\">\n",
       "      <th></th>\n",
       "      <th>0</th>\n",
       "      <th>G</th>\n",
       "      <th>B</th>\n",
       "    </tr>\n",
       "  </thead>\n",
       "  <tbody>\n",
       "    <tr>\n",
       "      <th>var_jb_18_1</th>\n",
       "      <td>753717</td>\n",
       "      <td>675366</td>\n",
       "      <td>78351</td>\n",
       "    </tr>\n",
       "    <tr>\n",
       "      <th>var_jb_18_2</th>\n",
       "      <td>105525</td>\n",
       "      <td>95805</td>\n",
       "      <td>9720</td>\n",
       "    </tr>\n",
       "    <tr>\n",
       "      <th>var_jb_18_3</th>\n",
       "      <td>89382</td>\n",
       "      <td>83282</td>\n",
       "      <td>6100</td>\n",
       "    </tr>\n",
       "    <tr>\n",
       "      <th>var_jb_18_4</th>\n",
       "      <td>2896</td>\n",
       "      <td>2568</td>\n",
       "      <td>328</td>\n",
       "    </tr>\n",
       "    <tr>\n",
       "      <th>var_jb_18_5</th>\n",
       "      <td>33681</td>\n",
       "      <td>31224</td>\n",
       "      <td>2457</td>\n",
       "    </tr>\n",
       "  </tbody>\n",
       "</table>\n",
       "</div>"
      ],
      "text/plain": [
       "                  0       G      B\n",
       "var_jb_18_1  753717  675366  78351\n",
       "var_jb_18_2  105525   95805   9720\n",
       "var_jb_18_3   89382   83282   6100\n",
       "var_jb_18_4    2896    2568    328\n",
       "var_jb_18_5   33681   31224   2457"
      ]
     },
     "execution_count": 310,
     "metadata": {},
     "output_type": "execute_result"
    }
   ],
   "source": [
    "VC_df('var_jb_18','var_jb_18_1','var_jb_18_5')"
   ]
  },
  {
   "cell_type": "markdown",
   "metadata": {},
   "source": [
    "**关键信息是否修改表示**"
   ]
  },
  {
   "cell_type": "code",
   "execution_count": 311,
   "metadata": {},
   "outputs": [],
   "source": [
    "df1,df2 = Fucking_VCNT('var_jb_19')"
   ]
  },
  {
   "cell_type": "code",
   "execution_count": 312,
   "metadata": {},
   "outputs": [
    {
     "data": {
      "text/html": [
       "<div>\n",
       "<style scoped>\n",
       "    .dataframe tbody tr th:only-of-type {\n",
       "        vertical-align: middle;\n",
       "    }\n",
       "\n",
       "    .dataframe tbody tr th {\n",
       "        vertical-align: top;\n",
       "    }\n",
       "\n",
       "    .dataframe thead th {\n",
       "        text-align: right;\n",
       "    }\n",
       "</style>\n",
       "<table border=\"1\" class=\"dataframe\">\n",
       "  <thead>\n",
       "    <tr style=\"text-align: right;\">\n",
       "      <th></th>\n",
       "      <th>0</th>\n",
       "    </tr>\n",
       "  </thead>\n",
       "  <tbody>\n",
       "    <tr>\n",
       "      <th>0.0</th>\n",
       "      <td>0.099597</td>\n",
       "    </tr>\n",
       "    <tr>\n",
       "      <th>1.0</th>\n",
       "      <td>0.044251</td>\n",
       "    </tr>\n",
       "    <tr>\n",
       "      <th>nan</th>\n",
       "      <td>0.000000</td>\n",
       "    </tr>\n",
       "  </tbody>\n",
       "</table>\n",
       "</div>"
      ],
      "text/plain": [
       "            0\n",
       "0.0  0.099597\n",
       "1.0  0.044251\n",
       "nan  0.000000"
      ]
     },
     "execution_count": 312,
     "metadata": {},
     "output_type": "execute_result"
    }
   ],
   "source": [
    "df1"
   ]
  },
  {
   "cell_type": "code",
   "execution_count": 313,
   "metadata": {},
   "outputs": [],
   "source": [
    "cond1 = jiben['var_jb_19']==1\n",
    "cond2 = jiben['var_jb_19']==0\n",
    "cond3 = jiben['var_jb_19'].isnull()==True\n",
    "\n",
    "jiben['var_jb_19_1'] = cond1*1\n",
    "jiben['var_jb_19_0'] = cond2*1\n",
    "jiben['var_jb_19_na'] = cond3*1"
   ]
  },
  {
   "cell_type": "code",
   "execution_count": 314,
   "metadata": {},
   "outputs": [
    {
     "data": {
      "text/html": [
       "<div>\n",
       "<style scoped>\n",
       "    .dataframe tbody tr th:only-of-type {\n",
       "        vertical-align: middle;\n",
       "    }\n",
       "\n",
       "    .dataframe tbody tr th {\n",
       "        vertical-align: top;\n",
       "    }\n",
       "\n",
       "    .dataframe thead th {\n",
       "        text-align: right;\n",
       "    }\n",
       "</style>\n",
       "<table border=\"1\" class=\"dataframe\">\n",
       "  <thead>\n",
       "    <tr style=\"text-align: right;\">\n",
       "      <th></th>\n",
       "      <th>0</th>\n",
       "      <th>G</th>\n",
       "      <th>B</th>\n",
       "    </tr>\n",
       "  </thead>\n",
       "  <tbody>\n",
       "    <tr>\n",
       "      <th>var_jb_19_1</th>\n",
       "      <td>24203</td>\n",
       "      <td>23132</td>\n",
       "      <td>1071</td>\n",
       "    </tr>\n",
       "    <tr>\n",
       "      <th>var_jb_19_0</th>\n",
       "      <td>944001</td>\n",
       "      <td>849981</td>\n",
       "      <td>94020</td>\n",
       "    </tr>\n",
       "    <tr>\n",
       "      <th>var_jb_19_na</th>\n",
       "      <td>16997</td>\n",
       "      <td>15132</td>\n",
       "      <td>1865</td>\n",
       "    </tr>\n",
       "  </tbody>\n",
       "</table>\n",
       "</div>"
      ],
      "text/plain": [
       "                   0       G      B\n",
       "var_jb_19_1    24203   23132   1071\n",
       "var_jb_19_0   944001  849981  94020\n",
       "var_jb_19_na   16997   15132   1865"
      ]
     },
     "execution_count": 314,
     "metadata": {},
     "output_type": "execute_result"
    }
   ],
   "source": [
    "VC_df('var_jb_19','var_jb_19_1','var_jb_19_na')"
   ]
  },
  {
   "cell_type": "markdown",
   "metadata": {},
   "source": [
    "**近1月征信查询次数/近6个月征信查询次数**"
   ]
  },
  {
   "cell_type": "code",
   "execution_count": 315,
   "metadata": {},
   "outputs": [
    {
     "data": {
      "text/plain": [
       "<matplotlib.axes._subplots.AxesSubplot at 0x7fa2f5e70a10>"
      ]
     },
     "execution_count": 315,
     "metadata": {},
     "output_type": "execute_result"
    },
    {
     "data": {
      "image/png": "[encoded data removed]",
      "text/plain": [
       "<Figure size 432x288 with 1 Axes>"
      ]
     },
     "metadata": {
      "needs_background": "light"
     },
     "output_type": "display_data"
    }
   ],
   "source": [
    "sns.kdeplot(jiben['var_jb_20'])"
   ]
  },
  {
   "cell_type": "code",
   "execution_count": 348,
   "metadata": {},
   "outputs": [],
   "source": [
    "cond1 = jiben['var_jb_20'].fillna(0)<0\n",
    "jiben['var_jb_20_neg'] = 1*(cond1)"
   ]
  },
  {
   "cell_type": "code",
   "execution_count": 349,
   "metadata": {},
   "outputs": [],
   "source": [
    "jiben['var_jb_20_log'] = np.log((jiben['var_jb_20'].fillna(0))*(jiben['var_jb_20'].fillna(0)>=0)+1)"
   ]
  },
  {
   "cell_type": "code",
   "execution_count": 351,
   "metadata": {},
   "outputs": [],
   "source": [
    "ol_thres = jiben['var_jb_20_log'].quantile(0.95)\n",
    "jiben['var_jb_20_outlier'] = jiben['var_jb_20_log']>=ol_thres"
   ]
  },
  {
   "cell_type": "markdown",
   "metadata": {},
   "source": [
    "**住房类贷款数**"
   ]
  },
  {
   "cell_type": "code",
   "execution_count": 316,
   "metadata": {},
   "outputs": [],
   "source": [
    "houseloan_bad_per_df,df2 = Fucking_VCNT('var_jb_21')"
   ]
  },
  {
   "cell_type": "code",
   "execution_count": 317,
   "metadata": {},
   "outputs": [
    {
     "data": {
      "text/html": [
       "<div>\n",
       "<style scoped>\n",
       "    .dataframe tbody tr th:only-of-type {\n",
       "        vertical-align: middle;\n",
       "    }\n",
       "\n",
       "    .dataframe tbody tr th {\n",
       "        vertical-align: top;\n",
       "    }\n",
       "\n",
       "    .dataframe thead th {\n",
       "        text-align: right;\n",
       "    }\n",
       "</style>\n",
       "<table border=\"1\" class=\"dataframe\">\n",
       "  <thead>\n",
       "    <tr style=\"text-align: right;\">\n",
       "      <th></th>\n",
       "      <th>0</th>\n",
       "    </tr>\n",
       "  </thead>\n",
       "  <tbody>\n",
       "    <tr>\n",
       "      <th>0.0</th>\n",
       "      <td>0.139635</td>\n",
       "    </tr>\n",
       "    <tr>\n",
       "      <th>-99997.0</th>\n",
       "      <td>0.074067</td>\n",
       "    </tr>\n",
       "    <tr>\n",
       "      <th>1.0</th>\n",
       "      <td>0.059641</td>\n",
       "    </tr>\n",
       "    <tr>\n",
       "      <th>2.0</th>\n",
       "      <td>0.028349</td>\n",
       "    </tr>\n",
       "    <tr>\n",
       "      <th>3.0</th>\n",
       "      <td>0.023425</td>\n",
       "    </tr>\n",
       "    <tr>\n",
       "      <th>4.0</th>\n",
       "      <td>0.029079</td>\n",
       "    </tr>\n",
       "    <tr>\n",
       "      <th>5.0</th>\n",
       "      <td>0.013889</td>\n",
       "    </tr>\n",
       "    <tr>\n",
       "      <th>6.0</th>\n",
       "      <td>0.040816</td>\n",
       "    </tr>\n",
       "    <tr>\n",
       "      <th>7.0</th>\n",
       "      <td>0.050000</td>\n",
       "    </tr>\n",
       "    <tr>\n",
       "      <th>8.0</th>\n",
       "      <td>0.000000</td>\n",
       "    </tr>\n",
       "    <tr>\n",
       "      <th>9.0</th>\n",
       "      <td>0.000000</td>\n",
       "    </tr>\n",
       "    <tr>\n",
       "      <th>10.0</th>\n",
       "      <td>0.000000</td>\n",
       "    </tr>\n",
       "    <tr>\n",
       "      <th>14.0</th>\n",
       "      <td>0.000000</td>\n",
       "    </tr>\n",
       "    <tr>\n",
       "      <th>21.0</th>\n",
       "      <td>0.000000</td>\n",
       "    </tr>\n",
       "    <tr>\n",
       "      <th>17.0</th>\n",
       "      <td>0.000000</td>\n",
       "    </tr>\n",
       "    <tr>\n",
       "      <th>11.0</th>\n",
       "      <td>0.000000</td>\n",
       "    </tr>\n",
       "    <tr>\n",
       "      <th>nan</th>\n",
       "      <td>0.000000</td>\n",
       "    </tr>\n",
       "  </tbody>\n",
       "</table>\n",
       "</div>"
      ],
      "text/plain": [
       "                 0\n",
       "0.0       0.139635\n",
       "-99997.0  0.074067\n",
       "1.0       0.059641\n",
       "2.0       0.028349\n",
       "3.0       0.023425\n",
       "4.0       0.029079\n",
       "5.0       0.013889\n",
       "6.0       0.040816\n",
       "7.0       0.050000\n",
       "8.0       0.000000\n",
       "9.0       0.000000\n",
       "10.0      0.000000\n",
       "14.0      0.000000\n",
       "21.0      0.000000\n",
       "17.0      0.000000\n",
       "11.0      0.000000\n",
       "nan       0.000000"
      ]
     },
     "execution_count": 317,
     "metadata": {},
     "output_type": "execute_result"
    }
   ],
   "source": [
    "houseloan_bad_per_df"
   ]
  },
  {
   "cell_type": "code",
   "execution_count": 352,
   "metadata": {},
   "outputs": [],
   "source": [
    "cond1 = jiben['var_jb_21']<0\n",
    "jiben['var_jb_21_original'] = (jiben['var_jb_21'].fillna(0))*(jiben['var_jb_21'].fillna(0)>=0)\n",
    "jiben['var_jb_21_neg'] = cond1*1"
   ]
  },
  {
   "cell_type": "code",
   "execution_count": 355,
   "metadata": {},
   "outputs": [
    {
     "data": {
      "text/html": [
       "<div>\n",
       "<style scoped>\n",
       "    .dataframe tbody tr th:only-of-type {\n",
       "        vertical-align: middle;\n",
       "    }\n",
       "\n",
       "    .dataframe tbody tr th {\n",
       "        vertical-align: top;\n",
       "    }\n",
       "\n",
       "    .dataframe thead th {\n",
       "        text-align: right;\n",
       "    }\n",
       "</style>\n",
       "<table border=\"1\" class=\"dataframe\">\n",
       "  <thead>\n",
       "    <tr style=\"text-align: right;\">\n",
       "      <th></th>\n",
       "      <th>0</th>\n",
       "      <th>G</th>\n",
       "      <th>B</th>\n",
       "    </tr>\n",
       "  </thead>\n",
       "  <tbody>\n",
       "    <tr>\n",
       "      <th>var_jb_21_original</th>\n",
       "      <td>206352.0</td>\n",
       "      <td>170232</td>\n",
       "      <td>10072</td>\n",
       "    </tr>\n",
       "    <tr>\n",
       "      <th>var_jb_21_neg</th>\n",
       "      <td>308922.0</td>\n",
       "      <td>286041</td>\n",
       "      <td>22881</td>\n",
       "    </tr>\n",
       "  </tbody>\n",
       "</table>\n",
       "</div>"
      ],
      "text/plain": [
       "                           0       G      B\n",
       "var_jb_21_original  206352.0  170232  10072\n",
       "var_jb_21_neg       308922.0  286041  22881"
      ]
     },
     "execution_count": 355,
     "metadata": {},
     "output_type": "execute_result"
    }
   ],
   "source": [
    "VC_df('var_jb_21','var_jb_21_original','var_jb_21_neg')"
   ]
  },
  {
   "cell_type": "markdown",
   "metadata": {},
   "source": [
    "**正常状态贷记卡、贷款最大账龄(不含到期)**"
   ]
  },
  {
   "cell_type": "code",
   "execution_count": 321,
   "metadata": {},
   "outputs": [],
   "source": [
    "actage_bad_per_df,df2 = Fucking_VCNT('var_jb_22')"
   ]
  },
  {
   "cell_type": "code",
   "execution_count": 323,
   "metadata": {},
   "outputs": [
    {
     "data": {
      "text/html": [
       "<div>\n",
       "<style scoped>\n",
       "    .dataframe tbody tr th:only-of-type {\n",
       "        vertical-align: middle;\n",
       "    }\n",
       "\n",
       "    .dataframe tbody tr th {\n",
       "        vertical-align: top;\n",
       "    }\n",
       "\n",
       "    .dataframe thead th {\n",
       "        text-align: right;\n",
       "    }\n",
       "</style>\n",
       "<table border=\"1\" class=\"dataframe\">\n",
       "  <thead>\n",
       "    <tr style=\"text-align: right;\">\n",
       "      <th></th>\n",
       "      <th>0</th>\n",
       "    </tr>\n",
       "  </thead>\n",
       "  <tbody>\n",
       "    <tr>\n",
       "      <th>-99996.0</th>\n",
       "      <td>0.103065</td>\n",
       "    </tr>\n",
       "    <tr>\n",
       "      <th>10.0</th>\n",
       "      <td>0.138493</td>\n",
       "    </tr>\n",
       "    <tr>\n",
       "      <th>12.0</th>\n",
       "      <td>0.134479</td>\n",
       "    </tr>\n",
       "    <tr>\n",
       "      <th>9.0</th>\n",
       "      <td>0.141921</td>\n",
       "    </tr>\n",
       "    <tr>\n",
       "      <th>8.0</th>\n",
       "      <td>0.141178</td>\n",
       "    </tr>\n",
       "    <tr>\n",
       "      <th>...</th>\n",
       "      <td>...</td>\n",
       "    </tr>\n",
       "    <tr>\n",
       "      <th>1418.0</th>\n",
       "      <td>0.000000</td>\n",
       "    </tr>\n",
       "    <tr>\n",
       "      <th>1413.0</th>\n",
       "      <td>0.000000</td>\n",
       "    </tr>\n",
       "    <tr>\n",
       "      <th>337.0</th>\n",
       "      <td>0.000000</td>\n",
       "    </tr>\n",
       "    <tr>\n",
       "      <th>326.0</th>\n",
       "      <td>0.000000</td>\n",
       "    </tr>\n",
       "    <tr>\n",
       "      <th>nan</th>\n",
       "      <td>0.000000</td>\n",
       "    </tr>\n",
       "  </tbody>\n",
       "</table>\n",
       "<p>338 rows × 1 columns</p>\n",
       "</div>"
      ],
      "text/plain": [
       "                 0\n",
       "-99996.0  0.103065\n",
       "10.0      0.138493\n",
       "12.0      0.134479\n",
       "9.0       0.141921\n",
       "8.0       0.141178\n",
       "...            ...\n",
       "1418.0    0.000000\n",
       "1413.0    0.000000\n",
       "337.0     0.000000\n",
       "326.0     0.000000\n",
       "nan       0.000000\n",
       "\n",
       "[338 rows x 1 columns]"
      ]
     },
     "execution_count": 323,
     "metadata": {},
     "output_type": "execute_result"
    }
   ],
   "source": [
    "actage_bad_per_df"
   ]
  },
  {
   "cell_type": "code",
   "execution_count": 329,
   "metadata": {},
   "outputs": [],
   "source": [
    "b = jiben['var_jb_22']>=0\n",
    "jiben['var_jb_22_original'] = jiben['var_jb_22']\n",
    "jiben['var_jb_22_neg'] = jiben['var_jb_22']<0\n",
    "ol_thres = jiben['var_jb_22'].quantile(0.99)\n",
    "jiben['var_jb_22_outlier'] = jiben['var_jb_22']>=ol_thres"
   ]
  },
  {
   "cell_type": "code",
   "execution_count": 363,
   "metadata": {},
   "outputs": [],
   "source": [
    "jiben['var_jb_22_original'] = (jiben['var_jb_22_original']>=0)*(jiben['var_jb_22_original'])"
   ]
  },
  {
   "cell_type": "code",
   "execution_count": 364,
   "metadata": {},
   "outputs": [],
   "source": [
    "jiben['var_jb_22_neg'] = jiben['var_jb_22_neg']*1"
   ]
  },
  {
   "cell_type": "code",
   "execution_count": 365,
   "metadata": {},
   "outputs": [],
   "source": [
    "jiben['var_jb_22_outlier'] = jiben['var_jb_22_outlier']*1"
   ]
  },
  {
   "cell_type": "code",
   "execution_count": 366,
   "metadata": {},
   "outputs": [
    {
     "data": {
      "text/html": [
       "<div>\n",
       "<style scoped>\n",
       "    .dataframe tbody tr th:only-of-type {\n",
       "        vertical-align: middle;\n",
       "    }\n",
       "\n",
       "    .dataframe tbody tr th {\n",
       "        vertical-align: top;\n",
       "    }\n",
       "\n",
       "    .dataframe thead th {\n",
       "        text-align: right;\n",
       "    }\n",
       "</style>\n",
       "<table border=\"1\" class=\"dataframe\">\n",
       "  <thead>\n",
       "    <tr style=\"text-align: right;\">\n",
       "      <th></th>\n",
       "      <th>0</th>\n",
       "      <th>G</th>\n",
       "      <th>B</th>\n",
       "    </tr>\n",
       "  </thead>\n",
       "  <tbody>\n",
       "    <tr>\n",
       "      <th>var_jb_22_original</th>\n",
       "      <td>36099030.0</td>\n",
       "      <td>717603</td>\n",
       "      <td>78202</td>\n",
       "    </tr>\n",
       "    <tr>\n",
       "      <th>var_jb_22_neg</th>\n",
       "      <td>65522.0</td>\n",
       "      <td>58769</td>\n",
       "      <td>6753</td>\n",
       "    </tr>\n",
       "    <tr>\n",
       "      <th>var_jb_22_outlier</th>\n",
       "      <td>10066.0</td>\n",
       "      <td>9721</td>\n",
       "      <td>345</td>\n",
       "    </tr>\n",
       "  </tbody>\n",
       "</table>\n",
       "</div>"
      ],
      "text/plain": [
       "                             0       G      B\n",
       "var_jb_22_original  36099030.0  717603  78202\n",
       "var_jb_22_neg          65522.0   58769   6753\n",
       "var_jb_22_outlier      10066.0    9721    345"
      ]
     },
     "execution_count": 366,
     "metadata": {},
     "output_type": "execute_result"
    }
   ],
   "source": [
    "VC_df('var_jb_22','var_jb_22_original','var_jb_22_outlier')"
   ]
  },
  {
   "cell_type": "code",
   "execution_count": 334,
   "metadata": {},
   "outputs": [
    {
     "data": {
      "text/plain": [
       "165364"
      ]
     },
     "execution_count": 334,
     "metadata": {},
     "output_type": "execute_result"
    }
   ],
   "source": [
    "jiben.loc[:,'var_jb_22_neg':'var_jb_22_outlier'].sum().sum()"
   ]
  },
  {
   "cell_type": "markdown",
   "metadata": {},
   "source": [
    "**他行征信最大账龄（不含准贷卡）**"
   ]
  },
  {
   "cell_type": "code",
   "execution_count": 335,
   "metadata": {},
   "outputs": [],
   "source": [
    "def Step1(var_name,dict_bad_per,dict_gb_cnt):\n",
    "    values = list(jiben[var_name].value_counts().index.values)\n",
    "    cond1 = (jiben['bad']=='G')|(jiben['bad']=='B')\n",
    "    jiben_GB = jiben.loc[cond1]\n",
    "    dict_bad_per = {}\n",
    "    dict_gb_cnt = {}\n",
    "    for i in values:\n",
    "        GB_v_cnt = jiben_GB.loc[jiben_GB[var_name]==i]['bad'].value_counts()\n",
    "        if GB_v_cnt.shape[0]==1:\n",
    "            if GB_v_cnt.index.values=='G':\n",
    "                dict_bad_per[i]=0\n",
    "                dict_gb_cnt[i] = {}\n",
    "                dict_gb_cnt[i]['Good'] = GB_v_cnt['G']\n",
    "                dict_gb_cnt[i]['Bad'] = 0\n",
    "            else:\n",
    "                dict_bad_per[i]=1\n",
    "                dict_gb_cnt[i] = {}\n",
    "                dict_gb_cnt[i]['Good'] = 0\n",
    "                dict_gb_cnt[i]['Bad'] = GB_v_cnt['B']\n",
    "            continue\n",
    "        if GB_v_cnt.shape[0]==0:\n",
    "            dict_bad_per[i]=0\n",
    "            dict_gb_cnt[i] = {}\n",
    "            dict_gb_cnt[i]['Good'] = 0\n",
    "            dict_gb_cnt[i]['Bad'] = 0   \n",
    "            continue\n",
    "        dict_bad_per[i] = GB_v_cnt['B']/(GB_v_cnt['G']+GB_v_cnt['B'])\n",
    "        dict_gb_cnt[i] = {}\n",
    "        dict_gb_cnt[i]['Good'] = GB_v_cnt['G']\n",
    "        dict_gb_cnt[i]['Bad'] = GB_v_cnt['B']\n",
    "\n",
    "    GB_v_cnt = jiben_GB.loc[jiben_GB[var_name].isnull()==True]['bad'].value_counts()\n",
    "    dict_bad_per['nan'] = GB_v_cnt['B']/(GB_v_cnt['G']+GB_v_cnt['B'])\n",
    "    dict_gb_cnt['nan'] = {}\n",
    "    dict_gb_cnt['nan']['Good'] = GB_v_cnt['G']\n",
    "    dict_gb_cnt['nan']['Bad'] = GB_v_cnt['B']\n",
    "\n",
    "    dict_bad_per_df = pd.DataFrame([dict_bad_per]).T.sort_values(by=0)\n",
    "    return dict_bad_per_df,dict_bad_per,dict_gb_cnt"
   ]
  },
  {
   "cell_type": "code",
   "execution_count": 336,
   "metadata": {},
   "outputs": [],
   "source": [
    "def step2_num(step1_bad_per_df,var_name,new_name):\n",
    "    var_cond1 = list(step1_bad_per_df.loc[step1_bad_per_df[0]==0].index.values)\n",
    "    var_cond2 = list(step1_bad_per_df.loc[(step1_bad_per_df[0]>0)&(step1_bad_per_df[0]<0.1)].index.values)\n",
    "    var_cond3 = list(step1_bad_per_df.loc[(step1_bad_per_df[0]>=0.1)&(step1_bad_per_df[0]<0.2)].index.values)\n",
    "    var_cond4 = list(step1_bad_per_df.loc[(step1_bad_per_df[0]>=0.2)&(step1_bad_per_df[0]<0.3)].index.values)\n",
    "    var_cond5 = list(step1_bad_per_df.loc[(step1_bad_per_df[0]>=0.3)&(step1_bad_per_df[0]<0.5)].index.values)\n",
    "    var_cond6 = list(step1_bad_per_df.loc[(step1_bad_per_df[0]>=0.5)&(step1_bad_per_df[0]<1)].index.values)\n",
    "    var_cond7 = list(step1_bad_per_df.loc[step1_bad_per_df[0]==1].index.values)\n",
    "    \n",
    "    var_cond = [var_cond1,var_cond2,var_cond3,var_cond4,var_cond5,var_cond6,var_cond7]\n",
    "    for i in range(7):\n",
    "        cond = jiben[var_name].isin(var_cond[i])\n",
    "        jiben[new_name+'_'+str(i+1)] = cond*1\n",
    "        \n",
    "    del var_cond"
   ]
  },
  {
   "cell_type": "code",
   "execution_count": 337,
   "metadata": {},
   "outputs": [],
   "source": [
    "other_zhengxin_age = Step1('var_jb_23',{},{})\n",
    "step2_num(other_zhengxin_age[0],'var_jb_23','var_jb_23')"
   ]
  },
  {
   "cell_type": "code",
   "execution_count": 340,
   "metadata": {},
   "outputs": [],
   "source": [
    "df1,df2 = Fucking_VCNT('var_jb_23')"
   ]
  },
  {
   "cell_type": "code",
   "execution_count": 342,
   "metadata": {},
   "outputs": [
    {
     "data": {
      "text/plain": [
       "<matplotlib.axes._subplots.AxesSubplot at 0x7fa3009a69d0>"
      ]
     },
     "execution_count": 342,
     "metadata": {},
     "output_type": "execute_result"
    },
    {
     "data": {
      "image/png": "[encoded data removed]",
      "text/plain": [
       "<Figure size 432x288 with 1 Axes>"
      ]
     },
     "metadata": {
      "needs_background": "light"
     },
     "output_type": "display_data"
    }
   ],
   "source": [
    "sns.kdeplot(jiben['var_jb_23'])"
   ]
  },
  {
   "cell_type": "code",
   "execution_count": 367,
   "metadata": {},
   "outputs": [],
   "source": [
    "jiben['var_jb_23_neg'] = 1*(jiben['var_jb_23']<0)"
   ]
  },
  {
   "cell_type": "code",
   "execution_count": 368,
   "metadata": {},
   "outputs": [],
   "source": [
    "jiben['var_jb_23_original'] = (jiben['var_jb_23'].fillna(0))*(jiben['var_jb_23'].fillna(0)>=0)"
   ]
  },
  {
   "cell_type": "code",
   "execution_count": 370,
   "metadata": {},
   "outputs": [
    {
     "data": {
      "text/plain": [
       "141.0"
      ]
     },
     "execution_count": 370,
     "metadata": {},
     "output_type": "execute_result"
    }
   ],
   "source": [
    "ol_thres = jiben['var_jb_23_original'].quantile(0.95)\n",
    "ol_thres"
   ]
  },
  {
   "cell_type": "code",
   "execution_count": 371,
   "metadata": {},
   "outputs": [],
   "source": [
    "jiben['var_jb_23_outlier'] = 1*(jiben['var_jb_23_original']>=ol_thres)"
   ]
  },
  {
   "cell_type": "markdown",
   "metadata": {},
   "source": [
    "**住房类贷款占比**"
   ]
  },
  {
   "cell_type": "code",
   "execution_count": 376,
   "metadata": {},
   "outputs": [],
   "source": [
    "# houseloan_percent =  Step1('var_jb_24',{},{})\n",
    "# step2_num(houseloan_percent[0],'var_jb_24','houseloan_percent')"
   ]
  },
  {
   "cell_type": "code",
   "execution_count": 377,
   "metadata": {},
   "outputs": [],
   "source": [
    "# df1,df2 = Fucking_VCNT('var_jb_24')"
   ]
  },
  {
   "cell_type": "code",
   "execution_count": 384,
   "metadata": {},
   "outputs": [],
   "source": [
    "jiben['var_jb_24'].replace({'\\x10':-1},inplace=True)"
   ]
  },
  {
   "cell_type": "code",
   "execution_count": 385,
   "metadata": {},
   "outputs": [],
   "source": [
    "jiben['var_jb_24_neg'] = 1*(jiben['var_jb_24'].astype(float).fillna(0)<0)\n",
    "jiben['var_jb_24_original'] = (jiben['var_jb_24'].astype(float).fillna(0))*(jiben['var_jb_24'].astype(float).fillna(0)>=0)\n",
    "ol_thres = jiben['var_jb_24_original'].quantile(0.95)\n",
    "jiben['var_jb_24_outlier'] = 1*(jiben['var_jb_24_original']>=ol_thres)"
   ]
  },
  {
   "cell_type": "markdown",
   "metadata": {},
   "source": [
    "**他行贷记卡当前最大余额**"
   ]
  },
  {
   "cell_type": "code",
   "execution_count": 118,
   "metadata": {},
   "outputs": [],
   "source": [
    "# other_card_balance =  Step1('var_jb_25',{},{})\n",
    "# step2_num(other_card_balance[0],'var_jb_25','other_card_balance')"
   ]
  },
  {
   "cell_type": "code",
   "execution_count": 386,
   "metadata": {},
   "outputs": [
    {
     "data": {
      "text/plain": [
       "<matplotlib.axes._subplots.AxesSubplot at 0x7fa2708bbe10>"
      ]
     },
     "execution_count": 386,
     "metadata": {},
     "output_type": "execute_result"
    },
    {
     "data": {
      "image/png": "[encoded data removed]",
      "text/plain": [
       "<Figure size 432x288 with 1 Axes>"
      ]
     },
     "metadata": {
      "needs_background": "light"
     },
     "output_type": "display_data"
    }
   ],
   "source": [
    "sns.kdeplot(jiben['var_jb_25'])"
   ]
  },
  {
   "cell_type": "code",
   "execution_count": 387,
   "metadata": {},
   "outputs": [],
   "source": [
    "jiben['var_jb_25_neg'] = 1*(jiben['var_jb_25'].astype(float).fillna(0)<0)\n",
    "jiben['var_jb_25_log'] = np.log((jiben['var_jb_24'].astype(float).fillna(0))*(jiben['var_jb_24'].astype(float).fillna(0)>=0)+1)\n",
    "ol_thres = jiben['var_jb_25'].astype(float).fillna(0).quantile(0.95)\n",
    "jiben['var_jb_25_outlier'] = 1*(jiben['var_jb_25']>=ol_thres)"
   ]
  },
  {
   "cell_type": "markdown",
   "metadata": {},
   "source": [
    "**贷款未到期数量**"
   ]
  },
  {
   "cell_type": "code",
   "execution_count": 121,
   "metadata": {},
   "outputs": [],
   "source": [
    "loan_notdue =  Step1('var_jb_26',{},{})\n",
    "step2_num(loan_notdue[0],'var_jb_26','loan_notdue')"
   ]
  },
  {
   "cell_type": "code",
   "execution_count": 395,
   "metadata": {},
   "outputs": [],
   "source": [
    "jiben['var_jb_26_neg'] = 1*(jiben['var_jb_26'].fillna(0)<0)\n",
    "jiben['var_jb_26_original'] = np.log((jiben['var_jb_26'].fillna(0))*(jiben['var_jb_26'].fillna(0)>=0)+1)\n",
    "ol_thres = jiben['var_jb_26_original'].quantile(0.95)\n",
    "jiben['var_jb_26_outlier'] = 1*(jiben['var_jb_26_original']>=ol_thres)"
   ]
  },
  {
   "cell_type": "code",
   "execution_count": 396,
   "metadata": {},
   "outputs": [
    {
     "data": {
      "text/plain": [
       "95338"
      ]
     },
     "execution_count": 396,
     "metadata": {},
     "output_type": "execute_result"
    }
   ],
   "source": [
    "jiben['var_jb_26_outlier'].sum()"
   ]
  },
  {
   "cell_type": "markdown",
   "metadata": {},
   "source": [
    "**客户最大帐龄**"
   ]
  },
  {
   "cell_type": "code",
   "execution_count": 122,
   "metadata": {},
   "outputs": [],
   "source": [
    "max_act_age =  Step1('var_jb_27',{},{})\n",
    "step2_num(max_act_age[0],'var_jb_27','max_act_age')"
   ]
  },
  {
   "cell_type": "code",
   "execution_count": 392,
   "metadata": {},
   "outputs": [
    {
     "data": {
      "text/plain": [
       "<matplotlib.axes._subplots.AxesSubplot at 0x7fa2ea184110>"
      ]
     },
     "execution_count": 392,
     "metadata": {},
     "output_type": "execute_result"
    },
    {
     "data": {
      "image/png": "[encoded data removed]",
      "text/plain": [
       "<Figure size 432x288 with 1 Axes>"
      ]
     },
     "metadata": {
      "needs_background": "light"
     },
     "output_type": "display_data"
    }
   ],
   "source": [
    "sns.kdeplot(jiben['var_jb_27'])"
   ]
  },
  {
   "cell_type": "code",
   "execution_count": 397,
   "metadata": {},
   "outputs": [],
   "source": [
    "jiben['var_jb_27_neg'] = 1*(jiben['var_jb_27'].fillna(0)<0)\n",
    "jiben['var_jb_27_original'] = np.log((jiben['var_jb_27'].fillna(0))*(jiben['var_jb_27'].fillna(0)>=0)+1)\n",
    "ol_thres = jiben['var_jb_27_original'].quantile(0.95)\n",
    "jiben['var_jb_27_outlier'] = 1*(jiben['var_jb_27_original']>=ol_thres)"
   ]
  },
  {
   "cell_type": "markdown",
   "metadata": {},
   "source": [
    "**贷款查询次数**"
   ]
  },
  {
   "cell_type": "code",
   "execution_count": 55,
   "metadata": {},
   "outputs": [],
   "source": [
    "loan_check_time = Step1('var_jb_28',{},{})\n",
    "step2_num(loan_check_time[0],'var_jb_28','loan_check_time')"
   ]
  },
  {
   "cell_type": "code",
   "execution_count": 398,
   "metadata": {},
   "outputs": [
    {
     "data": {
      "text/plain": [
       "<matplotlib.axes._subplots.AxesSubplot at 0x7fa2ea5a3410>"
      ]
     },
     "execution_count": 398,
     "metadata": {},
     "output_type": "execute_result"
    },
    {
     "data": {
      "image/png": "[encoded data removed]",
      "text/plain": [
       "<Figure size 432x288 with 1 Axes>"
      ]
     },
     "metadata": {
      "needs_background": "light"
     },
     "output_type": "display_data"
    }
   ],
   "source": [
    "sns.kdeplot(jiben['var_jb_28'])"
   ]
  },
  {
   "cell_type": "code",
   "execution_count": 399,
   "metadata": {},
   "outputs": [],
   "source": [
    "jiben['var_jb_28_neg'] = 1*(jiben['var_jb_28'].fillna(0)<0)\n",
    "jiben['var_jb_28_original'] = np.log((jiben['var_jb_28'].fillna(0))*(jiben['var_jb_28'].fillna(0)>=0)+1)\n",
    "ol_thres = jiben['var_jb_28_original'].quantile(0.95)\n",
    "jiben['var_jb_28_outlier'] = 1*(jiben['var_jb_28_original']>=ol_thres)"
   ]
  },
  {
   "cell_type": "markdown",
   "metadata": {},
   "source": [
    "**信用卡查询次数**"
   ]
  },
  {
   "cell_type": "code",
   "execution_count": 124,
   "metadata": {},
   "outputs": [],
   "source": [
    "# card_check_time = Step1('var_jb_29',{},{})\n",
    "# step2_num(card_check_time[0],'var_jb_29','card_check_time')"
   ]
  },
  {
   "cell_type": "code",
   "execution_count": 403,
   "metadata": {},
   "outputs": [],
   "source": [
    "jiben['var_jb_29_neg'] = 1*(jiben['var_jb_29'].fillna(0)<0)\n",
    "jiben['var_jb_29_original'] = np.log((jiben['var_jb_29'].fillna(0))*(jiben['var_jb_29'].fillna(0)>=0)+1)\n",
    "ol_thres = jiben['var_jb_29_original'].quantile(0.95)\n",
    "jiben['var_jb_29_outlier'] = 1*(jiben['var_jb_29_original']>=ol_thres)"
   ]
  },
  {
   "cell_type": "code",
   "execution_count": 404,
   "metadata": {},
   "outputs": [
    {
     "data": {
      "text/plain": [
       "88978"
      ]
     },
     "execution_count": 404,
     "metadata": {},
     "output_type": "execute_result"
    }
   ],
   "source": [
    "jiben['var_jb_29_outlier'].sum()"
   ]
  },
  {
   "cell_type": "markdown",
   "metadata": {},
   "source": [
    "**他行贷记卡24个月内拖欠状态上升总次数**"
   ]
  },
  {
   "cell_type": "code",
   "execution_count": 125,
   "metadata": {},
   "outputs": [],
   "source": [
    "other_dealay24 = Step1('var_jb_30',{},{})\n",
    "step2_num(other_dealay24[0],'var_jb_30','other_dealay24')"
   ]
  },
  {
   "cell_type": "code",
   "execution_count": 405,
   "metadata": {},
   "outputs": [],
   "source": [
    "jiben['var_jb_30_neg'] = 1*(jiben['var_jb_30'].fillna(0)<0)\n",
    "jiben['var_jb_30_original'] = np.log((jiben['var_jb_30'].fillna(0))*(jiben['var_jb_30'].fillna(0)>=0)+1)\n",
    "ol_thres = jiben['var_jb_30_original'].quantile(0.95)\n",
    "jiben['var_jb_30_outlier'] = 1*(jiben['var_jb_30_original']>=ol_thres)"
   ]
  },
  {
   "cell_type": "code",
   "execution_count": 407,
   "metadata": {},
   "outputs": [
    {
     "data": {
      "text/plain": [
       "164970"
      ]
     },
     "execution_count": 407,
     "metadata": {},
     "output_type": "execute_result"
    }
   ],
   "source": [
    "jiben['var_jb_30_neg'].sum()"
   ]
  },
  {
   "cell_type": "markdown",
   "metadata": {},
   "source": [
    "**渠道**"
   ]
  },
  {
   "cell_type": "code",
   "execution_count": 410,
   "metadata": {},
   "outputs": [],
   "source": [
    "df1,df2 = Fucking_VCNT('var_jb_31')"
   ]
  },
  {
   "cell_type": "code",
   "execution_count": 411,
   "metadata": {},
   "outputs": [
    {
     "data": {
      "text/html": [
       "<div>\n",
       "<style scoped>\n",
       "    .dataframe tbody tr th:only-of-type {\n",
       "        vertical-align: middle;\n",
       "    }\n",
       "\n",
       "    .dataframe tbody tr th {\n",
       "        vertical-align: top;\n",
       "    }\n",
       "\n",
       "    .dataframe thead th {\n",
       "        text-align: right;\n",
       "    }\n",
       "</style>\n",
       "<table border=\"1\" class=\"dataframe\">\n",
       "  <thead>\n",
       "    <tr style=\"text-align: right;\">\n",
       "      <th></th>\n",
       "      <th>0</th>\n",
       "    </tr>\n",
       "  </thead>\n",
       "  <tbody>\n",
       "    <tr>\n",
       "      <th>1</th>\n",
       "      <td>0.115952</td>\n",
       "    </tr>\n",
       "    <tr>\n",
       "      <th>2</th>\n",
       "      <td>0.042986</td>\n",
       "    </tr>\n",
       "    <tr>\n",
       "      <th>¬.99</th>\n",
       "      <td>0.000000</td>\n",
       "    </tr>\n",
       "    <tr>\n",
       "      <th>nan</th>\n",
       "      <td>0.000000</td>\n",
       "    </tr>\n",
       "  </tbody>\n",
       "</table>\n",
       "</div>"
      ],
      "text/plain": [
       "             0\n",
       "1     0.115952\n",
       "2     0.042986\n",
       "¬.99  0.000000\n",
       "nan   0.000000"
      ]
     },
     "execution_count": 411,
     "metadata": {},
     "output_type": "execute_result"
    }
   ],
   "source": [
    "df1"
   ]
  },
  {
   "cell_type": "code",
   "execution_count": 127,
   "metadata": {},
   "outputs": [],
   "source": [
    "cond1 = jiben['var_jb_31'].isin([1,'1'])\n",
    "cond2 = jiben['var_jb_31'].isin([2,'2'])\n",
    "cond3 = jiben['var_jb_31'].isin([1,2,'1','2']==False"
   ]
  },
  {
   "cell_type": "code",
   "execution_count": 412,
   "metadata": {},
   "outputs": [],
   "source": [
    "jiben['var_jb_31_1'] = cond1*1\n",
    "jiben['var_jb_31_2'] = cond2*1\n",
    "jiben['var_jb_31_3'] = cond3*1"
   ]
  },
  {
   "cell_type": "markdown",
   "metadata": {},
   "source": [
    "**新申请卡片所属账户类型**"
   ]
  },
  {
   "cell_type": "code",
   "execution_count": 129,
   "metadata": {},
   "outputs": [
    {
     "data": {
      "text/html": [
       "<div>\n",
       "<style scoped>\n",
       "    .dataframe tbody tr th:only-of-type {\n",
       "        vertical-align: middle;\n",
       "    }\n",
       "\n",
       "    .dataframe tbody tr th {\n",
       "        vertical-align: top;\n",
       "    }\n",
       "\n",
       "    .dataframe thead th {\n",
       "        text-align: right;\n",
       "    }\n",
       "</style>\n",
       "<table border=\"1\" class=\"dataframe\">\n",
       "  <thead>\n",
       "    <tr style=\"text-align: right;\">\n",
       "      <th></th>\n",
       "      <th>0</th>\n",
       "    </tr>\n",
       "  </thead>\n",
       "  <tbody>\n",
       "    <tr>\n",
       "      <th>nan</th>\n",
       "      <td>0.128873</td>\n",
       "    </tr>\n",
       "  </tbody>\n",
       "</table>\n",
       "</div>"
      ],
      "text/plain": [
       "            0\n",
       "nan  0.128873"
      ]
     },
     "execution_count": 129,
     "metadata": {},
     "output_type": "execute_result"
    }
   ],
   "source": [
    "newcard_act_type = Step1('var_jb_32',{},{})\n",
    "newcard_act_type[0]"
   ]
  },
  {
   "cell_type": "code",
   "execution_count": 413,
   "metadata": {},
   "outputs": [
    {
     "data": {
      "text/plain": [
       "1634599"
      ]
     },
     "execution_count": 413,
     "metadata": {},
     "output_type": "execute_result"
    }
   ],
   "source": [
    "jiben['var_jb_32'].isnull().sum()"
   ]
  },
  {
   "cell_type": "markdown",
   "metadata": {},
   "source": [
    "**项目代码**"
   ]
  },
  {
   "cell_type": "code",
   "execution_count": 414,
   "metadata": {},
   "outputs": [],
   "source": [
    "projectcode,df2 = Fucking_VCNT('var_jb_33')"
   ]
  },
  {
   "cell_type": "code",
   "execution_count": 415,
   "metadata": {},
   "outputs": [
    {
     "data": {
      "text/html": [
       "<div>\n",
       "<style scoped>\n",
       "    .dataframe tbody tr th:only-of-type {\n",
       "        vertical-align: middle;\n",
       "    }\n",
       "\n",
       "    .dataframe tbody tr th {\n",
       "        vertical-align: top;\n",
       "    }\n",
       "\n",
       "    .dataframe thead th {\n",
       "        text-align: right;\n",
       "    }\n",
       "</style>\n",
       "<table border=\"1\" class=\"dataframe\">\n",
       "  <thead>\n",
       "    <tr style=\"text-align: right;\">\n",
       "      <th></th>\n",
       "      <th>0</th>\n",
       "    </tr>\n",
       "  </thead>\n",
       "  <tbody>\n",
       "    <tr>\n",
       "      <th>0000007000</th>\n",
       "      <td>0.337349</td>\n",
       "    </tr>\n",
       "    <tr>\n",
       "      <th>6003</th>\n",
       "      <td>0.161905</td>\n",
       "    </tr>\n",
       "    <tr>\n",
       "      <th>0</th>\n",
       "      <td>0.116505</td>\n",
       "    </tr>\n",
       "    <tr>\n",
       "      <th>0000001021</th>\n",
       "      <td>0.000000</td>\n",
       "    </tr>\n",
       "    <tr>\n",
       "      <th>0000001025</th>\n",
       "      <td>0.000000</td>\n",
       "    </tr>\n",
       "    <tr>\n",
       "      <th>0000001395</th>\n",
       "      <td>0.062500</td>\n",
       "    </tr>\n",
       "    <tr>\n",
       "      <th>0000001394</th>\n",
       "      <td>0.000000</td>\n",
       "    </tr>\n",
       "    <tr>\n",
       "      <th>0000001401</th>\n",
       "      <td>0.000000</td>\n",
       "    </tr>\n",
       "    <tr>\n",
       "      <th>0000002266</th>\n",
       "      <td>0.000000</td>\n",
       "    </tr>\n",
       "    <tr>\n",
       "      <th>0000001400</th>\n",
       "      <td>0.000000</td>\n",
       "    </tr>\n",
       "    <tr>\n",
       "      <th>0000001052</th>\n",
       "      <td>0.000000</td>\n",
       "    </tr>\n",
       "    <tr>\n",
       "      <th>0000001392</th>\n",
       "      <td>0.000000</td>\n",
       "    </tr>\n",
       "    <tr>\n",
       "      <th>0000001396</th>\n",
       "      <td>0.000000</td>\n",
       "    </tr>\n",
       "    <tr>\n",
       "      <th>0000001072</th>\n",
       "      <td>0.000000</td>\n",
       "    </tr>\n",
       "    <tr>\n",
       "      <th>0000001051</th>\n",
       "      <td>0.000000</td>\n",
       "    </tr>\n",
       "    <tr>\n",
       "      <th>0000001034</th>\n",
       "      <td>0.000000</td>\n",
       "    </tr>\n",
       "    <tr>\n",
       "      <th>0000001026</th>\n",
       "      <td>0.000000</td>\n",
       "    </tr>\n",
       "    <tr>\n",
       "      <th>0000001418</th>\n",
       "      <td>0.000000</td>\n",
       "    </tr>\n",
       "    <tr>\n",
       "      <th>0000001397</th>\n",
       "      <td>0.000000</td>\n",
       "    </tr>\n",
       "    <tr>\n",
       "      <th>0000001393</th>\n",
       "      <td>0.000000</td>\n",
       "    </tr>\n",
       "    <tr>\n",
       "      <th>0000002310</th>\n",
       "      <td>0.000000</td>\n",
       "    </tr>\n",
       "    <tr>\n",
       "      <th>­97</th>\n",
       "      <td>0.000000</td>\n",
       "    </tr>\n",
       "    <tr>\n",
       "      <th>0000001416</th>\n",
       "      <td>0.000000</td>\n",
       "    </tr>\n",
       "    <tr>\n",
       "      <th>0000002334</th>\n",
       "      <td>0.000000</td>\n",
       "    </tr>\n",
       "    <tr>\n",
       "      <th>0000002338</th>\n",
       "      <td>0.000000</td>\n",
       "    </tr>\n",
       "    <tr>\n",
       "      <th>0000002254</th>\n",
       "      <td>0.000000</td>\n",
       "    </tr>\n",
       "    <tr>\n",
       "      <th>ALSP0001</th>\n",
       "      <td>0.000000</td>\n",
       "    </tr>\n",
       "    <tr>\n",
       "      <th>0000001350</th>\n",
       "      <td>0.000000</td>\n",
       "    </tr>\n",
       "    <tr>\n",
       "      <th>0000001022</th>\n",
       "      <td>0.000000</td>\n",
       "    </tr>\n",
       "    <tr>\n",
       "      <th>0000001070</th>\n",
       "      <td>0.000000</td>\n",
       "    </tr>\n",
       "    <tr>\n",
       "      <th>0000002315</th>\n",
       "      <td>0.000000</td>\n",
       "    </tr>\n",
       "    <tr>\n",
       "      <th>0000001399</th>\n",
       "      <td>0.000000</td>\n",
       "    </tr>\n",
       "    <tr>\n",
       "      <th>0000001398</th>\n",
       "      <td>0.000000</td>\n",
       "    </tr>\n",
       "    <tr>\n",
       "      <th>nan</th>\n",
       "      <td>0.000000</td>\n",
       "    </tr>\n",
       "  </tbody>\n",
       "</table>\n",
       "</div>"
      ],
      "text/plain": [
       "                   0\n",
       "0000007000  0.337349\n",
       "6003        0.161905\n",
       "0           0.116505\n",
       "0000001021  0.000000\n",
       "0000001025  0.000000\n",
       "0000001395  0.062500\n",
       "0000001394  0.000000\n",
       "0000001401  0.000000\n",
       "0000002266  0.000000\n",
       "0000001400  0.000000\n",
       "0000001052  0.000000\n",
       "0000001392  0.000000\n",
       "0000001396  0.000000\n",
       "0000001072  0.000000\n",
       "0000001051  0.000000\n",
       "0000001034  0.000000\n",
       "0000001026  0.000000\n",
       "0000001418  0.000000\n",
       "0000001397  0.000000\n",
       "0000001393  0.000000\n",
       "0000002310  0.000000\n",
       "­97         0.000000\n",
       "0000001416  0.000000\n",
       "0000002334  0.000000\n",
       "0000002338  0.000000\n",
       "0000002254  0.000000\n",
       "ALSP0001    0.000000\n",
       "0000001350  0.000000\n",
       "0000001022  0.000000\n",
       "0000001070  0.000000\n",
       "0000002315  0.000000\n",
       "0000001399  0.000000\n",
       "0000001398  0.000000\n",
       "nan         0.000000"
      ]
     },
     "execution_count": 415,
     "metadata": {},
     "output_type": "execute_result"
    }
   ],
   "source": [
    "projectcode"
   ]
  },
  {
   "cell_type": "markdown",
   "metadata": {},
   "source": [
    "**申请分期总额**"
   ]
  },
  {
   "cell_type": "code",
   "execution_count": 431,
   "metadata": {},
   "outputs": [],
   "source": [
    "jiben['var_jb_34'].replace({'0023p30':0,'0023p\\x1730':0},inplace=True)"
   ]
  },
  {
   "cell_type": "code",
   "execution_count": 446,
   "metadata": {},
   "outputs": [],
   "source": [
    "jiben['var_jb_34_neg'] = 1*(jiben['var_jb_34'].astype(float).fillna(0)<0)\n",
    "jiben['var_jb_34_original'] = np.log((jiben['var_jb_34'].astype(float).fillna(0))*(jiben['var_jb_34'].astype(float).fillna(0)>=0)+1)\n",
    "ol_thres = jiben['var_jb_34_original'].quantile(0.9999)\n",
    "jiben['var_jb_34_outlier'] = 1*(jiben['var_jb_34_original']>=ol_thres)"
   ]
  },
  {
   "cell_type": "code",
   "execution_count": 447,
   "metadata": {},
   "outputs": [
    {
     "data": {
      "text/plain": [
       "164"
      ]
     },
     "execution_count": 447,
     "metadata": {},
     "output_type": "execute_result"
    }
   ],
   "source": [
    "jiben['var_jb_34_outlier'].sum()"
   ]
  },
  {
   "cell_type": "code",
   "execution_count": 451,
   "metadata": {},
   "outputs": [],
   "source": [
    "jiben_processed = pd.concat([jiben[['id','bad']],jiben.iloc[:,101:]],axis=1)"
   ]
  },
  {
   "cell_type": "code",
   "execution_count": 452,
   "metadata": {},
   "outputs": [
    {
     "data": {
      "text/plain": [
       "(1634600, 118)"
      ]
     },
     "execution_count": 452,
     "metadata": {},
     "output_type": "execute_result"
    }
   ],
   "source": [
    "jiben_processed.shape"
   ]
  },
  {
   "cell_type": "code",
   "execution_count": 453,
   "metadata": {},
   "outputs": [],
   "source": [
    "jiben_processed.to_csv('jiben_processed_dys0429.csv',index=False)"
   ]
  },
  {
   "cell_type": "code",
   "execution_count": 454,
   "metadata": {},
   "outputs": [
    {
     "data": {
      "text/html": [
       "<div>\n",
       "<style scoped>\n",
       "    .dataframe tbody tr th:only-of-type {\n",
       "        vertical-align: middle;\n",
       "    }\n",
       "\n",
       "    .dataframe tbody tr th {\n",
       "        vertical-align: top;\n",
       "    }\n",
       "\n",
       "    .dataframe thead th {\n",
       "        text-align: right;\n",
       "    }\n",
       "</style>\n",
       "<table border=\"1\" class=\"dataframe\">\n",
       "  <thead>\n",
       "    <tr style=\"text-align: right;\">\n",
       "      <th></th>\n",
       "      <th>id</th>\n",
       "      <th>bad</th>\n",
       "      <th>age18~21</th>\n",
       "      <th>age21~24</th>\n",
       "      <th>age24~28</th>\n",
       "      <th>age28~49</th>\n",
       "      <th>age50</th>\n",
       "      <th>age_na</th>\n",
       "      <th>age_ol</th>\n",
       "      <th>var_jb_1_18~21</th>\n",
       "      <th>...</th>\n",
       "      <th>var_jb_29_outlier</th>\n",
       "      <th>var_jb_30_neg</th>\n",
       "      <th>var_jb_30_original</th>\n",
       "      <th>var_jb_30_outlier</th>\n",
       "      <th>var_jb_31_1</th>\n",
       "      <th>var_jb_31_2</th>\n",
       "      <th>var_jb_31_3</th>\n",
       "      <th>var_jb_34_neg</th>\n",
       "      <th>var_jb_34_original</th>\n",
       "      <th>var_jb_34_outlier</th>\n",
       "    </tr>\n",
       "  </thead>\n",
       "  <tbody>\n",
       "    <tr>\n",
       "      <th>0</th>\n",
       "      <td>56a13c06ee2f2a0db827d0d9450213d3</td>\n",
       "      <td>G</td>\n",
       "      <td>0</td>\n",
       "      <td>0</td>\n",
       "      <td>0</td>\n",
       "      <td>0</td>\n",
       "      <td>1</td>\n",
       "      <td>0</td>\n",
       "      <td>0</td>\n",
       "      <td>0</td>\n",
       "      <td>...</td>\n",
       "      <td>0</td>\n",
       "      <td>0</td>\n",
       "      <td>0.000000</td>\n",
       "      <td>0</td>\n",
       "      <td>0</td>\n",
       "      <td>1</td>\n",
       "      <td>0</td>\n",
       "      <td>0</td>\n",
       "      <td>0.0</td>\n",
       "      <td>0</td>\n",
       "    </tr>\n",
       "    <tr>\n",
       "      <th>1</th>\n",
       "      <td>c6342448d324d0e99e0d89175a2da335</td>\n",
       "      <td>G</td>\n",
       "      <td>0</td>\n",
       "      <td>0</td>\n",
       "      <td>0</td>\n",
       "      <td>1</td>\n",
       "      <td>0</td>\n",
       "      <td>0</td>\n",
       "      <td>0</td>\n",
       "      <td>0</td>\n",
       "      <td>...</td>\n",
       "      <td>0</td>\n",
       "      <td>0</td>\n",
       "      <td>0.000000</td>\n",
       "      <td>0</td>\n",
       "      <td>0</td>\n",
       "      <td>1</td>\n",
       "      <td>0</td>\n",
       "      <td>0</td>\n",
       "      <td>0.0</td>\n",
       "      <td>0</td>\n",
       "    </tr>\n",
       "    <tr>\n",
       "      <th>2</th>\n",
       "      <td>82e5383d3b794f2555dadb7e37e9108e</td>\n",
       "      <td>G</td>\n",
       "      <td>0</td>\n",
       "      <td>0</td>\n",
       "      <td>0</td>\n",
       "      <td>1</td>\n",
       "      <td>0</td>\n",
       "      <td>0</td>\n",
       "      <td>0</td>\n",
       "      <td>0</td>\n",
       "      <td>...</td>\n",
       "      <td>0</td>\n",
       "      <td>0</td>\n",
       "      <td>0.000000</td>\n",
       "      <td>0</td>\n",
       "      <td>0</td>\n",
       "      <td>1</td>\n",
       "      <td>0</td>\n",
       "      <td>0</td>\n",
       "      <td>0.0</td>\n",
       "      <td>0</td>\n",
       "    </tr>\n",
       "    <tr>\n",
       "      <th>3</th>\n",
       "      <td>a5e91382fc770d3bf1c3845d113d85a5</td>\n",
       "      <td>G</td>\n",
       "      <td>0</td>\n",
       "      <td>0</td>\n",
       "      <td>0</td>\n",
       "      <td>1</td>\n",
       "      <td>0</td>\n",
       "      <td>0</td>\n",
       "      <td>0</td>\n",
       "      <td>0</td>\n",
       "      <td>...</td>\n",
       "      <td>0</td>\n",
       "      <td>0</td>\n",
       "      <td>0.000000</td>\n",
       "      <td>0</td>\n",
       "      <td>0</td>\n",
       "      <td>1</td>\n",
       "      <td>0</td>\n",
       "      <td>0</td>\n",
       "      <td>0.0</td>\n",
       "      <td>0</td>\n",
       "    </tr>\n",
       "    <tr>\n",
       "      <th>4</th>\n",
       "      <td>57e97bcbc4090d25d1c783fcb071b6df</td>\n",
       "      <td>G</td>\n",
       "      <td>0</td>\n",
       "      <td>0</td>\n",
       "      <td>0</td>\n",
       "      <td>1</td>\n",
       "      <td>0</td>\n",
       "      <td>0</td>\n",
       "      <td>0</td>\n",
       "      <td>0</td>\n",
       "      <td>...</td>\n",
       "      <td>0</td>\n",
       "      <td>0</td>\n",
       "      <td>0.000000</td>\n",
       "      <td>0</td>\n",
       "      <td>0</td>\n",
       "      <td>1</td>\n",
       "      <td>0</td>\n",
       "      <td>0</td>\n",
       "      <td>0.0</td>\n",
       "      <td>0</td>\n",
       "    </tr>\n",
       "    <tr>\n",
       "      <th>5</th>\n",
       "      <td>853047fe7e9148742ad7f5632732476e</td>\n",
       "      <td>G</td>\n",
       "      <td>0</td>\n",
       "      <td>0</td>\n",
       "      <td>0</td>\n",
       "      <td>1</td>\n",
       "      <td>0</td>\n",
       "      <td>0</td>\n",
       "      <td>0</td>\n",
       "      <td>0</td>\n",
       "      <td>...</td>\n",
       "      <td>0</td>\n",
       "      <td>0</td>\n",
       "      <td>0.000000</td>\n",
       "      <td>0</td>\n",
       "      <td>0</td>\n",
       "      <td>0</td>\n",
       "      <td>0</td>\n",
       "      <td>0</td>\n",
       "      <td>0.0</td>\n",
       "      <td>0</td>\n",
       "    </tr>\n",
       "    <tr>\n",
       "      <th>6</th>\n",
       "      <td>c4fda1676c735314c98421546b1d0389</td>\n",
       "      <td>G</td>\n",
       "      <td>0</td>\n",
       "      <td>0</td>\n",
       "      <td>0</td>\n",
       "      <td>1</td>\n",
       "      <td>0</td>\n",
       "      <td>0</td>\n",
       "      <td>0</td>\n",
       "      <td>0</td>\n",
       "      <td>...</td>\n",
       "      <td>0</td>\n",
       "      <td>0</td>\n",
       "      <td>0.000000</td>\n",
       "      <td>0</td>\n",
       "      <td>0</td>\n",
       "      <td>0</td>\n",
       "      <td>0</td>\n",
       "      <td>0</td>\n",
       "      <td>0.0</td>\n",
       "      <td>0</td>\n",
       "    </tr>\n",
       "    <tr>\n",
       "      <th>7</th>\n",
       "      <td>78b17a8da02ce868c28f2d5ac199747e</td>\n",
       "      <td>G</td>\n",
       "      <td>0</td>\n",
       "      <td>0</td>\n",
       "      <td>1</td>\n",
       "      <td>0</td>\n",
       "      <td>0</td>\n",
       "      <td>0</td>\n",
       "      <td>0</td>\n",
       "      <td>0</td>\n",
       "      <td>...</td>\n",
       "      <td>0</td>\n",
       "      <td>0</td>\n",
       "      <td>0.000000</td>\n",
       "      <td>0</td>\n",
       "      <td>0</td>\n",
       "      <td>1</td>\n",
       "      <td>0</td>\n",
       "      <td>0</td>\n",
       "      <td>0.0</td>\n",
       "      <td>0</td>\n",
       "    </tr>\n",
       "    <tr>\n",
       "      <th>8</th>\n",
       "      <td>7e39c735ab89068e01c8747328284ffc</td>\n",
       "      <td>G</td>\n",
       "      <td>0</td>\n",
       "      <td>0</td>\n",
       "      <td>0</td>\n",
       "      <td>0</td>\n",
       "      <td>1</td>\n",
       "      <td>0</td>\n",
       "      <td>0</td>\n",
       "      <td>0</td>\n",
       "      <td>...</td>\n",
       "      <td>0</td>\n",
       "      <td>0</td>\n",
       "      <td>0.000000</td>\n",
       "      <td>0</td>\n",
       "      <td>1</td>\n",
       "      <td>1</td>\n",
       "      <td>0</td>\n",
       "      <td>0</td>\n",
       "      <td>0.0</td>\n",
       "      <td>0</td>\n",
       "    </tr>\n",
       "    <tr>\n",
       "      <th>9</th>\n",
       "      <td>3d7d74d81a9a67fb0e4a8fc9191e9c2b</td>\n",
       "      <td>G</td>\n",
       "      <td>0</td>\n",
       "      <td>0</td>\n",
       "      <td>0</td>\n",
       "      <td>0</td>\n",
       "      <td>1</td>\n",
       "      <td>0</td>\n",
       "      <td>1</td>\n",
       "      <td>0</td>\n",
       "      <td>...</td>\n",
       "      <td>0</td>\n",
       "      <td>0</td>\n",
       "      <td>0.000000</td>\n",
       "      <td>0</td>\n",
       "      <td>1</td>\n",
       "      <td>1</td>\n",
       "      <td>0</td>\n",
       "      <td>0</td>\n",
       "      <td>0.0</td>\n",
       "      <td>0</td>\n",
       "    </tr>\n",
       "    <tr>\n",
       "      <th>10</th>\n",
       "      <td>86183058bd5f1bb6480c273f5521fb4f</td>\n",
       "      <td>G</td>\n",
       "      <td>0</td>\n",
       "      <td>0</td>\n",
       "      <td>1</td>\n",
       "      <td>0</td>\n",
       "      <td>0</td>\n",
       "      <td>0</td>\n",
       "      <td>0</td>\n",
       "      <td>0</td>\n",
       "      <td>...</td>\n",
       "      <td>0</td>\n",
       "      <td>0</td>\n",
       "      <td>0.000000</td>\n",
       "      <td>0</td>\n",
       "      <td>1</td>\n",
       "      <td>1</td>\n",
       "      <td>0</td>\n",
       "      <td>0</td>\n",
       "      <td>0.0</td>\n",
       "      <td>0</td>\n",
       "    </tr>\n",
       "    <tr>\n",
       "      <th>11</th>\n",
       "      <td>c24cb0bbb02bc2996824d92dc629801c</td>\n",
       "      <td>G</td>\n",
       "      <td>0</td>\n",
       "      <td>0</td>\n",
       "      <td>0</td>\n",
       "      <td>1</td>\n",
       "      <td>0</td>\n",
       "      <td>0</td>\n",
       "      <td>0</td>\n",
       "      <td>0</td>\n",
       "      <td>...</td>\n",
       "      <td>0</td>\n",
       "      <td>0</td>\n",
       "      <td>0.000000</td>\n",
       "      <td>0</td>\n",
       "      <td>1</td>\n",
       "      <td>0</td>\n",
       "      <td>0</td>\n",
       "      <td>0</td>\n",
       "      <td>0.0</td>\n",
       "      <td>0</td>\n",
       "    </tr>\n",
       "    <tr>\n",
       "      <th>12</th>\n",
       "      <td>90257f51ef54e611ccbb346839583dcc</td>\n",
       "      <td>G</td>\n",
       "      <td>0</td>\n",
       "      <td>0</td>\n",
       "      <td>0</td>\n",
       "      <td>0</td>\n",
       "      <td>1</td>\n",
       "      <td>0</td>\n",
       "      <td>0</td>\n",
       "      <td>0</td>\n",
       "      <td>...</td>\n",
       "      <td>0</td>\n",
       "      <td>0</td>\n",
       "      <td>0.000000</td>\n",
       "      <td>0</td>\n",
       "      <td>0</td>\n",
       "      <td>0</td>\n",
       "      <td>0</td>\n",
       "      <td>0</td>\n",
       "      <td>0.0</td>\n",
       "      <td>0</td>\n",
       "    </tr>\n",
       "    <tr>\n",
       "      <th>13</th>\n",
       "      <td>f6053c8f3c19f214239f77dc540c2cb2</td>\n",
       "      <td>G</td>\n",
       "      <td>0</td>\n",
       "      <td>0</td>\n",
       "      <td>1</td>\n",
       "      <td>0</td>\n",
       "      <td>0</td>\n",
       "      <td>0</td>\n",
       "      <td>0</td>\n",
       "      <td>0</td>\n",
       "      <td>...</td>\n",
       "      <td>0</td>\n",
       "      <td>0</td>\n",
       "      <td>0.000000</td>\n",
       "      <td>0</td>\n",
       "      <td>1</td>\n",
       "      <td>1</td>\n",
       "      <td>0</td>\n",
       "      <td>0</td>\n",
       "      <td>0.0</td>\n",
       "      <td>0</td>\n",
       "    </tr>\n",
       "    <tr>\n",
       "      <th>14</th>\n",
       "      <td>8242e4562b0d86981592fc7efb41821d</td>\n",
       "      <td>G</td>\n",
       "      <td>0</td>\n",
       "      <td>0</td>\n",
       "      <td>0</td>\n",
       "      <td>0</td>\n",
       "      <td>1</td>\n",
       "      <td>0</td>\n",
       "      <td>0</td>\n",
       "      <td>0</td>\n",
       "      <td>...</td>\n",
       "      <td>0</td>\n",
       "      <td>0</td>\n",
       "      <td>0.000000</td>\n",
       "      <td>0</td>\n",
       "      <td>1</td>\n",
       "      <td>1</td>\n",
       "      <td>0</td>\n",
       "      <td>0</td>\n",
       "      <td>0.0</td>\n",
       "      <td>0</td>\n",
       "    </tr>\n",
       "    <tr>\n",
       "      <th>15</th>\n",
       "      <td>f96e5af7718e2ac6128e2d36219ffda4</td>\n",
       "      <td>G</td>\n",
       "      <td>0</td>\n",
       "      <td>0</td>\n",
       "      <td>0</td>\n",
       "      <td>1</td>\n",
       "      <td>0</td>\n",
       "      <td>0</td>\n",
       "      <td>0</td>\n",
       "      <td>0</td>\n",
       "      <td>...</td>\n",
       "      <td>0</td>\n",
       "      <td>0</td>\n",
       "      <td>0.000000</td>\n",
       "      <td>0</td>\n",
       "      <td>1</td>\n",
       "      <td>1</td>\n",
       "      <td>0</td>\n",
       "      <td>0</td>\n",
       "      <td>0.0</td>\n",
       "      <td>0</td>\n",
       "    </tr>\n",
       "    <tr>\n",
       "      <th>16</th>\n",
       "      <td>267d2459eaaa5f7ce9ed07e6a4eab0e8</td>\n",
       "      <td>G</td>\n",
       "      <td>0</td>\n",
       "      <td>0</td>\n",
       "      <td>1</td>\n",
       "      <td>0</td>\n",
       "      <td>0</td>\n",
       "      <td>0</td>\n",
       "      <td>0</td>\n",
       "      <td>0</td>\n",
       "      <td>...</td>\n",
       "      <td>0</td>\n",
       "      <td>0</td>\n",
       "      <td>0.000000</td>\n",
       "      <td>0</td>\n",
       "      <td>0</td>\n",
       "      <td>1</td>\n",
       "      <td>0</td>\n",
       "      <td>0</td>\n",
       "      <td>0.0</td>\n",
       "      <td>0</td>\n",
       "    </tr>\n",
       "    <tr>\n",
       "      <th>17</th>\n",
       "      <td>6dd2274fa91ae95e7ec6cc9ba91065d7</td>\n",
       "      <td>G</td>\n",
       "      <td>0</td>\n",
       "      <td>0</td>\n",
       "      <td>0</td>\n",
       "      <td>1</td>\n",
       "      <td>0</td>\n",
       "      <td>0</td>\n",
       "      <td>0</td>\n",
       "      <td>0</td>\n",
       "      <td>...</td>\n",
       "      <td>0</td>\n",
       "      <td>1</td>\n",
       "      <td>0.000000</td>\n",
       "      <td>0</td>\n",
       "      <td>0</td>\n",
       "      <td>1</td>\n",
       "      <td>0</td>\n",
       "      <td>0</td>\n",
       "      <td>0.0</td>\n",
       "      <td>0</td>\n",
       "    </tr>\n",
       "    <tr>\n",
       "      <th>18</th>\n",
       "      <td>1b4e39b91a644bf75675791d61f2c107</td>\n",
       "      <td>G</td>\n",
       "      <td>0</td>\n",
       "      <td>0</td>\n",
       "      <td>0</td>\n",
       "      <td>1</td>\n",
       "      <td>0</td>\n",
       "      <td>0</td>\n",
       "      <td>0</td>\n",
       "      <td>0</td>\n",
       "      <td>...</td>\n",
       "      <td>0</td>\n",
       "      <td>0</td>\n",
       "      <td>0.693147</td>\n",
       "      <td>0</td>\n",
       "      <td>0</td>\n",
       "      <td>1</td>\n",
       "      <td>0</td>\n",
       "      <td>0</td>\n",
       "      <td>0.0</td>\n",
       "      <td>0</td>\n",
       "    </tr>\n",
       "    <tr>\n",
       "      <th>19</th>\n",
       "      <td>03bba540db3e173d5550f4a5120ef7d3</td>\n",
       "      <td>G</td>\n",
       "      <td>0</td>\n",
       "      <td>0</td>\n",
       "      <td>0</td>\n",
       "      <td>1</td>\n",
       "      <td>0</td>\n",
       "      <td>0</td>\n",
       "      <td>0</td>\n",
       "      <td>0</td>\n",
       "      <td>...</td>\n",
       "      <td>0</td>\n",
       "      <td>0</td>\n",
       "      <td>0.000000</td>\n",
       "      <td>0</td>\n",
       "      <td>0</td>\n",
       "      <td>1</td>\n",
       "      <td>0</td>\n",
       "      <td>0</td>\n",
       "      <td>0.0</td>\n",
       "      <td>0</td>\n",
       "    </tr>\n",
       "  </tbody>\n",
       "</table>\n",
       "<p>20 rows × 118 columns</p>\n",
       "</div>"
      ],
      "text/plain": [
       "                                  id bad  age18~21  age21~24  age24~28  \\\n",
       "0   56a13c06ee2f2a0db827d0d9450213d3   G         0         0         0   \n",
       "1   c6342448d324d0e99e0d89175a2da335   G         0         0         0   \n",
       "2   82e5383d3b794f2555dadb7e37e9108e   G         0         0         0   \n",
       "3   a5e91382fc770d3bf1c3845d113d85a5   G         0         0         0   \n",
       "4   57e97bcbc4090d25d1c783fcb071b6df   G         0         0         0   \n",
       "5   853047fe7e9148742ad7f5632732476e   G         0         0         0   \n",
       "6   c4fda1676c735314c98421546b1d0389   G         0         0         0   \n",
       "7   78b17a8da02ce868c28f2d5ac199747e   G         0         0         1   \n",
       "8   7e39c735ab89068e01c8747328284ffc   G         0         0         0   \n",
       "9   3d7d74d81a9a67fb0e4a8fc9191e9c2b   G         0         0         0   \n",
       "10  86183058bd5f1bb6480c273f5521fb4f   G         0         0         1   \n",
       "11  c24cb0bbb02bc2996824d92dc629801c   G         0         0         0   \n",
       "12  90257f51ef54e611ccbb346839583dcc   G         0         0         0   \n",
       "13  f6053c8f3c19f214239f77dc540c2cb2   G         0         0         1   \n",
       "14  8242e4562b0d86981592fc7efb41821d   G         0         0         0   \n",
       "15  f96e5af7718e2ac6128e2d36219ffda4   G         0         0         0   \n",
       "16  267d2459eaaa5f7ce9ed07e6a4eab0e8   G         0         0         1   \n",
       "17  6dd2274fa91ae95e7ec6cc9ba91065d7   G         0         0         0   \n",
       "18  1b4e39b91a644bf75675791d61f2c107   G         0         0         0   \n",
       "19  03bba540db3e173d5550f4a5120ef7d3   G         0         0         0   \n",
       "\n",
       "    age28~49  age50  age_na  age_ol  var_jb_1_18~21  ...  var_jb_29_outlier  \\\n",
       "0          0      1       0       0               0  ...                  0   \n",
       "1          1      0       0       0               0  ...                  0   \n",
       "2          1      0       0       0               0  ...                  0   \n",
       "3          1      0       0       0               0  ...                  0   \n",
       "4          1      0       0       0               0  ...                  0   \n",
       "5          1      0       0       0               0  ...                  0   \n",
       "6          1      0       0       0               0  ...                  0   \n",
       "7          0      0       0       0               0  ...                  0   \n",
       "8          0      1       0       0               0  ...                  0   \n",
       "9          0      1       0       1               0  ...                  0   \n",
       "10         0      0       0       0               0  ...                  0   \n",
       "11         1      0       0       0               0  ...                  0   \n",
       "12         0      1       0       0               0  ...                  0   \n",
       "13         0      0       0       0               0  ...                  0   \n",
       "14         0      1       0       0               0  ...                  0   \n",
       "15         1      0       0       0               0  ...                  0   \n",
       "16         0      0       0       0               0  ...                  0   \n",
       "17         1      0       0       0               0  ...                  0   \n",
       "18         1      0       0       0               0  ...                  0   \n",
       "19         1      0       0       0               0  ...                  0   \n",
       "\n",
       "    var_jb_30_neg  var_jb_30_original  var_jb_30_outlier  var_jb_31_1  \\\n",
       "0               0            0.000000                  0            0   \n",
       "1               0            0.000000                  0            0   \n",
       "2               0            0.000000                  0            0   \n",
       "3               0            0.000000                  0            0   \n",
       "4               0            0.000000                  0            0   \n",
       "5               0            0.000000                  0            0   \n",
       "6               0            0.000000                  0            0   \n",
       "7               0            0.000000                  0            0   \n",
       "8               0            0.000000                  0            1   \n",
       "9               0            0.000000                  0            1   \n",
       "10              0            0.000000                  0            1   \n",
       "11              0            0.000000                  0            1   \n",
       "12              0            0.000000                  0            0   \n",
       "13              0            0.000000                  0            1   \n",
       "14              0            0.000000                  0            1   \n",
       "15              0            0.000000                  0            1   \n",
       "16              0            0.000000                  0            0   \n",
       "17              1            0.000000                  0            0   \n",
       "18              0            0.693147                  0            0   \n",
       "19              0            0.000000                  0            0   \n",
       "\n",
       "    var_jb_31_2  var_jb_31_3  var_jb_34_neg  var_jb_34_original  \\\n",
       "0             1            0              0                 0.0   \n",
       "1             1            0              0                 0.0   \n",
       "2             1            0              0                 0.0   \n",
       "3             1            0              0                 0.0   \n",
       "4             1            0              0                 0.0   \n",
       "5             0            0              0                 0.0   \n",
       "6             0            0              0                 0.0   \n",
       "7             1            0              0                 0.0   \n",
       "8             1            0              0                 0.0   \n",
       "9             1            0              0                 0.0   \n",
       "10            1            0              0                 0.0   \n",
       "11            0            0              0                 0.0   \n",
       "12            0            0              0                 0.0   \n",
       "13            1            0              0                 0.0   \n",
       "14            1            0              0                 0.0   \n",
       "15            1            0              0                 0.0   \n",
       "16            1            0              0                 0.0   \n",
       "17            1            0              0                 0.0   \n",
       "18            1            0              0                 0.0   \n",
       "19            1            0              0                 0.0   \n",
       "\n",
       "    var_jb_34_outlier  \n",
       "0                   0  \n",
       "1                   0  \n",
       "2                   0  \n",
       "3                   0  \n",
       "4                   0  \n",
       "5                   0  \n",
       "6                   0  \n",
       "7                   0  \n",
       "8                   0  \n",
       "9                   0  \n",
       "10                  0  \n",
       "11                  0  \n",
       "12                  0  \n",
       "13                  0  \n",
       "14                  0  \n",
       "15                  0  \n",
       "16                  0  \n",
       "17                  0  \n",
       "18                  0  \n",
       "19                  0  \n",
       "\n",
       "[20 rows x 118 columns]"
      ]
     },
     "execution_count": 454,
     "metadata": {},
     "output_type": "execute_result"
    }
   ],
   "source": [
    "jiben_processed.head(20)"
   ]
  },
  {
   "cell_type": "markdown",
   "metadata": {},
   "source": [
    "-------------------------"
   ]
  },
  {
   "cell_type": "markdown",
   "metadata": {},
   "source": [
    "**毕业年数**"
   ]
  },
  {
   "cell_type": "code",
   "execution_count": null,
   "metadata": {},
   "outputs": [],
   "source": [
    "jiben['var_jb_35_neg'] = 1*(jiben['var_jb_35'].astype(float).fillna(0)<0)\n",
    "jiben['var_jb_35_original'] = np.log((jiben['var_jb_35'].astype(float).fillna(0))*(jiben['var_jb_35'].astype(float).fillna(0)>=0)+1)\n",
    "ol_thres = jiben['var_jb_35_original'].quantile(0.9999)\n",
    "jiben['var_jb_35_outlier'] = 1*(jiben['var_jb_35_original']>=ol_thres)"
   ]
  },
  {
   "cell_type": "markdown",
   "metadata": {},
   "source": [
    "**分行属地标志（Y/N）**"
   ]
  },
  {
   "cell_type": "code",
   "execution_count": 135,
   "metadata": {},
   "outputs": [
    {
     "data": {
      "text/html": [
       "<div>\n",
       "<style scoped>\n",
       "    .dataframe tbody tr th:only-of-type {\n",
       "        vertical-align: middle;\n",
       "    }\n",
       "\n",
       "    .dataframe tbody tr th {\n",
       "        vertical-align: top;\n",
       "    }\n",
       "\n",
       "    .dataframe thead th {\n",
       "        text-align: right;\n",
       "    }\n",
       "</style>\n",
       "<table border=\"1\" class=\"dataframe\">\n",
       "  <thead>\n",
       "    <tr style=\"text-align: right;\">\n",
       "      <th></th>\n",
       "      <th>0</th>\n",
       "    </tr>\n",
       "  </thead>\n",
       "  <tbody>\n",
       "    <tr>\n",
       "      <th>nan</th>\n",
       "      <td>0.128873</td>\n",
       "    </tr>\n",
       "  </tbody>\n",
       "</table>\n",
       "</div>"
      ],
      "text/plain": [
       "            0\n",
       "nan  0.128873"
      ]
     },
     "execution_count": 135,
     "metadata": {},
     "output_type": "execute_result"
    }
   ],
   "source": [
    "branch = Step1('var_jb_36',{},{})\n",
    "branch[0]"
   ]
  },
  {
   "cell_type": "markdown",
   "metadata": {},
   "source": [
    "**房贷最高一笔月还款额**"
   ]
  },
  {
   "cell_type": "code",
   "execution_count": 136,
   "metadata": {},
   "outputs": [
    {
     "data": {
      "text/html": [
       "<div>\n",
       "<style scoped>\n",
       "    .dataframe tbody tr th:only-of-type {\n",
       "        vertical-align: middle;\n",
       "    }\n",
       "\n",
       "    .dataframe tbody tr th {\n",
       "        vertical-align: top;\n",
       "    }\n",
       "\n",
       "    .dataframe thead th {\n",
       "        text-align: right;\n",
       "    }\n",
       "</style>\n",
       "<table border=\"1\" class=\"dataframe\">\n",
       "  <thead>\n",
       "    <tr style=\"text-align: right;\">\n",
       "      <th></th>\n",
       "      <th>0</th>\n",
       "    </tr>\n",
       "  </thead>\n",
       "  <tbody>\n",
       "    <tr>\n",
       "      <th>nan</th>\n",
       "      <td>0.128873</td>\n",
       "    </tr>\n",
       "  </tbody>\n",
       "</table>\n",
       "</div>"
      ],
      "text/plain": [
       "            0\n",
       "nan  0.128873"
      ]
     },
     "execution_count": 136,
     "metadata": {},
     "output_type": "execute_result"
    }
   ],
   "source": [
    "highest_houseloan = Step1('var_jb_37',{},{})\n",
    "highest_houseloan[0]"
   ]
  },
  {
   "cell_type": "markdown",
   "metadata": {},
   "source": [
    "**房贷笔数**"
   ]
  },
  {
   "cell_type": "code",
   "execution_count": 137,
   "metadata": {},
   "outputs": [
    {
     "data": {
      "text/html": [
       "<div>\n",
       "<style scoped>\n",
       "    .dataframe tbody tr th:only-of-type {\n",
       "        vertical-align: middle;\n",
       "    }\n",
       "\n",
       "    .dataframe tbody tr th {\n",
       "        vertical-align: top;\n",
       "    }\n",
       "\n",
       "    .dataframe thead th {\n",
       "        text-align: right;\n",
       "    }\n",
       "</style>\n",
       "<table border=\"1\" class=\"dataframe\">\n",
       "  <thead>\n",
       "    <tr style=\"text-align: right;\">\n",
       "      <th></th>\n",
       "      <th>0</th>\n",
       "    </tr>\n",
       "  </thead>\n",
       "  <tbody>\n",
       "    <tr>\n",
       "      <th>nan</th>\n",
       "      <td>0.128873</td>\n",
       "    </tr>\n",
       "  </tbody>\n",
       "</table>\n",
       "</div>"
      ],
      "text/plain": [
       "            0\n",
       "nan  0.128873"
      ]
     },
     "execution_count": 137,
     "metadata": {},
     "output_type": "execute_result"
    }
   ],
   "source": [
    "num_houseloan = Step1('var_jb_38',{},{})\n",
    "num_houseloan[0]"
   ]
  },
  {
   "cell_type": "markdown",
   "metadata": {},
   "source": [
    "**收入计算依据**"
   ]
  },
  {
   "cell_type": "code",
   "execution_count": 138,
   "metadata": {},
   "outputs": [
    {
     "data": {
      "text/html": [
       "<div>\n",
       "<style scoped>\n",
       "    .dataframe tbody tr th:only-of-type {\n",
       "        vertical-align: middle;\n",
       "    }\n",
       "\n",
       "    .dataframe tbody tr th {\n",
       "        vertical-align: top;\n",
       "    }\n",
       "\n",
       "    .dataframe thead th {\n",
       "        text-align: right;\n",
       "    }\n",
       "</style>\n",
       "<table border=\"1\" class=\"dataframe\">\n",
       "  <thead>\n",
       "    <tr style=\"text-align: right;\">\n",
       "      <th></th>\n",
       "      <th>0</th>\n",
       "    </tr>\n",
       "  </thead>\n",
       "  <tbody>\n",
       "    <tr>\n",
       "      <th>B</th>\n",
       "      <td>0.000000</td>\n",
       "    </tr>\n",
       "    <tr>\n",
       "      <th>K</th>\n",
       "      <td>0.000000</td>\n",
       "    </tr>\n",
       "    <tr>\n",
       "      <th>L</th>\n",
       "      <td>0.000000</td>\n",
       "    </tr>\n",
       "    <tr>\n",
       "      <th>R</th>\n",
       "      <td>0.000000</td>\n",
       "    </tr>\n",
       "    <tr>\n",
       "      <th>X</th>\n",
       "      <td>0.000000</td>\n",
       "    </tr>\n",
       "    <tr>\n",
       "      <th>D</th>\n",
       "      <td>0.000000</td>\n",
       "    </tr>\n",
       "    <tr>\n",
       "      <th>S</th>\n",
       "      <td>0.000000</td>\n",
       "    </tr>\n",
       "    <tr>\n",
       "      <th>F</th>\n",
       "      <td>0.000000</td>\n",
       "    </tr>\n",
       "    <tr>\n",
       "      <th>E</th>\n",
       "      <td>0.000000</td>\n",
       "    </tr>\n",
       "    <tr>\n",
       "      <th>O</th>\n",
       "      <td>0.000000</td>\n",
       "    </tr>\n",
       "    <tr>\n",
       "      <th>U</th>\n",
       "      <td>0.080247</td>\n",
       "    </tr>\n",
       "    <tr>\n",
       "      <th>nan</th>\n",
       "      <td>0.128885</td>\n",
       "    </tr>\n",
       "    <tr>\n",
       "      <th>C</th>\n",
       "      <td>0.131959</td>\n",
       "    </tr>\n",
       "    <tr>\n",
       "      <th>N</th>\n",
       "      <td>0.333333</td>\n",
       "    </tr>\n",
       "    <tr>\n",
       "      <th>Y</th>\n",
       "      <td>0.400000</td>\n",
       "    </tr>\n",
       "  </tbody>\n",
       "</table>\n",
       "</div>"
      ],
      "text/plain": [
       "            0\n",
       "B    0.000000\n",
       "K    0.000000\n",
       "L    0.000000\n",
       "R    0.000000\n",
       "X    0.000000\n",
       "D    0.000000\n",
       "S    0.000000\n",
       "F    0.000000\n",
       "E    0.000000\n",
       "O    0.000000\n",
       "U    0.080247\n",
       "nan  0.128885\n",
       "C    0.131959\n",
       "N    0.333333\n",
       "Y    0.400000"
      ]
     },
     "execution_count": 138,
     "metadata": {},
     "output_type": "execute_result"
    }
   ],
   "source": [
    "salary_way = Step1('var_jb_39',{},{})\n",
    "salary_way[0]"
   ]
  },
  {
   "cell_type": "code",
   "execution_count": 142,
   "metadata": {},
   "outputs": [],
   "source": [
    "cond1 = (jiben['var_jb_39']=='Y')|(jiben['var_jb_39']=='N')\n",
    "cond2 = (jiben['var_jb_39']=='C')|(jiben['var_jb_39'].isnull()==True)\n",
    "cond3 = (jiben['var_jb_39']=='U')\n",
    "cond4 = jiben['var_jb_39'].isin(list(salary_way[0].loc[salary_way[0][0]==0].index.values))"
   ]
  },
  {
   "cell_type": "code",
   "execution_count": 143,
   "metadata": {},
   "outputs": [],
   "source": [
    "jiben['salary_way_1'] = cond1*1\n",
    "jiben['salary_way_2'] = cond2*1\n",
    "jiben['salary_way_3'] = cond3*1\n",
    "jiben['salary_way_4'] = cond4*1"
   ]
  },
  {
   "cell_type": "markdown",
   "metadata": {},
   "source": [
    "**现工龄**"
   ]
  },
  {
   "cell_type": "code",
   "execution_count": 25,
   "metadata": {},
   "outputs": [],
   "source": [
    "workage = Step1('var_jb_40',{},{})\n",
    "step2_num(workage[0],'var_jb_40','workage')"
   ]
  },
  {
   "cell_type": "markdown",
   "metadata": {},
   "source": [
    "**证件类型**"
   ]
  },
  {
   "cell_type": "code",
   "execution_count": 145,
   "metadata": {},
   "outputs": [
    {
     "data": {
      "text/html": [
       "<div>\n",
       "<style scoped>\n",
       "    .dataframe tbody tr th:only-of-type {\n",
       "        vertical-align: middle;\n",
       "    }\n",
       "\n",
       "    .dataframe tbody tr th {\n",
       "        vertical-align: top;\n",
       "    }\n",
       "\n",
       "    .dataframe thead th {\n",
       "        text-align: right;\n",
       "    }\n",
       "</style>\n",
       "<table border=\"1\" class=\"dataframe\">\n",
       "  <thead>\n",
       "    <tr style=\"text-align: right;\">\n",
       "      <th></th>\n",
       "      <th>0</th>\n",
       "    </tr>\n",
       "  </thead>\n",
       "  <tbody>\n",
       "    <tr>\n",
       "      <th>5.0</th>\n",
       "      <td>0.000000</td>\n",
       "    </tr>\n",
       "    <tr>\n",
       "      <th>1.0</th>\n",
       "      <td>0.124677</td>\n",
       "    </tr>\n",
       "    <tr>\n",
       "      <th>nan</th>\n",
       "      <td>0.150470</td>\n",
       "    </tr>\n",
       "  </tbody>\n",
       "</table>\n",
       "</div>"
      ],
      "text/plain": [
       "            0\n",
       "5.0  0.000000\n",
       "1.0  0.124677\n",
       "nan  0.150470"
      ]
     },
     "execution_count": 145,
     "metadata": {},
     "output_type": "execute_result"
    }
   ],
   "source": [
    "id_type = Step1('var_jb_41',{},{})\n",
    "id_type[0]"
   ]
  },
  {
   "cell_type": "code",
   "execution_count": 146,
   "metadata": {},
   "outputs": [],
   "source": [
    "cond1 = jiben['var_jb_41'].isnull()==True\n",
    "jiben['id_type_nan'] = cond1*1"
   ]
  },
  {
   "cell_type": "markdown",
   "metadata": {},
   "source": [
    "**前工龄**"
   ]
  },
  {
   "cell_type": "code",
   "execution_count": 6,
   "metadata": {},
   "outputs": [],
   "source": [
    "former_workage = Step1('var_jb_42',{},{})\n",
    "step2_num(former_workage[0],'var_jb_42','former_workage')"
   ]
  },
  {
   "cell_type": "code",
   "execution_count": 20,
   "metadata": {},
   "outputs": [
    {
     "data": {
      "text/html": [
       "<div>\n",
       "<style scoped>\n",
       "    .dataframe tbody tr th:only-of-type {\n",
       "        vertical-align: middle;\n",
       "    }\n",
       "\n",
       "    .dataframe tbody tr th {\n",
       "        vertical-align: top;\n",
       "    }\n",
       "\n",
       "    .dataframe thead th {\n",
       "        text-align: right;\n",
       "    }\n",
       "</style>\n",
       "<table border=\"1\" class=\"dataframe\">\n",
       "  <thead>\n",
       "    <tr style=\"text-align: right;\">\n",
       "      <th></th>\n",
       "      <th>0</th>\n",
       "    </tr>\n",
       "  </thead>\n",
       "  <tbody>\n",
       "    <tr>\n",
       "      <th>-50.0</th>\n",
       "      <td>0.000000</td>\n",
       "    </tr>\n",
       "    <tr>\n",
       "      <th>-11.0</th>\n",
       "      <td>0.029851</td>\n",
       "    </tr>\n",
       "    <tr>\n",
       "      <th>99.0</th>\n",
       "      <td>0.036563</td>\n",
       "    </tr>\n",
       "    <tr>\n",
       "      <th>-9.0</th>\n",
       "      <td>0.043956</td>\n",
       "    </tr>\n",
       "    <tr>\n",
       "      <th>-26.0</th>\n",
       "      <td>0.050000</td>\n",
       "    </tr>\n",
       "    <tr>\n",
       "      <th>-8.0</th>\n",
       "      <td>0.050193</td>\n",
       "    </tr>\n",
       "    <tr>\n",
       "      <th>-91.0</th>\n",
       "      <td>0.052941</td>\n",
       "    </tr>\n",
       "    <tr>\n",
       "      <th>-86.0</th>\n",
       "      <td>0.054545</td>\n",
       "    </tr>\n",
       "    <tr>\n",
       "      <th>-17.0</th>\n",
       "      <td>0.055556</td>\n",
       "    </tr>\n",
       "    <tr>\n",
       "      <th>-12.0</th>\n",
       "      <td>0.058140</td>\n",
       "    </tr>\n",
       "    <tr>\n",
       "      <th>-10.0</th>\n",
       "      <td>0.058685</td>\n",
       "    </tr>\n",
       "    <tr>\n",
       "      <th>-18.0</th>\n",
       "      <td>0.061224</td>\n",
       "    </tr>\n",
       "    <tr>\n",
       "      <th>-6.0</th>\n",
       "      <td>0.061810</td>\n",
       "    </tr>\n",
       "    <tr>\n",
       "      <th>-81.0</th>\n",
       "      <td>0.062500</td>\n",
       "    </tr>\n",
       "    <tr>\n",
       "      <th>-15.0</th>\n",
       "      <td>0.066038</td>\n",
       "    </tr>\n",
       "    <tr>\n",
       "      <th>-98.0</th>\n",
       "      <td>0.069065</td>\n",
       "    </tr>\n",
       "    <tr>\n",
       "      <th>-95.0</th>\n",
       "      <td>0.072289</td>\n",
       "    </tr>\n",
       "    <tr>\n",
       "      <th>-30.0</th>\n",
       "      <td>0.072289</td>\n",
       "    </tr>\n",
       "    <tr>\n",
       "      <th>-87.0</th>\n",
       "      <td>0.076923</td>\n",
       "    </tr>\n",
       "    <tr>\n",
       "      <th>-90.0</th>\n",
       "      <td>0.079646</td>\n",
       "    </tr>\n",
       "    <tr>\n",
       "      <th>-85.0</th>\n",
       "      <td>0.081633</td>\n",
       "    </tr>\n",
       "    <tr>\n",
       "      <th>-7.0</th>\n",
       "      <td>0.082677</td>\n",
       "    </tr>\n",
       "    <tr>\n",
       "      <th>-92.0</th>\n",
       "      <td>0.083916</td>\n",
       "    </tr>\n",
       "    <tr>\n",
       "      <th>-13.0</th>\n",
       "      <td>0.086207</td>\n",
       "    </tr>\n",
       "    <tr>\n",
       "      <th>-99.0</th>\n",
       "      <td>0.087121</td>\n",
       "    </tr>\n",
       "    <tr>\n",
       "      <th>-83.0</th>\n",
       "      <td>0.088235</td>\n",
       "    </tr>\n",
       "    <tr>\n",
       "      <th>-20.0</th>\n",
       "      <td>0.088435</td>\n",
       "    </tr>\n",
       "    <tr>\n",
       "      <th>-94.0</th>\n",
       "      <td>0.089552</td>\n",
       "    </tr>\n",
       "    <tr>\n",
       "      <th>-14.0</th>\n",
       "      <td>0.090909</td>\n",
       "    </tr>\n",
       "    <tr>\n",
       "      <th>-75.0</th>\n",
       "      <td>0.090909</td>\n",
       "    </tr>\n",
       "    <tr>\n",
       "      <th>-93.0</th>\n",
       "      <td>0.094118</td>\n",
       "    </tr>\n",
       "    <tr>\n",
       "      <th>-21.0</th>\n",
       "      <td>0.095238</td>\n",
       "    </tr>\n",
       "    <tr>\n",
       "      <th>-78.0</th>\n",
       "      <td>0.096774</td>\n",
       "    </tr>\n",
       "    <tr>\n",
       "      <th>-72.0</th>\n",
       "      <td>0.100000</td>\n",
       "    </tr>\n",
       "    <tr>\n",
       "      <th>20.0</th>\n",
       "      <td>0.100701</td>\n",
       "    </tr>\n",
       "    <tr>\n",
       "      <th>-4.0</th>\n",
       "      <td>0.101479</td>\n",
       "    </tr>\n",
       "    <tr>\n",
       "      <th>-97.0</th>\n",
       "      <td>0.101739</td>\n",
       "    </tr>\n",
       "    <tr>\n",
       "      <th>0.0</th>\n",
       "      <td>0.102050</td>\n",
       "    </tr>\n",
       "    <tr>\n",
       "      <th>10.0</th>\n",
       "      <td>0.105593</td>\n",
       "    </tr>\n",
       "    <tr>\n",
       "      <th>-96.0</th>\n",
       "      <td>0.106007</td>\n",
       "    </tr>\n",
       "    <tr>\n",
       "      <th>-16.0</th>\n",
       "      <td>0.107143</td>\n",
       "    </tr>\n",
       "    <tr>\n",
       "      <th>-5.0</th>\n",
       "      <td>0.107193</td>\n",
       "    </tr>\n",
       "    <tr>\n",
       "      <th>-89.0</th>\n",
       "      <td>0.110132</td>\n",
       "    </tr>\n",
       "    <tr>\n",
       "      <th>-24.0</th>\n",
       "      <td>0.111111</td>\n",
       "    </tr>\n",
       "    <tr>\n",
       "      <th>-3.0</th>\n",
       "      <td>0.113199</td>\n",
       "    </tr>\n",
       "    <tr>\n",
       "      <th>15.0</th>\n",
       "      <td>0.113292</td>\n",
       "    </tr>\n",
       "    <tr>\n",
       "      <th>-84.0</th>\n",
       "      <td>0.114583</td>\n",
       "    </tr>\n",
       "    <tr>\n",
       "      <th>-23.0</th>\n",
       "      <td>0.115385</td>\n",
       "    </tr>\n",
       "    <tr>\n",
       "      <th>1.0</th>\n",
       "      <td>0.117361</td>\n",
       "    </tr>\n",
       "    <tr>\n",
       "      <th>-27.0</th>\n",
       "      <td>0.117647</td>\n",
       "    </tr>\n",
       "  </tbody>\n",
       "</table>\n",
       "</div>"
      ],
      "text/plain": [
       "              0\n",
       "-50.0  0.000000\n",
       "-11.0  0.029851\n",
       " 99.0  0.036563\n",
       "-9.0   0.043956\n",
       "-26.0  0.050000\n",
       "-8.0   0.050193\n",
       "-91.0  0.052941\n",
       "-86.0  0.054545\n",
       "-17.0  0.055556\n",
       "-12.0  0.058140\n",
       "-10.0  0.058685\n",
       "-18.0  0.061224\n",
       "-6.0   0.061810\n",
       "-81.0  0.062500\n",
       "-15.0  0.066038\n",
       "-98.0  0.069065\n",
       "-95.0  0.072289\n",
       "-30.0  0.072289\n",
       "-87.0  0.076923\n",
       "-90.0  0.079646\n",
       "-85.0  0.081633\n",
       "-7.0   0.082677\n",
       "-92.0  0.083916\n",
       "-13.0  0.086207\n",
       "-99.0  0.087121\n",
       "-83.0  0.088235\n",
       "-20.0  0.088435\n",
       "-94.0  0.089552\n",
       "-14.0  0.090909\n",
       "-75.0  0.090909\n",
       "-93.0  0.094118\n",
       "-21.0  0.095238\n",
       "-78.0  0.096774\n",
       "-72.0  0.100000\n",
       " 20.0  0.100701\n",
       "-4.0   0.101479\n",
       "-97.0  0.101739\n",
       " 0.0   0.102050\n",
       " 10.0  0.105593\n",
       "-96.0  0.106007\n",
       "-16.0  0.107143\n",
       "-5.0   0.107193\n",
       "-89.0  0.110132\n",
       "-24.0  0.111111\n",
       "-3.0   0.113199\n",
       " 15.0  0.113292\n",
       "-84.0  0.114583\n",
       "-23.0  0.115385\n",
       " 1.0   0.117361\n",
       "-27.0  0.117647"
      ]
     },
     "execution_count": 20,
     "metadata": {},
     "output_type": "execute_result"
    }
   ],
   "source": [
    "former_workage[0].iloc[50:100,:]"
   ]
  },
  {
   "cell_type": "markdown",
   "metadata": {},
   "source": [
    "**身份证有效期**"
   ]
  },
  {
   "cell_type": "code",
   "execution_count": 16,
   "metadata": {},
   "outputs": [],
   "source": [
    "id_date = Step1('var_jb_43',{},{})\n",
    "step2_num(id_date[0],'var_jb_43','id_date')"
   ]
  },
  {
   "cell_type": "code",
   "execution_count": 17,
   "metadata": {},
   "outputs": [
    {
     "data": {
      "text/html": [
       "<div>\n",
       "<style scoped>\n",
       "    .dataframe tbody tr th:only-of-type {\n",
       "        vertical-align: middle;\n",
       "    }\n",
       "\n",
       "    .dataframe tbody tr th {\n",
       "        vertical-align: top;\n",
       "    }\n",
       "\n",
       "    .dataframe thead th {\n",
       "        text-align: right;\n",
       "    }\n",
       "</style>\n",
       "<table border=\"1\" class=\"dataframe\">\n",
       "  <thead>\n",
       "    <tr style=\"text-align: right;\">\n",
       "      <th></th>\n",
       "      <th>0</th>\n",
       "    </tr>\n",
       "  </thead>\n",
       "  <tbody>\n",
       "    <tr>\n",
       "      <th>20600924.0</th>\n",
       "      <td>0.0</td>\n",
       "    </tr>\n",
       "    <tr>\n",
       "      <th>20390716.0</th>\n",
       "      <td>0.0</td>\n",
       "    </tr>\n",
       "    <tr>\n",
       "      <th>20600132.0</th>\n",
       "      <td>0.0</td>\n",
       "    </tr>\n",
       "    <tr>\n",
       "      <th>20561122.0</th>\n",
       "      <td>0.0</td>\n",
       "    </tr>\n",
       "    <tr>\n",
       "      <th>20400202.0</th>\n",
       "      <td>0.0</td>\n",
       "    </tr>\n",
       "    <tr>\n",
       "      <th>...</th>\n",
       "      <td>...</td>\n",
       "    </tr>\n",
       "    <tr>\n",
       "      <th>20470822.0</th>\n",
       "      <td>1.0</td>\n",
       "    </tr>\n",
       "    <tr>\n",
       "      <th>20391210.0</th>\n",
       "      <td>1.0</td>\n",
       "    </tr>\n",
       "    <tr>\n",
       "      <th>20451104.0</th>\n",
       "      <td>1.0</td>\n",
       "    </tr>\n",
       "    <tr>\n",
       "      <th>20390316.0</th>\n",
       "      <td>1.0</td>\n",
       "    </tr>\n",
       "    <tr>\n",
       "      <th>20480806.0</th>\n",
       "      <td>1.0</td>\n",
       "    </tr>\n",
       "  </tbody>\n",
       "</table>\n",
       "<p>4919 rows × 1 columns</p>\n",
       "</div>"
      ],
      "text/plain": [
       "              0\n",
       "20600924.0  0.0\n",
       "20390716.0  0.0\n",
       "20600132.0  0.0\n",
       "20561122.0  0.0\n",
       "20400202.0  0.0\n",
       "...         ...\n",
       "20470822.0  1.0\n",
       "20391210.0  1.0\n",
       "20451104.0  1.0\n",
       "20390316.0  1.0\n",
       "20480806.0  1.0\n",
       "\n",
       "[4919 rows x 1 columns]"
      ]
     },
     "execution_count": 17,
     "metadata": {},
     "output_type": "execute_result"
    }
   ],
   "source": [
    "id_date[0]"
   ]
  },
  {
   "cell_type": "markdown",
   "metadata": {},
   "source": [
    "**是否有人行征信报告**"
   ]
  },
  {
   "cell_type": "code",
   "execution_count": 149,
   "metadata": {},
   "outputs": [
    {
     "data": {
      "text/html": [
       "<div>\n",
       "<style scoped>\n",
       "    .dataframe tbody tr th:only-of-type {\n",
       "        vertical-align: middle;\n",
       "    }\n",
       "\n",
       "    .dataframe tbody tr th {\n",
       "        vertical-align: top;\n",
       "    }\n",
       "\n",
       "    .dataframe thead th {\n",
       "        text-align: right;\n",
       "    }\n",
       "</style>\n",
       "<table border=\"1\" class=\"dataframe\">\n",
       "  <thead>\n",
       "    <tr style=\"text-align: right;\">\n",
       "      <th></th>\n",
       "      <th>0</th>\n",
       "    </tr>\n",
       "  </thead>\n",
       "  <tbody>\n",
       "    <tr>\n",
       "      <th>1.0</th>\n",
       "      <td>0.122424</td>\n",
       "    </tr>\n",
       "    <tr>\n",
       "      <th>0.0</th>\n",
       "      <td>0.134500</td>\n",
       "    </tr>\n",
       "    <tr>\n",
       "      <th>nan</th>\n",
       "      <td>0.150470</td>\n",
       "    </tr>\n",
       "  </tbody>\n",
       "</table>\n",
       "</div>"
      ],
      "text/plain": [
       "            0\n",
       "1.0  0.122424\n",
       "0.0  0.134500\n",
       "nan  0.150470"
      ]
     },
     "execution_count": 149,
     "metadata": {},
     "output_type": "execute_result"
    }
   ],
   "source": [
    "whether_zhengxin = Step1('var_jb_44',{},{})\n",
    "whether_zhengxin[0]"
   ]
  },
  {
   "cell_type": "code",
   "execution_count": 150,
   "metadata": {},
   "outputs": [],
   "source": [
    "cond1 = jiben['var_jb_44'].isnull()==True\n",
    "jiben['whether_zhengxin_nan'] = cond1*1"
   ]
  },
  {
   "cell_type": "markdown",
   "metadata": {},
   "source": [
    "**毕业院校**"
   ]
  },
  {
   "cell_type": "code",
   "execution_count": 151,
   "metadata": {},
   "outputs": [],
   "source": [
    "cond1 = jiben['var_jb_45'].isnull()==True\n",
    "jiben['grad_school_nan']=cond1*1"
   ]
  },
  {
   "cell_type": "code",
   "execution_count": 152,
   "metadata": {},
   "outputs": [],
   "source": [
    "jiben_0422 = pd.concat([jiben[['id','bad']],jiben.iloc[:,101:]],axis=1)"
   ]
  },
  {
   "cell_type": "code",
   "execution_count": 153,
   "metadata": {},
   "outputs": [],
   "source": [
    "jiben_0422.to_csv('jiben_0424NOON.csv',index=False)"
   ]
  },
  {
   "cell_type": "code",
   "execution_count": 147,
   "metadata": {},
   "outputs": [],
   "source": [
    "kept_original_cols = ['id','bad']+['var_jb_1','var_jb_9','var_jb_20',\n",
    "                      'var_jb_21','var_jb_22','var_jb_23',\n",
    "                      'var_jb_24','var_jb_25','var_jb_26',\n",
    "                      'var_jb_27','var_jb_28','var_jb_29',\n",
    "                      'var_jb_30','var_jb_34','var_jb_35',\n",
    "                      'var_jb_37','var_jb_40']"
   ]
  }
 ],
 "metadata": {
  "kernelspec": {
   "display_name": "Python 3",
   "language": "python",
   "name": "python3"
  },
  "language_info": {
   "codemirror_mode": {
    "name": "ipython",
    "version": 3
   },
   "file_extension": ".py",
   "mimetype": "text/x-python",
   "name": "python",
   "nbconvert_exporter": "python",
   "pygments_lexer": "ipython3",
   "version": "3.7.6"
  }
 },
 "nbformat": 4,
 "nbformat_minor": 4
}
