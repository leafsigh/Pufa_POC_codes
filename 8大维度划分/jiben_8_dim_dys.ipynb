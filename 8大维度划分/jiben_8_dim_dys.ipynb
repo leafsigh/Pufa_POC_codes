{
 "cells": [
  {
   "cell_type": "code",
   "execution_count": 61,
   "metadata": {},
   "outputs": [],
   "source": [
    "import pandas as pd\n",
    "import numpy as np\n",
    "import Memory as mm\n",
    "import time\n",
    "from scipy.stats import chi2_contingency\n",
    "\n",
    "pd.set_option('display.max_rows', 300)\n",
    "pd.set_option('display.max_columns', 100)"
   ]
  },
  {
   "cell_type": "code",
   "execution_count": 42,
   "metadata": {},
   "outputs": [
    {
     "name": "stdout",
     "output_type": "stream",
     "text": [
      "Reduce Memory Usage Function Reports:\n",
      "Memory usage of dataframe is 1259.57 MB\n",
      "Memory usage after optimization is: 869.85 MB\n",
      "Decreased by 30.9%\n",
      " \n"
     ]
    }
   ],
   "source": [
    "jiben = pd.read_csv('refer/jiben_vars_new_20200424.csv',skiprows=list(range(779441,779509)),\n",
    "                    encoding=\"ISO-8859-1\",error_bad_lines=False,low_memory=False)\n",
    "jiben = mm.reduce_mem_usage(jiben)\n",
    "strange_bad = jiben['bad'].value_counts().index[-1]\n",
    "jiben['bad'].replace({strange_bad:'N'},inplace=True)\n",
    "jiben['bad'].fillna('N',inplace=True)"
   ]
  },
  {
   "cell_type": "code",
   "execution_count": 43,
   "metadata": {},
   "outputs": [
    {
     "data": {
      "text/plain": [
       "(1634600, 101)"
      ]
     },
     "execution_count": 43,
     "metadata": {},
     "output_type": "execute_result"
    }
   ],
   "source": [
    "jiben.shape"
   ]
  },
  {
   "cell_type": "code",
   "execution_count": 9,
   "metadata": {},
   "outputs": [],
   "source": [
    "def Exploration(df,almost_empty=0.9):\n",
    "\n",
    "    start = time.time()\n",
    "    \n",
    "    n,m = df.shape[0],df.shape[1] \n",
    "    dtypes = pd.DataFrame(df.dtypes)\n",
    "    \n",
    "    # Missing Values, Nunique, Data Type\n",
    "    dtypes.columns = ['data types']\n",
    "    null = pd.DataFrame(df.isnull().sum())\n",
    "    null.columns = ['none cnt']\n",
    "    null['none percentage'] = (null['none cnt']/n).apply(lambda x: \"{0:.2f}%\".format(x * 100))\n",
    "    null['empty'] = 1*(null['none cnt']==n)\n",
    "    null['>='+str(int(almost_empty*100))+'% empty']=1*(null['none cnt']/n>=almost_empty)\n",
    "    \n",
    "    nunique = pd.DataFrame(df.nunique())\n",
    "    nunique.columns = ['n_unique']\n",
    "    \n",
    "    exploration = pd.concat([dtypes,null,nunique],axis=1)\n",
    "    \n",
    "    \n",
    "    \n",
    "    end = time.time()\n",
    "    \n",
    "    print('function finished one time, time cost {}seconds'.format(np.round(end-start,2)))\n",
    "    \n",
    "#   return [exploration,total_dup_cnt,unique_dup_cnt]\n",
    "    return exploration"
   ]
  },
  {
   "cell_type": "code",
   "execution_count": 10,
   "metadata": {},
   "outputs": [
    {
     "name": "stdout",
     "output_type": "stream",
     "text": [
      "function finished one time, time cost 14.84seconds\n"
     ]
    }
   ],
   "source": [
    "jiben_exp = Exploration(jiben)"
   ]
  },
  {
   "cell_type": "code",
   "execution_count": 11,
   "metadata": {},
   "outputs": [],
   "source": [
    "jiben_exp.to_csv('basic_info.csv',index=False)"
   ]
  },
  {
   "cell_type": "code",
   "execution_count": 44,
   "metadata": {},
   "outputs": [],
   "source": [
    "vars_list = ['var_jb_86','var_jb_9','var_jb_39','var_jb_16','var_jb_2','var_jb_98','var_jb_82','var_jb_83',\n",
    "             'var_jb_87','var_jb_78','var_jb_81','var_jb_76','var_jb_77','var_jb_93','var_jb_94']"
   ]
  },
  {
   "cell_type": "code",
   "execution_count": 45,
   "metadata": {},
   "outputs": [],
   "source": [
    "shebao = pd.DataFrame(jiben['var_jb_86'].isnull()*1)\n",
    "shebao.columns=['社保信息']"
   ]
  },
  {
   "cell_type": "code",
   "execution_count": 46,
   "metadata": {},
   "outputs": [],
   "source": [
    "gongzi = jiben[['var_jb_9','var_jb_39']].isnull()*1\n",
    "gongzi['工资信息'] = 1*((gongzi['var_jb_9']+gongzi['var_jb_39'])>0)"
   ]
  },
  {
   "cell_type": "code",
   "execution_count": 47,
   "metadata": {},
   "outputs": [],
   "source": [
    "jinjian = pd.DataFrame(jiben['var_jb_16'].isnull()*1)\n",
    "jinjian.columns = ['进件信息']"
   ]
  },
  {
   "cell_type": "code",
   "execution_count": 48,
   "metadata": {},
   "outputs": [],
   "source": [
    "quyu = pd.DataFrame(jiben['var_jb_17'].isnull()*1)\n",
    "quyu.columns = ['活动区域行为特征']"
   ]
  },
  {
   "cell_type": "code",
   "execution_count": 49,
   "metadata": {},
   "outputs": [],
   "source": [
    "qudao = jiben[['var_jb_2','var_jb_98','var_jb_31']].isnull()*1\n",
    "qudao['渠道服务信息'] = 1*((qudao['var_jb_2']+qudao['var_jb_98']+qudao['var_jb_31'])>0)"
   ]
  },
  {
   "cell_type": "code",
   "execution_count": 50,
   "metadata": {},
   "outputs": [],
   "source": [
    "yuangong = jiben[['var_jb_82','var_jb_83','var_jb_87','var_jb_78','var_jb_81',\n",
    "                  'var_jb_42','var_jb_40','var_jb_79','var_jb_80']].isnull()*1\n",
    "yuangong['员工管理数据'] = 1*(yuangong.sum(axis=1)>0)"
   ]
  },
  {
   "cell_type": "code",
   "execution_count": 51,
   "metadata": {},
   "outputs": [],
   "source": [
    "qiye = jiben[['var_jb_76','var_jb_77','var_jb_93','var_jb_94']].isnull()*1\n",
    "qiye['企业外部评价数据'] = 1*(qiye.sum(axis=1)>0)"
   ]
  },
  {
   "cell_type": "code",
   "execution_count": 52,
   "metadata": {},
   "outputs": [],
   "source": [
    "chanpin = pd.DataFrame(jiben['var_jb_15'].isnull()*1)\n",
    "chanpin.columns = ['产品信息']"
   ]
  },
  {
   "cell_type": "code",
   "execution_count": 53,
   "metadata": {},
   "outputs": [],
   "source": [
    "fengxian = jiben[['var_jb_30','var_jb_57']].isnull()*1\n",
    "fengxian['风险特征'] = 1*(fengxian.sum(axis=1)>0)"
   ]
  },
  {
   "cell_type": "code",
   "execution_count": 55,
   "metadata": {},
   "outputs": [],
   "source": [
    "id_bads = jiben[['id','bad']]"
   ]
  },
  {
   "cell_type": "code",
   "execution_count": 56,
   "metadata": {},
   "outputs": [],
   "source": [
    "combined = pd.concat([id_bads,shebao,gongzi['工资信息'],jinjian,quyu,\n",
    "                      qudao['渠道服务信息'],yuangong['员工管理数据'],qiye['企业外部评价数据'],\n",
    "                      chanpin,fengxian['风险特征']],axis=1)"
   ]
  },
  {
   "cell_type": "code",
   "execution_count": 57,
   "metadata": {},
   "outputs": [
    {
     "data": {
      "text/html": [
       "<div>\n",
       "<style scoped>\n",
       "    .dataframe tbody tr th:only-of-type {\n",
       "        vertical-align: middle;\n",
       "    }\n",
       "\n",
       "    .dataframe tbody tr th {\n",
       "        vertical-align: top;\n",
       "    }\n",
       "\n",
       "    .dataframe thead th {\n",
       "        text-align: right;\n",
       "    }\n",
       "</style>\n",
       "<table border=\"1\" class=\"dataframe\">\n",
       "  <thead>\n",
       "    <tr style=\"text-align: right;\">\n",
       "      <th></th>\n",
       "      <th>id</th>\n",
       "      <th>bad</th>\n",
       "      <th>社保信息</th>\n",
       "      <th>工资信息</th>\n",
       "      <th>进件信息</th>\n",
       "      <th>活动区域行为特征</th>\n",
       "      <th>渠道服务信息</th>\n",
       "      <th>员工管理数据</th>\n",
       "      <th>企业外部评价数据</th>\n",
       "      <th>产品信息</th>\n",
       "      <th>风险特征</th>\n",
       "    </tr>\n",
       "  </thead>\n",
       "  <tbody>\n",
       "    <tr>\n",
       "      <th>0</th>\n",
       "      <td>56a13c06ee2f2a0db827d0d9450213d3</td>\n",
       "      <td>G</td>\n",
       "      <td>0</td>\n",
       "      <td>0</td>\n",
       "      <td>0</td>\n",
       "      <td>0</td>\n",
       "      <td>0</td>\n",
       "      <td>1</td>\n",
       "      <td>1</td>\n",
       "      <td>0</td>\n",
       "      <td>1</td>\n",
       "    </tr>\n",
       "    <tr>\n",
       "      <th>1</th>\n",
       "      <td>c6342448d324d0e99e0d89175a2da335</td>\n",
       "      <td>G</td>\n",
       "      <td>0</td>\n",
       "      <td>1</td>\n",
       "      <td>0</td>\n",
       "      <td>0</td>\n",
       "      <td>0</td>\n",
       "      <td>1</td>\n",
       "      <td>1</td>\n",
       "      <td>0</td>\n",
       "      <td>1</td>\n",
       "    </tr>\n",
       "    <tr>\n",
       "      <th>2</th>\n",
       "      <td>82e5383d3b794f2555dadb7e37e9108e</td>\n",
       "      <td>G</td>\n",
       "      <td>0</td>\n",
       "      <td>1</td>\n",
       "      <td>0</td>\n",
       "      <td>0</td>\n",
       "      <td>0</td>\n",
       "      <td>1</td>\n",
       "      <td>1</td>\n",
       "      <td>0</td>\n",
       "      <td>1</td>\n",
       "    </tr>\n",
       "    <tr>\n",
       "      <th>3</th>\n",
       "      <td>a5e91382fc770d3bf1c3845d113d85a5</td>\n",
       "      <td>G</td>\n",
       "      <td>0</td>\n",
       "      <td>1</td>\n",
       "      <td>0</td>\n",
       "      <td>0</td>\n",
       "      <td>0</td>\n",
       "      <td>1</td>\n",
       "      <td>1</td>\n",
       "      <td>0</td>\n",
       "      <td>1</td>\n",
       "    </tr>\n",
       "    <tr>\n",
       "      <th>4</th>\n",
       "      <td>57e97bcbc4090d25d1c783fcb071b6df</td>\n",
       "      <td>G</td>\n",
       "      <td>0</td>\n",
       "      <td>1</td>\n",
       "      <td>0</td>\n",
       "      <td>0</td>\n",
       "      <td>0</td>\n",
       "      <td>1</td>\n",
       "      <td>1</td>\n",
       "      <td>0</td>\n",
       "      <td>1</td>\n",
       "    </tr>\n",
       "  </tbody>\n",
       "</table>\n",
       "</div>"
      ],
      "text/plain": [
       "                                 id bad  社保信息  工资信息  进件信息  活动区域行为特征  渠道服务信息  \\\n",
       "0  56a13c06ee2f2a0db827d0d9450213d3   G     0     0     0         0       0   \n",
       "1  c6342448d324d0e99e0d89175a2da335   G     0     1     0         0       0   \n",
       "2  82e5383d3b794f2555dadb7e37e9108e   G     0     1     0         0       0   \n",
       "3  a5e91382fc770d3bf1c3845d113d85a5   G     0     1     0         0       0   \n",
       "4  57e97bcbc4090d25d1c783fcb071b6df   G     0     1     0         0       0   \n",
       "\n",
       "   员工管理数据  企业外部评价数据  产品信息  风险特征  \n",
       "0       1         1     0     1  \n",
       "1       1         1     0     1  \n",
       "2       1         1     0     1  \n",
       "3       1         1     0     1  \n",
       "4       1         1     0     1  "
      ]
     },
     "execution_count": 57,
     "metadata": {},
     "output_type": "execute_result"
    }
   ],
   "source": [
    "combined.head()"
   ]
  },
  {
   "cell_type": "code",
   "execution_count": 58,
   "metadata": {},
   "outputs": [],
   "source": [
    "combined.to_csv('outside_data_my_part_0429.csv',index=False)"
   ]
  },
  {
   "cell_type": "code",
   "execution_count": null,
   "metadata": {},
   "outputs": [],
   "source": []
  },
  {
   "cell_type": "code",
   "execution_count": null,
   "metadata": {},
   "outputs": [],
   "source": []
  }
 ],
 "metadata": {
  "kernelspec": {
   "display_name": "Python 3",
   "language": "python",
   "name": "python3"
  },
  "language_info": {
   "codemirror_mode": {
    "name": "ipython",
    "version": 3
   },
   "file_extension": ".py",
   "mimetype": "text/x-python",
   "name": "python",
   "nbconvert_exporter": "python",
   "pygments_lexer": "ipython3",
   "version": "3.7.4"
  }
 },
 "nbformat": 4,
 "nbformat_minor": 4
}
